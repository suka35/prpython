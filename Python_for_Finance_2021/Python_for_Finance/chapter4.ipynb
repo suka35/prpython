{
 "cells": [
  {
   "cell_type": "markdown",
   "metadata": {
    "id": "_t84McTSDOSv"
   },
   "source": [
    "구글 드라이브 불러오기"
   ]
  },
  {
   "cell_type": "code",
   "execution_count": 1,
   "metadata": {
    "colab": {
     "base_uri": "https://localhost:8080/"
    },
    "executionInfo": {
     "elapsed": 20867,
     "status": "ok",
     "timestamp": 1608353326129,
     "user": {
      "displayName": "Sunghan Kim",
      "photoUrl": "",
      "userId": "06756175428501663555"
     },
     "user_tz": -540
    },
    "id": "UWKIvy_FUwzv",
    "outputId": "49ed5516-cd80-471f-8124-6c73586f064d"
   },
   "outputs": [
    {
     "name": "stdout",
     "output_type": "stream",
     "text": [
      "Mounted at /content/drive\n"
     ]
    }
   ],
   "source": [
    "from google.colab import drive\n",
    "drive.mount('/content/drive')"
   ]
  },
  {
   "cell_type": "markdown",
   "metadata": {
    "id": "BsrcYOb-U7gz"
   },
   "source": [
    "### Arrays of Data\n",
    "\n"
   ]
  },
  {
   "cell_type": "markdown",
   "metadata": {
    "id": "m_FVFDCuz-Ge"
   },
   "source": [
    "#### Arrays with Python Lists"
   ]
  },
  {
   "cell_type": "code",
   "execution_count": 3,
   "metadata": {
    "executionInfo": {
     "elapsed": 508,
     "status": "ok",
     "timestamp": 1608354981068,
     "user": {
      "displayName": "Sunghan Kim",
      "photoUrl": "",
      "userId": "06756175428501663555"
     },
     "user_tz": -540
    },
    "id": "mgAD_7pmZPfs"
   },
   "outputs": [],
   "source": [
    "v = [0.5, 0.75, 1.0, 1.5, 2.0] # list"
   ]
  },
  {
   "cell_type": "code",
   "execution_count": 4,
   "metadata": {
    "colab": {
     "base_uri": "https://localhost:8080/"
    },
    "executionInfo": {
     "elapsed": 617,
     "status": "ok",
     "timestamp": 1608355013113,
     "user": {
      "displayName": "Sunghan Kim",
      "photoUrl": "",
      "userId": "06756175428501663555"
     },
     "user_tz": -540
    },
    "id": "SLXfxZs2bWKH",
    "outputId": "3bd64dd5-492e-4ada-c0b7-6f5488b1866a"
   },
   "outputs": [
    {
     "data": {
      "text/plain": [
       "[[0.5, 0.75, 1.6, 1.5, 2.0],\n",
       " [0.5, 0.75, 1.6, 1.5, 2.0],\n",
       " [0.5, 0.75, 1.6, 1.5, 2.0]]"
      ]
     },
     "execution_count": 4,
     "metadata": {},
     "output_type": "execute_result"
    }
   ],
   "source": [
    "m = [v, v, v]\n",
    "m"
   ]
  },
  {
   "cell_type": "code",
   "execution_count": 5,
   "metadata": {
    "colab": {
     "base_uri": "https://localhost:8080/"
    },
    "executionInfo": {
     "elapsed": 552,
     "status": "ok",
     "timestamp": 1608355021253,
     "user": {
      "displayName": "Sunghan Kim",
      "photoUrl": "",
      "userId": "06756175428501663555"
     },
     "user_tz": -540
    },
    "id": "UwmswJagbdBA",
    "outputId": "de616cec-210a-44de-b562-1ac8b4f59964"
   },
   "outputs": [
    {
     "data": {
      "text/plain": [
       "[0.5, 0.75, 1.0, 1.5, 2.0]"
      ]
     },
     "execution_count": 5,
     "metadata": {
      "tags": []
     },
     "output_type": "execute_result"
    }
   ],
   "source": [
    "m[1]"
   ]
  },
  {
   "cell_type": "code",
   "execution_count": 10,
   "metadata": {
    "colab": {
     "base_uri": "https://localhost:8080/"
    },
    "executionInfo": {
     "elapsed": 546,
     "status": "ok",
     "timestamp": 1608355060048,
     "user": {
      "displayName": "Sunghan Kim",
      "photoUrl": "",
      "userId": "06756175428501663555"
     },
     "user_tz": -540
    },
    "id": "WHrFw0mEbf9f",
    "outputId": "8252a5a9-27ae-49ff-d052-01cdc6fb3aab"
   },
   "outputs": [
    {
     "data": {
      "text/plain": [
       "0.5"
      ]
     },
     "execution_count": 10,
     "metadata": {
      "tags": []
     },
     "output_type": "execute_result"
    }
   ],
   "source": [
    "m[1][0]"
   ]
  },
  {
   "cell_type": "code",
   "execution_count": 11,
   "metadata": {
    "colab": {
     "base_uri": "https://localhost:8080/"
    },
    "executionInfo": {
     "elapsed": 725,
     "status": "ok",
     "timestamp": 1608355093648,
     "user": {
      "displayName": "Sunghan Kim",
      "photoUrl": "",
      "userId": "06756175428501663555"
     },
     "user_tz": -540
    },
    "id": "Vm3cGWTLbjUG",
    "outputId": "24b0f1a8-7766-4fb1-b63c-cd093dce825f"
   },
   "outputs": [
    {
     "data": {
      "text/plain": [
       "[[[0.5, 1.5], [1, 2]], [[0.5, 1.5], [1, 2]]]"
      ]
     },
     "execution_count": 11,
     "metadata": {
      "tags": []
     },
     "output_type": "execute_result"
    }
   ],
   "source": [
    "v1 = [0.5, 1.5]\n",
    "v2 = [1,2]\n",
    "m = [v1, v2]\n",
    "c = [m, m]\n",
    "c"
   ]
  },
  {
   "cell_type": "code",
   "execution_count": 12,
   "metadata": {
    "colab": {
     "base_uri": "https://localhost:8080/"
    },
    "executionInfo": {
     "elapsed": 515,
     "status": "ok",
     "timestamp": 1608355110965,
     "user": {
      "displayName": "Sunghan Kim",
      "photoUrl": "",
      "userId": "06756175428501663555"
     },
     "user_tz": -540
    },
    "id": "qwyd6x2KbxmW",
    "outputId": "844eb789-eb48-42d3-b3b4-3ae212d76297"
   },
   "outputs": [
    {
     "data": {
      "text/plain": [
       "1"
      ]
     },
     "execution_count": 12,
     "metadata": {
      "tags": []
     },
     "output_type": "execute_result"
    }
   ],
   "source": [
    "c[1][1][0]"
   ]
  },
  {
   "cell_type": "code",
   "execution_count": 13,
   "metadata": {
    "colab": {
     "base_uri": "https://localhost:8080/"
    },
    "executionInfo": {
     "elapsed": 505,
     "status": "ok",
     "timestamp": 1608355137739,
     "user": {
      "displayName": "Sunghan Kim",
      "photoUrl": "",
      "userId": "06756175428501663555"
     },
     "user_tz": -540
    },
    "id": "jn7LyuvHb13_",
    "outputId": "781619c7-6564-4411-d524-b5d767ba356e"
   },
   "outputs": [
    {
     "data": {
      "text/plain": [
       "[[0.5, 0.75, 1.0, 1.5, 2.0],\n",
       " [0.5, 0.75, 1.0, 1.5, 2.0],\n",
       " [0.5, 0.75, 1.0, 1.5, 2.0]]"
      ]
     },
     "execution_count": 13,
     "metadata": {
      "tags": []
     },
     "output_type": "execute_result"
    }
   ],
   "source": [
    "v = [0.5, 0.75, 1.0, 1.5, 2.0]\n",
    "m = [v, v, v]\n",
    "m"
   ]
  },
  {
   "cell_type": "code",
   "execution_count": 14,
   "metadata": {
    "colab": {
     "base_uri": "https://localhost:8080/"
    },
    "executionInfo": {
     "elapsed": 707,
     "status": "ok",
     "timestamp": 1608355157508,
     "user": {
      "displayName": "Sunghan Kim",
      "photoUrl": "",
      "userId": "06756175428501663555"
     },
     "user_tz": -540
    },
    "id": "xw6eV0qab8aO",
    "outputId": "733d9798-2229-4633-f49b-5fa22a6e9f2c"
   },
   "outputs": [
    {
     "data": {
      "text/plain": [
       "[['Python', 0.75, 1.0, 1.5, 2.0],\n",
       " ['Python', 0.75, 1.0, 1.5, 2.0],\n",
       " ['Python', 0.75, 1.0, 1.5, 2.0]]"
      ]
     },
     "execution_count": 14,
     "metadata": {
      "tags": []
     },
     "output_type": "execute_result"
    }
   ],
   "source": [
    "v[0] = 'Python'\n",
    "m"
   ]
  },
  {
   "cell_type": "code",
   "execution_count": 15,
   "metadata": {
    "colab": {
     "base_uri": "https://localhost:8080/"
    },
    "executionInfo": {
     "elapsed": 715,
     "status": "ok",
     "timestamp": 1608355346010,
     "user": {
      "displayName": "Sunghan Kim",
      "photoUrl": "",
      "userId": "06756175428501663555"
     },
     "user_tz": -540
    },
    "id": "M-US0wh0cBMH",
    "outputId": "a8e84d6a-cb91-4b9d-8b74-63badfeb1ebc"
   },
   "outputs": [
    {
     "data": {
      "text/plain": [
       "[[0.5, 0.75, 1.0, 1.5, 2.0],\n",
       " [0.5, 0.75, 1.0, 1.5, 2.0],\n",
       " [0.5, 0.75, 1.0, 1.5, 2.0]]"
      ]
     },
     "execution_count": 15,
     "metadata": {
      "tags": []
     },
     "output_type": "execute_result"
    }
   ],
   "source": [
    "from copy import deepcopy\n",
    "v = [0.5, 0.75, 1.0, 1.5, 2.0]\n",
    "m = 3 *[deepcopy(v), ]\n",
    "m"
   ]
  },
  {
   "cell_type": "code",
   "execution_count": 16,
   "metadata": {
    "colab": {
     "base_uri": "https://localhost:8080/"
    },
    "executionInfo": {
     "elapsed": 590,
     "status": "ok",
     "timestamp": 1608355359642,
     "user": {
      "displayName": "Sunghan Kim",
      "photoUrl": "",
      "userId": "06756175428501663555"
     },
     "user_tz": -540
    },
    "id": "zrzvmV02cvNf",
    "outputId": "71a7cd19-e1e0-40c7-b731-7a46afb59a1c"
   },
   "outputs": [
    {
     "data": {
      "text/plain": [
       "[[0.5, 0.75, 1.0, 1.5, 2.0],\n",
       " [0.5, 0.75, 1.0, 1.5, 2.0],\n",
       " [0.5, 0.75, 1.0, 1.5, 2.0]]"
      ]
     },
     "execution_count": 16,
     "metadata": {
      "tags": []
     },
     "output_type": "execute_result"
    }
   ],
   "source": [
    "v[0] = 'Python'\n",
    "m"
   ]
  },
  {
   "cell_type": "markdown",
   "metadata": {
    "id": "q8QuyELwc2sU"
   },
   "source": [
    "#### The Python array *Class*"
   ]
  },
  {
   "cell_type": "code",
   "execution_count": 17,
   "metadata": {
    "executionInfo": {
     "elapsed": 728,
     "status": "ok",
     "timestamp": 1608355416744,
     "user": {
      "displayName": "Sunghan Kim",
      "photoUrl": "",
      "userId": "06756175428501663555"
     },
     "user_tz": -540
    },
    "id": "vcU0pjp8cyj3"
   },
   "outputs": [],
   "source": [
    "v = [0.5, 0.75, 1.0, 1.5, 2.0]"
   ]
  },
  {
   "cell_type": "code",
   "execution_count": 19,
   "metadata": {
    "executionInfo": {
     "elapsed": 378,
     "status": "ok",
     "timestamp": 1608355586104,
     "user": {
      "displayName": "Sunghan Kim",
      "photoUrl": "",
      "userId": "06756175428501663555"
     },
     "user_tz": -540
    },
    "id": "4Wsb2gbvdAem"
   },
   "outputs": [],
   "source": [
    "import array"
   ]
  },
  {
   "cell_type": "code",
   "execution_count": 22,
   "metadata": {
    "colab": {
     "base_uri": "https://localhost:8080/"
    },
    "executionInfo": {
     "elapsed": 579,
     "status": "ok",
     "timestamp": 1608357837922,
     "user": {
      "displayName": "Sunghan Kim",
      "photoUrl": "",
      "userId": "06756175428501663555"
     },
     "user_tz": -540
    },
    "id": "qhSxkOvOdom-",
    "outputId": "41a803d1-c965-4eef-c487-cb2b2e280346"
   },
   "outputs": [
    {
     "data": {
      "text/plain": [
       "array('f', [0.5, 0.75, 1.0, 1.5, 2.0])"
      ]
     },
     "execution_count": 22,
     "metadata": {
      "tags": []
     },
     "output_type": "execute_result"
    }
   ],
   "source": [
    "a = array.array('f', v)\n",
    "a"
   ]
  },
  {
   "cell_type": "code",
   "execution_count": 24,
   "metadata": {
    "colab": {
     "base_uri": "https://localhost:8080/"
    },
    "executionInfo": {
     "elapsed": 602,
     "status": "ok",
     "timestamp": 1608357949288,
     "user": {
      "displayName": "Sunghan Kim",
      "photoUrl": "",
      "userId": "06756175428501663555"
     },
     "user_tz": -540
    },
    "id": "J2QzlfOrmNpd",
    "outputId": "94091a3d-0cc9-4c9d-c671-1b0425a9500a"
   },
   "outputs": [
    {
     "data": {
      "text/plain": [
       "array('f', [0.5, 0.75, 1.0, 1.5, 2.0, 0.5, 0.5])"
      ]
     },
     "execution_count": 24,
     "metadata": {
      "tags": []
     },
     "output_type": "execute_result"
    }
   ],
   "source": [
    "a.append(0.5)\n",
    "a"
   ]
  },
  {
   "cell_type": "code",
   "execution_count": 25,
   "metadata": {
    "colab": {
     "base_uri": "https://localhost:8080/"
    },
    "executionInfo": {
     "elapsed": 540,
     "status": "ok",
     "timestamp": 1608357980000,
     "user": {
      "displayName": "Sunghan Kim",
      "photoUrl": "",
      "userId": "06756175428501663555"
     },
     "user_tz": -540
    },
    "id": "7KLMu6_8mpMC",
    "outputId": "7cb7e748-a017-43b4-834f-41b65dedba67"
   },
   "outputs": [
    {
     "data": {
      "text/plain": [
       "array('f', [0.5, 0.75, 1.0, 1.5, 2.0, 0.5, 0.5, 5.0, 6.75])"
      ]
     },
     "execution_count": 25,
     "metadata": {
      "tags": []
     },
     "output_type": "execute_result"
    }
   ],
   "source": [
    "a.extend([5.0, 6.75])\n",
    "a"
   ]
  },
  {
   "cell_type": "code",
   "execution_count": 26,
   "metadata": {
    "colab": {
     "base_uri": "https://localhost:8080/"
    },
    "executionInfo": {
     "elapsed": 512,
     "status": "ok",
     "timestamp": 1608357985706,
     "user": {
      "displayName": "Sunghan Kim",
      "photoUrl": "",
      "userId": "06756175428501663555"
     },
     "user_tz": -540
    },
    "id": "kjuzwBiHmyUg",
    "outputId": "6b80646a-2229-4a2f-b3bc-10bb92b966ae"
   },
   "outputs": [
    {
     "data": {
      "text/plain": [
       "array('f', [0.5, 0.75, 1.0, 1.5, 2.0, 0.5, 0.5, 5.0, 6.75, 0.5, 0.75, 1.0, 1.5, 2.0, 0.5, 0.5, 5.0, 6.75])"
      ]
     },
     "execution_count": 26,
     "metadata": {
      "tags": []
     },
     "output_type": "execute_result"
    }
   ],
   "source": [
    "2*a"
   ]
  },
  {
   "cell_type": "code",
   "execution_count": 28,
   "metadata": {
    "colab": {
     "base_uri": "https://localhost:8080/"
    },
    "executionInfo": {
     "elapsed": 564,
     "status": "ok",
     "timestamp": 1608358025014,
     "user": {
      "displayName": "Sunghan Kim",
      "photoUrl": "",
      "userId": "06756175428501663555"
     },
     "user_tz": -540
    },
    "id": "TKbaSH-nmzt4",
    "outputId": "3a0aa2f1-388d-4ec2-af36-06407e3da2a5"
   },
   "outputs": [
    {
     "data": {
      "text/plain": [
       "[0.5, 0.75, 1.0, 1.5, 2.0, 0.5, 0.5, 5.0, 6.75]"
      ]
     },
     "execution_count": 28,
     "metadata": {
      "tags": []
     },
     "output_type": "execute_result"
    }
   ],
   "source": [
    "a.tolist()"
   ]
  },
  {
   "cell_type": "code",
   "execution_count": 29,
   "metadata": {
    "executionInfo": {
     "elapsed": 542,
     "status": "ok",
     "timestamp": 1608358064863,
     "user": {
      "displayName": "Sunghan Kim",
      "photoUrl": "",
      "userId": "06756175428501663555"
     },
     "user_tz": -540
    },
    "id": "mJuhU1j7m6vw"
   },
   "outputs": [],
   "source": [
    "f = open('array.apy', 'wb')\n",
    "a.tofile(f)\n",
    "f.close()"
   ]
  },
  {
   "cell_type": "code",
   "execution_count": 30,
   "metadata": {
    "executionInfo": {
     "elapsed": 703,
     "status": "ok",
     "timestamp": 1608358115108,
     "user": {
      "displayName": "Sunghan Kim",
      "photoUrl": "",
      "userId": "06756175428501663555"
     },
     "user_tz": -540
    },
    "id": "7a-bpMulnHCY"
   },
   "outputs": [],
   "source": [
    "with open('array.apy', 'wb') as f:\n",
    "    a.tofile(f)"
   ]
  },
  {
   "cell_type": "markdown",
   "metadata": {
    "id": "1p5zM4xloIpY"
   },
   "source": [
    "### Regular NumPy Arrays\n",
    "\n"
   ]
  },
  {
   "cell_type": "markdown",
   "metadata": {
    "id": "AieuM8mX0KDt"
   },
   "source": [
    "#### The Basics"
   ]
  },
  {
   "cell_type": "code",
   "execution_count": 36,
   "metadata": {
    "executionInfo": {
     "elapsed": 546,
     "status": "ok",
     "timestamp": 1608358541363,
     "user": {
      "displayName": "Sunghan Kim",
      "photoUrl": "",
      "userId": "06756175428501663555"
     },
     "user_tz": -540
    },
    "id": "65zBmylJneba"
   },
   "outputs": [],
   "source": [
    "import numpy as np"
   ]
  },
  {
   "cell_type": "code",
   "execution_count": 37,
   "metadata": {
    "colab": {
     "base_uri": "https://localhost:8080/"
    },
    "executionInfo": {
     "elapsed": 601,
     "status": "ok",
     "timestamp": 1608358561835,
     "user": {
      "displayName": "Sunghan Kim",
      "photoUrl": "",
      "userId": "06756175428501663555"
     },
     "user_tz": -540
    },
    "id": "HDgZBQJjo7W5",
    "outputId": "8144350a-559e-4fbc-ad58-d3a3cdedcf77"
   },
   "outputs": [
    {
     "data": {
      "text/plain": [
       "array([0. , 0.5, 1. , 1.5, 2. ])"
      ]
     },
     "execution_count": 37,
     "metadata": {
      "tags": []
     },
     "output_type": "execute_result"
    }
   ],
   "source": [
    "a=np.array([0, 0.5, 1.0, 1.5, 2.0])\n",
    "a"
   ]
  },
  {
   "cell_type": "code",
   "execution_count": 38,
   "metadata": {
    "colab": {
     "base_uri": "https://localhost:8080/"
    },
    "executionInfo": {
     "elapsed": 541,
     "status": "ok",
     "timestamp": 1608358566909,
     "user": {
      "displayName": "Sunghan Kim",
      "photoUrl": "",
      "userId": "06756175428501663555"
     },
     "user_tz": -540
    },
    "id": "tRoVQM5KpAVR",
    "outputId": "8e3f7209-1bf1-4a10-b6ef-d1b245c220af"
   },
   "outputs": [
    {
     "data": {
      "text/plain": [
       "numpy.ndarray"
      ]
     },
     "execution_count": 38,
     "metadata": {
      "tags": []
     },
     "output_type": "execute_result"
    }
   ],
   "source": [
    "type(a)"
   ]
  },
  {
   "cell_type": "code",
   "execution_count": 39,
   "metadata": {
    "colab": {
     "base_uri": "https://localhost:8080/"
    },
    "executionInfo": {
     "elapsed": 624,
     "status": "ok",
     "timestamp": 1608358579169,
     "user": {
      "displayName": "Sunghan Kim",
      "photoUrl": "",
      "userId": "06756175428501663555"
     },
     "user_tz": -540
    },
    "id": "LexluVuQpBm6",
    "outputId": "65d5c788-25f1-4a3b-9354-4cc4806d7d96"
   },
   "outputs": [
    {
     "data": {
      "text/plain": [
       "array(['a', 'b', 'c'], dtype='<U1')"
      ]
     },
     "execution_count": 39,
     "metadata": {
      "tags": []
     },
     "output_type": "execute_result"
    }
   ],
   "source": [
    "a = np.array(['a', 'b', 'c'])\n",
    "a"
   ]
  },
  {
   "cell_type": "code",
   "execution_count": 40,
   "metadata": {
    "colab": {
     "base_uri": "https://localhost:8080/"
    },
    "executionInfo": {
     "elapsed": 566,
     "status": "ok",
     "timestamp": 1608358588744,
     "user": {
      "displayName": "Sunghan Kim",
      "photoUrl": "",
      "userId": "06756175428501663555"
     },
     "user_tz": -540
    },
    "id": "xgOicmgrpElE",
    "outputId": "7d0049f7-96ce-44dc-d1dc-3ad5d6f89a28"
   },
   "outputs": [
    {
     "data": {
      "text/plain": [
       "array([ 2,  4,  6,  8, 10, 12, 14, 16, 18])"
      ]
     },
     "execution_count": 40,
     "metadata": {
      "tags": []
     },
     "output_type": "execute_result"
    }
   ],
   "source": [
    "a = np.arange(2, 20, 2)\n",
    "a"
   ]
  },
  {
   "cell_type": "code",
   "execution_count": 41,
   "metadata": {
    "colab": {
     "base_uri": "https://localhost:8080/"
    },
    "executionInfo": {
     "elapsed": 509,
     "status": "ok",
     "timestamp": 1608358600951,
     "user": {
      "displayName": "Sunghan Kim",
      "photoUrl": "",
      "userId": "06756175428501663555"
     },
     "user_tz": -540
    },
    "id": "qabev3_CpG7i",
    "outputId": "0585aced-515d-44d9-a12c-6317ebf3561f"
   },
   "outputs": [
    {
     "data": {
      "text/plain": [
       "array([0., 1., 2., 3., 4., 5., 6., 7.])"
      ]
     },
     "execution_count": 41,
     "metadata": {
      "tags": []
     },
     "output_type": "execute_result"
    }
   ],
   "source": [
    "a = np.arange(8, dtype=np.float)\n",
    "a"
   ]
  },
  {
   "cell_type": "code",
   "execution_count": 42,
   "metadata": {
    "colab": {
     "base_uri": "https://localhost:8080/"
    },
    "executionInfo": {
     "elapsed": 513,
     "status": "ok",
     "timestamp": 1608358614052,
     "user": {
      "displayName": "Sunghan Kim",
      "photoUrl": "",
      "userId": "06756175428501663555"
     },
     "user_tz": -540
    },
    "id": "DWeP2O1dpJ7K",
    "outputId": "af143f5b-bedf-419f-b43d-0ff70feda527"
   },
   "outputs": [
    {
     "data": {
      "text/plain": [
       "array([5., 6., 7.])"
      ]
     },
     "execution_count": 42,
     "metadata": {
      "tags": []
     },
     "output_type": "execute_result"
    }
   ],
   "source": [
    "a[5:]"
   ]
  },
  {
   "cell_type": "code",
   "execution_count": 43,
   "metadata": {
    "colab": {
     "base_uri": "https://localhost:8080/"
    },
    "executionInfo": {
     "elapsed": 529,
     "status": "ok",
     "timestamp": 1608358620293,
     "user": {
      "displayName": "Sunghan Kim",
      "photoUrl": "",
      "userId": "06756175428501663555"
     },
     "user_tz": -540
    },
    "id": "RVkv7WOnpNHj",
    "outputId": "1ff98867-7b6d-41a0-b876-c78d90568377"
   },
   "outputs": [
    {
     "data": {
      "text/plain": [
       "array([0., 1.])"
      ]
     },
     "execution_count": 43,
     "metadata": {
      "tags": []
     },
     "output_type": "execute_result"
    }
   ],
   "source": [
    "a[:2]"
   ]
  },
  {
   "cell_type": "code",
   "execution_count": 44,
   "metadata": {
    "colab": {
     "base_uri": "https://localhost:8080/"
    },
    "executionInfo": {
     "elapsed": 734,
     "status": "ok",
     "timestamp": 1608358651982,
     "user": {
      "displayName": "Sunghan Kim",
      "photoUrl": "",
      "userId": "06756175428501663555"
     },
     "user_tz": -540
    },
    "id": "ZMwjJvcQpOo6",
    "outputId": "e7f169de-9227-41d0-e3a1-f5199ed42fd8"
   },
   "outputs": [
    {
     "data": {
      "text/plain": [
       "28.0"
      ]
     },
     "execution_count": 44,
     "metadata": {
      "tags": []
     },
     "output_type": "execute_result"
    }
   ],
   "source": [
    "a.sum()"
   ]
  },
  {
   "cell_type": "code",
   "execution_count": 45,
   "metadata": {
    "colab": {
     "base_uri": "https://localhost:8080/"
    },
    "executionInfo": {
     "elapsed": 541,
     "status": "ok",
     "timestamp": 1608358658401,
     "user": {
      "displayName": "Sunghan Kim",
      "photoUrl": "",
      "userId": "06756175428501663555"
     },
     "user_tz": -540
    },
    "id": "xDqiMjKfpWVK",
    "outputId": "972b6be9-dd62-4b45-8763-08fb31cd3c30"
   },
   "outputs": [
    {
     "data": {
      "text/plain": [
       "2.29128784747792"
      ]
     },
     "execution_count": 45,
     "metadata": {
      "tags": []
     },
     "output_type": "execute_result"
    }
   ],
   "source": [
    "a.std()"
   ]
  },
  {
   "cell_type": "code",
   "execution_count": 46,
   "metadata": {
    "colab": {
     "base_uri": "https://localhost:8080/"
    },
    "executionInfo": {
     "elapsed": 545,
     "status": "ok",
     "timestamp": 1608358665206,
     "user": {
      "displayName": "Sunghan Kim",
      "photoUrl": "",
      "userId": "06756175428501663555"
     },
     "user_tz": -540
    },
    "id": "lTmDkn53pX8R",
    "outputId": "35b01ae6-d73f-4b42-c6d9-9b09c87669a5"
   },
   "outputs": [
    {
     "data": {
      "text/plain": [
       "array([ 0.,  1.,  3.,  6., 10., 15., 21., 28.])"
      ]
     },
     "execution_count": 46,
     "metadata": {
      "tags": []
     },
     "output_type": "execute_result"
    }
   ],
   "source": [
    "a.cumsum()"
   ]
  },
  {
   "cell_type": "code",
   "execution_count": 50,
   "metadata": {
    "colab": {
     "base_uri": "https://localhost:8080/"
    },
    "executionInfo": {
     "elapsed": 721,
     "status": "ok",
     "timestamp": 1608358749692,
     "user": {
      "displayName": "Sunghan Kim",
      "photoUrl": "",
      "userId": "06756175428501663555"
     },
     "user_tz": -540
    },
    "id": "icA7Ptm1poBi",
    "outputId": "ca5590b4-ce3c-4a4f-eb91-abb6c4693322"
   },
   "outputs": [
    {
     "data": {
      "text/plain": [
       "[0.0, 0.5, 1.5, 3.0, 5.0, 0.0, 0.5, 1.5, 3.0, 5.0]"
      ]
     },
     "execution_count": 50,
     "metadata": {
      "tags": []
     },
     "output_type": "execute_result"
    }
   ],
   "source": [
    "l = [0., 0.5, 1.5, 3., 5.]\n",
    "2 * l"
   ]
  },
  {
   "cell_type": "code",
   "execution_count": 51,
   "metadata": {
    "colab": {
     "base_uri": "https://localhost:8080/"
    },
    "executionInfo": {
     "elapsed": 536,
     "status": "ok",
     "timestamp": 1608358759111,
     "user": {
      "displayName": "Sunghan Kim",
      "photoUrl": "",
      "userId": "06756175428501663555"
     },
     "user_tz": -540
    },
    "id": "0jCe_iHfpuL6",
    "outputId": "3057e745-6c35-48c1-c91e-0e6ff7eb0891"
   },
   "outputs": [
    {
     "data": {
      "text/plain": [
       "array([0., 1., 2., 3., 4., 5., 6., 7.])"
      ]
     },
     "execution_count": 51,
     "metadata": {
      "tags": []
     },
     "output_type": "execute_result"
    }
   ],
   "source": [
    "a"
   ]
  },
  {
   "cell_type": "code",
   "execution_count": 52,
   "metadata": {
    "colab": {
     "base_uri": "https://localhost:8080/"
    },
    "executionInfo": {
     "elapsed": 630,
     "status": "ok",
     "timestamp": 1608358771968,
     "user": {
      "displayName": "Sunghan Kim",
      "photoUrl": "",
      "userId": "06756175428501663555"
     },
     "user_tz": -540
    },
    "id": "Fhs8ieLfpwhy",
    "outputId": "c8e8fdc0-726c-42e8-f003-d9b5396c7e45"
   },
   "outputs": [
    {
     "data": {
      "text/plain": [
       "array([ 0.,  2.,  4.,  6.,  8., 10., 12., 14.])"
      ]
     },
     "execution_count": 52,
     "metadata": {
      "tags": []
     },
     "output_type": "execute_result"
    }
   ],
   "source": [
    "2 * a"
   ]
  },
  {
   "cell_type": "code",
   "execution_count": 55,
   "metadata": {
    "colab": {
     "base_uri": "https://localhost:8080/"
    },
    "executionInfo": {
     "elapsed": 532,
     "status": "ok",
     "timestamp": 1608358813608,
     "user": {
      "displayName": "Sunghan Kim",
      "photoUrl": "",
      "userId": "06756175428501663555"
     },
     "user_tz": -540
    },
    "id": "0HjFGE20pzgw",
    "outputId": "d8bb3432-d3af-41d2-bc34-cbc525747bb8"
   },
   "outputs": [
    {
     "data": {
      "text/plain": [
       "array([ 0.,  1.,  4.,  9., 16., 25., 36., 49.])"
      ]
     },
     "execution_count": 55,
     "metadata": {
      "tags": []
     },
     "output_type": "execute_result"
    }
   ],
   "source": [
    "a ** 2"
   ]
  },
  {
   "cell_type": "code",
   "execution_count": 56,
   "metadata": {
    "colab": {
     "base_uri": "https://localhost:8080/"
    },
    "executionInfo": {
     "elapsed": 600,
     "status": "ok",
     "timestamp": 1608358824387,
     "user": {
      "displayName": "Sunghan Kim",
      "photoUrl": "",
      "userId": "06756175428501663555"
     },
     "user_tz": -540
    },
    "id": "hl3_jcLDp_bb",
    "outputId": "5bd7d3a6-de68-42fe-902e-b0a6c46b01c3"
   },
   "outputs": [
    {
     "data": {
      "text/plain": [
       "array([  1.,   2.,   4.,   8.,  16.,  32.,  64., 128.])"
      ]
     },
     "execution_count": 56,
     "metadata": {
      "tags": []
     },
     "output_type": "execute_result"
    }
   ],
   "source": [
    "2 ** a"
   ]
  },
  {
   "cell_type": "code",
   "execution_count": 54,
   "metadata": {
    "colab": {
     "base_uri": "https://localhost:8080/"
    },
    "executionInfo": {
     "elapsed": 561,
     "status": "ok",
     "timestamp": 1608358801768,
     "user": {
      "displayName": "Sunghan Kim",
      "photoUrl": "",
      "userId": "06756175428501663555"
     },
     "user_tz": -540
    },
    "id": "-VlXUNEDp2mx",
    "outputId": "3b4073eb-ca26-4fb1-ba52-7cd97e888171"
   },
   "outputs": [
    {
     "data": {
      "text/plain": [
       "array([1.00000e+00, 1.00000e+00, 4.00000e+00, 2.70000e+01, 2.56000e+02,\n",
       "       3.12500e+03, 4.66560e+04, 8.23543e+05])"
      ]
     },
     "execution_count": 54,
     "metadata": {
      "tags": []
     },
     "output_type": "execute_result"
    }
   ],
   "source": [
    "a ** a"
   ]
  },
  {
   "cell_type": "code",
   "execution_count": 57,
   "metadata": {
    "colab": {
     "base_uri": "https://localhost:8080/"
    },
    "executionInfo": {
     "elapsed": 554,
     "status": "ok",
     "timestamp": 1608358850571,
     "user": {
      "displayName": "Sunghan Kim",
      "photoUrl": "",
      "userId": "06756175428501663555"
     },
     "user_tz": -540
    },
    "id": "GXzqCuWnp68J",
    "outputId": "5f5687f8-21c8-4d57-f405-bb3f3e1a0c02"
   },
   "outputs": [
    {
     "data": {
      "text/plain": [
       "array([1.00000000e+00, 2.71828183e+00, 7.38905610e+00, 2.00855369e+01,\n",
       "       5.45981500e+01, 1.48413159e+02, 4.03428793e+02, 1.09663316e+03])"
      ]
     },
     "execution_count": 57,
     "metadata": {
      "tags": []
     },
     "output_type": "execute_result"
    }
   ],
   "source": [
    "np.exp(a)"
   ]
  },
  {
   "cell_type": "code",
   "execution_count": 58,
   "metadata": {
    "colab": {
     "base_uri": "https://localhost:8080/"
    },
    "executionInfo": {
     "elapsed": 532,
     "status": "ok",
     "timestamp": 1608358857767,
     "user": {
      "displayName": "Sunghan Kim",
      "photoUrl": "",
      "userId": "06756175428501663555"
     },
     "user_tz": -540
    },
    "id": "3Fke2DaaqG2y",
    "outputId": "b6ee967b-d8ba-48d8-ac0e-74a56d6ddb2f"
   },
   "outputs": [
    {
     "data": {
      "text/plain": [
       "array([0.        , 1.        , 1.41421356, 1.73205081, 2.        ,\n",
       "       2.23606798, 2.44948974, 2.64575131])"
      ]
     },
     "execution_count": 58,
     "metadata": {
      "tags": []
     },
     "output_type": "execute_result"
    }
   ],
   "source": [
    "np.sqrt(a)"
   ]
  },
  {
   "cell_type": "code",
   "execution_count": 59,
   "metadata": {
    "colab": {
     "base_uri": "https://localhost:8080/"
    },
    "executionInfo": {
     "elapsed": 575,
     "status": "ok",
     "timestamp": 1608358865943,
     "user": {
      "displayName": "Sunghan Kim",
      "photoUrl": "",
      "userId": "06756175428501663555"
     },
     "user_tz": -540
    },
    "id": "xwEljOJQqInp",
    "outputId": "6c1d91d6-3294-4579-d0f9-eb0948fb1113"
   },
   "outputs": [
    {
     "data": {
      "text/plain": [
       "1.5811388300841898"
      ]
     },
     "execution_count": 59,
     "metadata": {
      "tags": []
     },
     "output_type": "execute_result"
    }
   ],
   "source": [
    "np.sqrt(2.5)"
   ]
  },
  {
   "cell_type": "code",
   "execution_count": 60,
   "metadata": {
    "executionInfo": {
     "elapsed": 542,
     "status": "ok",
     "timestamp": 1608358869135,
     "user": {
      "displayName": "Sunghan Kim",
      "photoUrl": "",
      "userId": "06756175428501663555"
     },
     "user_tz": -540
    },
    "id": "Ppx9Ck-VqKmj"
   },
   "outputs": [],
   "source": [
    "import math"
   ]
  },
  {
   "cell_type": "code",
   "execution_count": 61,
   "metadata": {
    "colab": {
     "base_uri": "https://localhost:8080/"
    },
    "executionInfo": {
     "elapsed": 549,
     "status": "ok",
     "timestamp": 1608358874458,
     "user": {
      "displayName": "Sunghan Kim",
      "photoUrl": "",
      "userId": "06756175428501663555"
     },
     "user_tz": -540
    },
    "id": "2D0iWKeaqLZJ",
    "outputId": "2c383249-bf10-4a54-a442-7851939241a3"
   },
   "outputs": [
    {
     "data": {
      "text/plain": [
       "1.5811388300841898"
      ]
     },
     "execution_count": 61,
     "metadata": {
      "tags": []
     },
     "output_type": "execute_result"
    }
   ],
   "source": [
    "math.sqrt(2.5)"
   ]
  },
  {
   "cell_type": "markdown",
   "metadata": {
    "id": "NUc-brwMqcaS"
   },
   "source": [
    "#### Multiple Dimensions"
   ]
  },
  {
   "cell_type": "code",
   "execution_count": 64,
   "metadata": {
    "colab": {
     "base_uri": "https://localhost:8080/"
    },
    "executionInfo": {
     "elapsed": 614,
     "status": "ok",
     "timestamp": 1608358964241,
     "user": {
      "displayName": "Sunghan Kim",
      "photoUrl": "",
      "userId": "06756175428501663555"
     },
     "user_tz": -540
    },
    "id": "hKdhL5dAqYsi",
    "outputId": "62f0b6f5-59fe-45aa-9b3a-95dc7a2c4249"
   },
   "outputs": [
    {
     "data": {
      "text/plain": [
       "array([[ 0.,  1.,  2.,  3.,  4.,  5.,  6.,  7.],\n",
       "       [ 0.,  2.,  4.,  6.,  8., 10., 12., 14.]])"
      ]
     },
     "execution_count": 64,
     "metadata": {
      "tags": []
     },
     "output_type": "execute_result"
    }
   ],
   "source": [
    "b = np.array([a, a*2])\n",
    "b"
   ]
  },
  {
   "cell_type": "code",
   "execution_count": 65,
   "metadata": {
    "colab": {
     "base_uri": "https://localhost:8080/"
    },
    "executionInfo": {
     "elapsed": 523,
     "status": "ok",
     "timestamp": 1608358972790,
     "user": {
      "displayName": "Sunghan Kim",
      "photoUrl": "",
      "userId": "06756175428501663555"
     },
     "user_tz": -540
    },
    "id": "y5trPdrwqila",
    "outputId": "945f16df-4102-4739-b99c-72a7ebd4ccb0"
   },
   "outputs": [
    {
     "data": {
      "text/plain": [
       "array([0., 1., 2., 3., 4., 5., 6., 7.])"
      ]
     },
     "execution_count": 65,
     "metadata": {
      "tags": []
     },
     "output_type": "execute_result"
    }
   ],
   "source": [
    "b[0]"
   ]
  },
  {
   "cell_type": "code",
   "execution_count": 66,
   "metadata": {
    "colab": {
     "base_uri": "https://localhost:8080/"
    },
    "executionInfo": {
     "elapsed": 572,
     "status": "ok",
     "timestamp": 1608358981129,
     "user": {
      "displayName": "Sunghan Kim",
      "photoUrl": "",
      "userId": "06756175428501663555"
     },
     "user_tz": -540
    },
    "id": "cdwpqqYnqks3",
    "outputId": "41385071-a053-4508-ce39-c8c696a23960"
   },
   "outputs": [
    {
     "data": {
      "text/plain": [
       "2.0"
      ]
     },
     "execution_count": 66,
     "metadata": {
      "tags": []
     },
     "output_type": "execute_result"
    }
   ],
   "source": [
    "b[0,2]"
   ]
  },
  {
   "cell_type": "code",
   "execution_count": 67,
   "metadata": {
    "colab": {
     "base_uri": "https://localhost:8080/"
    },
    "executionInfo": {
     "elapsed": 520,
     "status": "ok",
     "timestamp": 1608358991723,
     "user": {
      "displayName": "Sunghan Kim",
      "photoUrl": "",
      "userId": "06756175428501663555"
     },
     "user_tz": -540
    },
    "id": "nwuS1MmNqmuh",
    "outputId": "46fddb0b-f08a-4fa8-ebd4-e5c2916692f8"
   },
   "outputs": [
    {
     "data": {
      "text/plain": [
       "array([1., 2.])"
      ]
     },
     "execution_count": 67,
     "metadata": {
      "tags": []
     },
     "output_type": "execute_result"
    }
   ],
   "source": [
    "b[:, 1]"
   ]
  },
  {
   "cell_type": "code",
   "execution_count": 68,
   "metadata": {
    "colab": {
     "base_uri": "https://localhost:8080/"
    },
    "executionInfo": {
     "elapsed": 520,
     "status": "ok",
     "timestamp": 1608359026865,
     "user": {
      "displayName": "Sunghan Kim",
      "photoUrl": "",
      "userId": "06756175428501663555"
     },
     "user_tz": -540
    },
    "id": "0V4Wial6qpU8",
    "outputId": "6288ce8e-bc31-4bee-cc6b-cb336b34087d"
   },
   "outputs": [
    {
     "data": {
      "text/plain": [
       "84.0"
      ]
     },
     "execution_count": 68,
     "metadata": {
      "tags": []
     },
     "output_type": "execute_result"
    }
   ],
   "source": [
    "b.sum()"
   ]
  },
  {
   "cell_type": "code",
   "execution_count": 69,
   "metadata": {
    "colab": {
     "base_uri": "https://localhost:8080/"
    },
    "executionInfo": {
     "elapsed": 552,
     "status": "ok",
     "timestamp": 1608359046992,
     "user": {
      "displayName": "Sunghan Kim",
      "photoUrl": "",
      "userId": "06756175428501663555"
     },
     "user_tz": -540
    },
    "id": "1ULpmo0eqx5p",
    "outputId": "84e8cfa5-819e-4d32-f577-910f6cd3e585"
   },
   "outputs": [
    {
     "data": {
      "text/plain": [
       "array([ 0.,  3.,  6.,  9., 12., 15., 18., 21.])"
      ]
     },
     "execution_count": 69,
     "metadata": {
      "tags": []
     },
     "output_type": "execute_result"
    }
   ],
   "source": [
    "b.sum(axis=0)"
   ]
  },
  {
   "cell_type": "code",
   "execution_count": 70,
   "metadata": {
    "colab": {
     "base_uri": "https://localhost:8080/"
    },
    "executionInfo": {
     "elapsed": 510,
     "status": "ok",
     "timestamp": 1608359065328,
     "user": {
      "displayName": "Sunghan Kim",
      "photoUrl": "",
      "userId": "06756175428501663555"
     },
     "user_tz": -540
    },
    "id": "Ah2V8eJYq2zs",
    "outputId": "236299bf-6e77-4eda-f5dd-454ce2e98590"
   },
   "outputs": [
    {
     "data": {
      "text/plain": [
       "array([28., 56.])"
      ]
     },
     "execution_count": 70,
     "metadata": {
      "tags": []
     },
     "output_type": "execute_result"
    }
   ],
   "source": [
    "b.sum(axis=1)"
   ]
  },
  {
   "cell_type": "code",
   "execution_count": 71,
   "metadata": {
    "colab": {
     "base_uri": "https://localhost:8080/"
    },
    "executionInfo": {
     "elapsed": 748,
     "status": "ok",
     "timestamp": 1608359121001,
     "user": {
      "displayName": "Sunghan Kim",
      "photoUrl": "",
      "userId": "06756175428501663555"
     },
     "user_tz": -540
    },
    "id": "ztedOFGnq7Sr",
    "outputId": "6c3ab3cf-77c2-4ebd-84cd-b1e29be59716"
   },
   "outputs": [
    {
     "data": {
      "text/plain": [
       "array([[0, 0, 0],\n",
       "       [0, 0, 0]], dtype=int32)"
      ]
     },
     "execution_count": 71,
     "metadata": {
      "tags": []
     },
     "output_type": "execute_result"
    }
   ],
   "source": [
    "# ndarray objects\n",
    "c = np.zeros((2,3), dtype='i', order='C')\n",
    "c"
   ]
  },
  {
   "cell_type": "code",
   "execution_count": 72,
   "metadata": {
    "colab": {
     "base_uri": "https://localhost:8080/"
    },
    "executionInfo": {
     "elapsed": 737,
     "status": "ok",
     "timestamp": 1608359192636,
     "user": {
      "displayName": "Sunghan Kim",
      "photoUrl": "",
      "userId": "06756175428501663555"
     },
     "user_tz": -540
    },
    "id": "dsIxQkHorI1C",
    "outputId": "f0d3d067-d2cc-4dc1-f48d-c97401a372c7"
   },
   "outputs": [
    {
     "data": {
      "text/plain": [
       "array([[[1, 1, 1, 1],\n",
       "        [1, 1, 1, 1],\n",
       "        [1, 1, 1, 1]],\n",
       "\n",
       "       [[1, 1, 1, 1],\n",
       "        [1, 1, 1, 1],\n",
       "        [1, 1, 1, 1]]], dtype=int32)"
      ]
     },
     "execution_count": 72,
     "metadata": {
      "tags": []
     },
     "output_type": "execute_result"
    }
   ],
   "source": [
    "c = np.ones((2,3,4), dtype='i', order='C')\n",
    "c"
   ]
  },
  {
   "cell_type": "code",
   "execution_count": 73,
   "metadata": {
    "colab": {
     "base_uri": "https://localhost:8080/"
    },
    "executionInfo": {
     "elapsed": 541,
     "status": "ok",
     "timestamp": 1608359201865,
     "user": {
      "displayName": "Sunghan Kim",
      "photoUrl": "",
      "userId": "06756175428501663555"
     },
     "user_tz": -540
    },
    "id": "1iXxNd7ZraUH",
    "outputId": "04907ea7-38d3-4645-b036-ab901043d259"
   },
   "outputs": [
    {
     "data": {
      "text/plain": [
       "array([[[0., 0., 0., 0.],\n",
       "        [0., 0., 0., 0.],\n",
       "        [0., 0., 0., 0.]],\n",
       "\n",
       "       [[0., 0., 0., 0.],\n",
       "        [0., 0., 0., 0.],\n",
       "        [0., 0., 0., 0.]]], dtype=float128)"
      ]
     },
     "execution_count": 73,
     "metadata": {
      "tags": []
     },
     "output_type": "execute_result"
    }
   ],
   "source": [
    "d = np.zeros_like(c, dtype='f16', order='C')\n",
    "d"
   ]
  },
  {
   "cell_type": "code",
   "execution_count": 74,
   "metadata": {
    "colab": {
     "base_uri": "https://localhost:8080/"
    },
    "executionInfo": {
     "elapsed": 417,
     "status": "ok",
     "timestamp": 1608359208482,
     "user": {
      "displayName": "Sunghan Kim",
      "photoUrl": "",
      "userId": "06756175428501663555"
     },
     "user_tz": -540
    },
    "id": "A5w7iPRDrcnz",
    "outputId": "1ba18c62-9b20-4f0e-91e7-a49291796d8f"
   },
   "outputs": [
    {
     "data": {
      "text/plain": [
       "array([[[1., 1., 1., 1.],\n",
       "        [1., 1., 1., 1.],\n",
       "        [1., 1., 1., 1.]],\n",
       "\n",
       "       [[1., 1., 1., 1.],\n",
       "        [1., 1., 1., 1.],\n",
       "        [1., 1., 1., 1.]]], dtype=float128)"
      ]
     },
     "execution_count": 74,
     "metadata": {
      "tags": []
     },
     "output_type": "execute_result"
    }
   ],
   "source": [
    "d = np.ones_like(c, dtype='f16', order='C')\n",
    "d"
   ]
  },
  {
   "cell_type": "code",
   "execution_count": 75,
   "metadata": {
    "colab": {
     "base_uri": "https://localhost:8080/"
    },
    "executionInfo": {
     "elapsed": 551,
     "status": "ok",
     "timestamp": 1608359215990,
     "user": {
      "displayName": "Sunghan Kim",
      "photoUrl": "",
      "userId": "06756175428501663555"
     },
     "user_tz": -540
    },
    "id": "jqZ_zfjYreRL",
    "outputId": "5e0916a5-61be-47f3-949a-38478252570f"
   },
   "outputs": [
    {
     "data": {
      "text/plain": [
       "array([[[3.96361279e-316, 2.61854792e-322],\n",
       "        [0.00000000e+000, 0.00000000e+000],\n",
       "        [6.91749408e-310, 1.50008929e+248]],\n",
       "\n",
       "       [[4.50620083e-144, 2.78225500e+296],\n",
       "        [1.43267083e+161, 4.56317366e-144],\n",
       "        [2.77618871e+184, 2.66090405e-312]]])"
      ]
     },
     "execution_count": 75,
     "metadata": {
      "tags": []
     },
     "output_type": "execute_result"
    }
   ],
   "source": [
    "e = np.empty((2, 3, 2))\n",
    "e"
   ]
  },
  {
   "cell_type": "code",
   "execution_count": 76,
   "metadata": {
    "colab": {
     "base_uri": "https://localhost:8080/"
    },
    "executionInfo": {
     "elapsed": 568,
     "status": "ok",
     "timestamp": 1608359225778,
     "user": {
      "displayName": "Sunghan Kim",
      "photoUrl": "",
      "userId": "06756175428501663555"
     },
     "user_tz": -540
    },
    "id": "VMTZbKFjrgET",
    "outputId": "491f89b3-0eb7-4243-fc61-c89f268f442b"
   },
   "outputs": [
    {
     "data": {
      "text/plain": [
       "array([[[  80224416,          0,         53,          0],\n",
       "        [         0,          0,          0,          0],\n",
       "        [         0,      32599, 1953702523, 1937077345]],\n",
       "\n",
       "       [[1864514082,  573317739, 1635017060, 2105227810],\n",
       "        [1701650988, 1633968500,  975331700,  573341051],\n",
       "        [1853189990, 1715085924, 1702063201,        125]]], dtype=int32)"
      ]
     },
     "execution_count": 76,
     "metadata": {
      "tags": []
     },
     "output_type": "execute_result"
    }
   ],
   "source": [
    "f = np.empty_like(c)\n",
    "f"
   ]
  },
  {
   "cell_type": "code",
   "execution_count": 77,
   "metadata": {
    "colab": {
     "base_uri": "https://localhost:8080/"
    },
    "executionInfo": {
     "elapsed": 539,
     "status": "ok",
     "timestamp": 1608359243765,
     "user": {
      "displayName": "Sunghan Kim",
      "photoUrl": "",
      "userId": "06756175428501663555"
     },
     "user_tz": -540
    },
    "id": "luflkEJ6ridL",
    "outputId": "e9cce389-f77e-4ee3-a244-4a1fd637e9d5"
   },
   "outputs": [
    {
     "data": {
      "text/plain": [
       "array([[1., 0., 0., 0., 0.],\n",
       "       [0., 1., 0., 0., 0.],\n",
       "       [0., 0., 1., 0., 0.],\n",
       "       [0., 0., 0., 1., 0.],\n",
       "       [0., 0., 0., 0., 1.]])"
      ]
     },
     "execution_count": 77,
     "metadata": {
      "tags": []
     },
     "output_type": "execute_result"
    }
   ],
   "source": [
    "np.eye(5)"
   ]
  },
  {
   "cell_type": "code",
   "execution_count": 78,
   "metadata": {
    "colab": {
     "base_uri": "https://localhost:8080/"
    },
    "executionInfo": {
     "elapsed": 516,
     "status": "ok",
     "timestamp": 1608359252206,
     "user": {
      "displayName": "Sunghan Kim",
      "photoUrl": "",
      "userId": "06756175428501663555"
     },
     "user_tz": -540
    },
    "id": "4Hko0Gr5rm2i",
    "outputId": "bfcb2fe9-ec85-45ec-afbc-4644d6703b61"
   },
   "outputs": [
    {
     "data": {
      "text/plain": [
       "array([ 5.        ,  5.90909091,  6.81818182,  7.72727273,  8.63636364,\n",
       "        9.54545455, 10.45454545, 11.36363636, 12.27272727, 13.18181818,\n",
       "       14.09090909, 15.        ])"
      ]
     },
     "execution_count": 78,
     "metadata": {
      "tags": []
     },
     "output_type": "execute_result"
    }
   ],
   "source": [
    "g = np.linspace(5, 15, 12)\n",
    "g"
   ]
  },
  {
   "cell_type": "markdown",
   "metadata": {
    "id": "_nL_p73Rr1hL"
   },
   "source": [
    "#### Metainformation"
   ]
  },
  {
   "cell_type": "code",
   "execution_count": 79,
   "metadata": {
    "colab": {
     "base_uri": "https://localhost:8080/"
    },
    "executionInfo": {
     "elapsed": 546,
     "status": "ok",
     "timestamp": 1608359315572,
     "user": {
      "displayName": "Sunghan Kim",
      "photoUrl": "",
      "userId": "06756175428501663555"
     },
     "user_tz": -540
    },
    "id": "N9Zs3pGIro6L",
    "outputId": "78189993-f240-4a57-c2af-9ffea8d57ac4"
   },
   "outputs": [
    {
     "data": {
      "text/plain": [
       "12"
      ]
     },
     "execution_count": 79,
     "metadata": {
      "tags": []
     },
     "output_type": "execute_result"
    }
   ],
   "source": [
    "g.size"
   ]
  },
  {
   "cell_type": "code",
   "execution_count": 80,
   "metadata": {
    "colab": {
     "base_uri": "https://localhost:8080/"
    },
    "executionInfo": {
     "elapsed": 545,
     "status": "ok",
     "timestamp": 1608359324137,
     "user": {
      "displayName": "Sunghan Kim",
      "photoUrl": "",
      "userId": "06756175428501663555"
     },
     "user_tz": -540
    },
    "id": "1t8kRkZcr4YS",
    "outputId": "884b466d-ad94-4a3d-f040-35064d5b8674"
   },
   "outputs": [
    {
     "data": {
      "text/plain": [
       "8"
      ]
     },
     "execution_count": 80,
     "metadata": {
      "tags": []
     },
     "output_type": "execute_result"
    }
   ],
   "source": [
    "g.itemsize"
   ]
  },
  {
   "cell_type": "code",
   "execution_count": 81,
   "metadata": {
    "colab": {
     "base_uri": "https://localhost:8080/"
    },
    "executionInfo": {
     "elapsed": 549,
     "status": "ok",
     "timestamp": 1608359338005,
     "user": {
      "displayName": "Sunghan Kim",
      "photoUrl": "",
      "userId": "06756175428501663555"
     },
     "user_tz": -540
    },
    "id": "PRIqDo1yr6eT",
    "outputId": "555a1686-f84a-48e8-ccca-d3e2838d7622"
   },
   "outputs": [
    {
     "data": {
      "text/plain": [
       "1"
      ]
     },
     "execution_count": 81,
     "metadata": {
      "tags": []
     },
     "output_type": "execute_result"
    }
   ],
   "source": [
    "g.ndim"
   ]
  },
  {
   "cell_type": "code",
   "execution_count": 82,
   "metadata": {
    "colab": {
     "base_uri": "https://localhost:8080/"
    },
    "executionInfo": {
     "elapsed": 549,
     "status": "ok",
     "timestamp": 1608359343336,
     "user": {
      "displayName": "Sunghan Kim",
      "photoUrl": "",
      "userId": "06756175428501663555"
     },
     "user_tz": -540
    },
    "id": "vPu26-6-r926",
    "outputId": "0b30ce73-fa8f-4cbb-a447-a7dddff3476b"
   },
   "outputs": [
    {
     "data": {
      "text/plain": [
       "(12,)"
      ]
     },
     "execution_count": 82,
     "metadata": {
      "tags": []
     },
     "output_type": "execute_result"
    }
   ],
   "source": [
    "g.shape"
   ]
  },
  {
   "cell_type": "code",
   "execution_count": 83,
   "metadata": {
    "colab": {
     "base_uri": "https://localhost:8080/"
    },
    "executionInfo": {
     "elapsed": 521,
     "status": "ok",
     "timestamp": 1608359347897,
     "user": {
      "displayName": "Sunghan Kim",
      "photoUrl": "",
      "userId": "06756175428501663555"
     },
     "user_tz": -540
    },
    "id": "JIH7UzJfr_KJ",
    "outputId": "b8b68e07-ec99-4e19-a388-ebd9db5ae4af"
   },
   "outputs": [
    {
     "data": {
      "text/plain": [
       "dtype('float64')"
      ]
     },
     "execution_count": 83,
     "metadata": {
      "tags": []
     },
     "output_type": "execute_result"
    }
   ],
   "source": [
    "g.dtype"
   ]
  },
  {
   "cell_type": "code",
   "execution_count": 84,
   "metadata": {
    "colab": {
     "base_uri": "https://localhost:8080/"
    },
    "executionInfo": {
     "elapsed": 556,
     "status": "ok",
     "timestamp": 1608359353687,
     "user": {
      "displayName": "Sunghan Kim",
      "photoUrl": "",
      "userId": "06756175428501663555"
     },
     "user_tz": -540
    },
    "id": "cq1mIQJZsARy",
    "outputId": "c38c670d-7f9c-438a-86c8-c52898a378d3"
   },
   "outputs": [
    {
     "data": {
      "text/plain": [
       "96"
      ]
     },
     "execution_count": 84,
     "metadata": {
      "tags": []
     },
     "output_type": "execute_result"
    }
   ],
   "source": [
    "g.nbytes"
   ]
  },
  {
   "cell_type": "markdown",
   "metadata": {
    "id": "kqbuO379sDeS"
   },
   "source": [
    "#### Reshaping and Resizing"
   ]
  },
  {
   "cell_type": "code",
   "execution_count": 85,
   "metadata": {
    "colab": {
     "base_uri": "https://localhost:8080/"
    },
    "executionInfo": {
     "elapsed": 652,
     "status": "ok",
     "timestamp": 1608359384050,
     "user": {
      "displayName": "Sunghan Kim",
      "photoUrl": "",
      "userId": "06756175428501663555"
     },
     "user_tz": -540
    },
    "id": "D3p0MQsNsBsB",
    "outputId": "ca835546-46a8-4520-89bd-4d4d1203a596"
   },
   "outputs": [
    {
     "data": {
      "text/plain": [
       "array([ 0,  1,  2,  3,  4,  5,  6,  7,  8,  9, 10, 11, 12, 13, 14])"
      ]
     },
     "execution_count": 85,
     "metadata": {
      "tags": []
     },
     "output_type": "execute_result"
    }
   ],
   "source": [
    "g = np.arange(15)\n",
    "g"
   ]
  },
  {
   "cell_type": "code",
   "execution_count": 87,
   "metadata": {
    "colab": {
     "base_uri": "https://localhost:8080/"
    },
    "executionInfo": {
     "elapsed": 558,
     "status": "ok",
     "timestamp": 1608359398471,
     "user": {
      "displayName": "Sunghan Kim",
      "photoUrl": "",
      "userId": "06756175428501663555"
     },
     "user_tz": -540
    },
    "id": "hox4DBB6sJDr",
    "outputId": "9f1a5616-8d9f-42d2-c3fe-824626497ce8"
   },
   "outputs": [
    {
     "data": {
      "text/plain": [
       "(15,)"
      ]
     },
     "execution_count": 87,
     "metadata": {
      "tags": []
     },
     "output_type": "execute_result"
    }
   ],
   "source": [
    "g.shape"
   ]
  },
  {
   "cell_type": "code",
   "execution_count": 88,
   "metadata": {
    "colab": {
     "base_uri": "https://localhost:8080/"
    },
    "executionInfo": {
     "elapsed": 558,
     "status": "ok",
     "timestamp": 1608359408349,
     "user": {
      "displayName": "Sunghan Kim",
      "photoUrl": "",
      "userId": "06756175428501663555"
     },
     "user_tz": -540
    },
    "id": "eWaim4mcsLY7",
    "outputId": "2bc00385-6844-4b7b-af4b-a1f3111c9b39"
   },
   "outputs": [
    {
     "data": {
      "text/plain": [
       "(15,)"
      ]
     },
     "execution_count": 88,
     "metadata": {
      "tags": []
     },
     "output_type": "execute_result"
    }
   ],
   "source": [
    "np.shape(g)"
   ]
  },
  {
   "cell_type": "code",
   "execution_count": 89,
   "metadata": {
    "colab": {
     "base_uri": "https://localhost:8080/"
    },
    "executionInfo": {
     "elapsed": 545,
     "status": "ok",
     "timestamp": 1608359438848,
     "user": {
      "displayName": "Sunghan Kim",
      "photoUrl": "",
      "userId": "06756175428501663555"
     },
     "user_tz": -540
    },
    "id": "TBQGTVB_sPBz",
    "outputId": "3056fb1d-bd59-42a3-c46a-d146b692cec2"
   },
   "outputs": [
    {
     "data": {
      "text/plain": [
       "array([[ 0,  1,  2,  3,  4],\n",
       "       [ 5,  6,  7,  8,  9],\n",
       "       [10, 11, 12, 13, 14]])"
      ]
     },
     "execution_count": 89,
     "metadata": {
      "tags": []
     },
     "output_type": "execute_result"
    }
   ],
   "source": [
    "g.reshape((3, 5))"
   ]
  },
  {
   "cell_type": "code",
   "execution_count": 90,
   "metadata": {
    "colab": {
     "base_uri": "https://localhost:8080/"
    },
    "executionInfo": {
     "elapsed": 696,
     "status": "ok",
     "timestamp": 1608359457540,
     "user": {
      "displayName": "Sunghan Kim",
      "photoUrl": "",
      "userId": "06756175428501663555"
     },
     "user_tz": -540
    },
    "id": "ZpeDh88OsWeZ",
    "outputId": "4d944ec5-1818-4d00-ed4a-2c1cf6868bfd"
   },
   "outputs": [
    {
     "data": {
      "text/plain": [
       "array([[ 0,  1,  2],\n",
       "       [ 3,  4,  5],\n",
       "       [ 6,  7,  8],\n",
       "       [ 9, 10, 11],\n",
       "       [12, 13, 14]])"
      ]
     },
     "execution_count": 90,
     "metadata": {
      "tags": []
     },
     "output_type": "execute_result"
    }
   ],
   "source": [
    "h = g.reshape((5, 3))\n",
    "h"
   ]
  },
  {
   "cell_type": "code",
   "execution_count": 91,
   "metadata": {
    "colab": {
     "base_uri": "https://localhost:8080/"
    },
    "executionInfo": {
     "elapsed": 555,
     "status": "ok",
     "timestamp": 1608359467441,
     "user": {
      "displayName": "Sunghan Kim",
      "photoUrl": "",
      "userId": "06756175428501663555"
     },
     "user_tz": -540
    },
    "id": "tKXfbW2Bsa_y",
    "outputId": "9b694e02-e3c5-4fb7-be2e-2255c71f2b26"
   },
   "outputs": [
    {
     "data": {
      "text/plain": [
       "array([[ 0,  3,  6,  9, 12],\n",
       "       [ 1,  4,  7, 10, 13],\n",
       "       [ 2,  5,  8, 11, 14]])"
      ]
     },
     "execution_count": 91,
     "metadata": {
      "tags": []
     },
     "output_type": "execute_result"
    }
   ],
   "source": [
    "h.T"
   ]
  },
  {
   "cell_type": "code",
   "execution_count": 92,
   "metadata": {
    "colab": {
     "base_uri": "https://localhost:8080/"
    },
    "executionInfo": {
     "elapsed": 535,
     "status": "ok",
     "timestamp": 1608359483245,
     "user": {
      "displayName": "Sunghan Kim",
      "photoUrl": "",
      "userId": "06756175428501663555"
     },
     "user_tz": -540
    },
    "id": "Ua4hfrwKsddJ",
    "outputId": "a3378d0d-c26b-4d63-df5a-33cdaac9a2a6"
   },
   "outputs": [
    {
     "data": {
      "text/plain": [
       "array([[ 0,  3,  6,  9, 12],\n",
       "       [ 1,  4,  7, 10, 13],\n",
       "       [ 2,  5,  8, 11, 14]])"
      ]
     },
     "execution_count": 92,
     "metadata": {
      "tags": []
     },
     "output_type": "execute_result"
    }
   ],
   "source": [
    "h.transpose()"
   ]
  },
  {
   "cell_type": "code",
   "execution_count": 93,
   "metadata": {
    "colab": {
     "base_uri": "https://localhost:8080/"
    },
    "executionInfo": {
     "elapsed": 611,
     "status": "ok",
     "timestamp": 1608359500880,
     "user": {
      "displayName": "Sunghan Kim",
      "photoUrl": "",
      "userId": "06756175428501663555"
     },
     "user_tz": -540
    },
    "id": "ew9iqCjYshUT",
    "outputId": "25abc790-7b20-4584-9e6a-d173cb9439c8"
   },
   "outputs": [
    {
     "data": {
      "text/plain": [
       "array([[ 0,  1,  2],\n",
       "       [ 3,  4,  5],\n",
       "       [ 6,  7,  8],\n",
       "       [ 9, 10, 11],\n",
       "       [12, 13, 14]])"
      ]
     },
     "execution_count": 93,
     "metadata": {
      "tags": []
     },
     "output_type": "execute_result"
    }
   ],
   "source": [
    "h"
   ]
  },
  {
   "cell_type": "code",
   "execution_count": 94,
   "metadata": {
    "colab": {
     "base_uri": "https://localhost:8080/"
    },
    "executionInfo": {
     "elapsed": 568,
     "status": "ok",
     "timestamp": 1608359510636,
     "user": {
      "displayName": "Sunghan Kim",
      "photoUrl": "",
      "userId": "06756175428501663555"
     },
     "user_tz": -540
    },
    "id": "3du1LOYhslhj",
    "outputId": "04c5bbfb-5377-4880-98b1-8fa16b6ab7fa"
   },
   "outputs": [
    {
     "data": {
      "text/plain": [
       "array([[ 0,  1,  2,  0,  2,  4],\n",
       "       [ 3,  4,  5,  6,  8, 10],\n",
       "       [ 6,  7,  8, 12, 14, 16],\n",
       "       [ 9, 10, 11, 18, 20, 22],\n",
       "       [12, 13, 14, 24, 26, 28]])"
      ]
     },
     "execution_count": 94,
     "metadata": {
      "tags": []
     },
     "output_type": "execute_result"
    }
   ],
   "source": [
    "np.hstack((h, 2 * h))"
   ]
  },
  {
   "cell_type": "code",
   "execution_count": 95,
   "metadata": {
    "colab": {
     "base_uri": "https://localhost:8080/"
    },
    "executionInfo": {
     "elapsed": 562,
     "status": "ok",
     "timestamp": 1608359518201,
     "user": {
      "displayName": "Sunghan Kim",
      "photoUrl": "",
      "userId": "06756175428501663555"
     },
     "user_tz": -540
    },
    "id": "Q3D-XvD9soAJ",
    "outputId": "879a11e9-73d7-4c0d-e638-5dd2e0a696f3"
   },
   "outputs": [
    {
     "data": {
      "text/plain": [
       "array([[ 0. ,  1. ,  2. ],\n",
       "       [ 3. ,  4. ,  5. ],\n",
       "       [ 6. ,  7. ,  8. ],\n",
       "       [ 9. , 10. , 11. ],\n",
       "       [12. , 13. , 14. ],\n",
       "       [ 0. ,  0.5,  1. ],\n",
       "       [ 1.5,  2. ,  2.5],\n",
       "       [ 3. ,  3.5,  4. ],\n",
       "       [ 4.5,  5. ,  5.5],\n",
       "       [ 6. ,  6.5,  7. ]])"
      ]
     },
     "execution_count": 95,
     "metadata": {
      "tags": []
     },
     "output_type": "execute_result"
    }
   ],
   "source": [
    "np.vstack((h, 0.5 * h))"
   ]
  },
  {
   "cell_type": "code",
   "execution_count": 96,
   "metadata": {
    "colab": {
     "base_uri": "https://localhost:8080/"
    },
    "executionInfo": {
     "elapsed": 629,
     "status": "ok",
     "timestamp": 1608359525425,
     "user": {
      "displayName": "Sunghan Kim",
      "photoUrl": "",
      "userId": "06756175428501663555"
     },
     "user_tz": -540
    },
    "id": "A_cO7v14sp2L",
    "outputId": "bb2d20ba-7c5f-4bfd-9114-894fc49373df"
   },
   "outputs": [
    {
     "data": {
      "text/plain": [
       "array([[ 0,  1,  2],\n",
       "       [ 3,  4,  5],\n",
       "       [ 6,  7,  8],\n",
       "       [ 9, 10, 11],\n",
       "       [12, 13, 14]])"
      ]
     },
     "execution_count": 96,
     "metadata": {
      "tags": []
     },
     "output_type": "execute_result"
    }
   ],
   "source": [
    "h"
   ]
  },
  {
   "cell_type": "code",
   "execution_count": 97,
   "metadata": {
    "colab": {
     "base_uri": "https://localhost:8080/"
    },
    "executionInfo": {
     "elapsed": 635,
     "status": "ok",
     "timestamp": 1608359535763,
     "user": {
      "displayName": "Sunghan Kim",
      "photoUrl": "",
      "userId": "06756175428501663555"
     },
     "user_tz": -540
    },
    "id": "ZWxvq-b9srk8",
    "outputId": "58eb3d2b-c162-4e22-cb6c-087470cdfa4e"
   },
   "outputs": [
    {
     "data": {
      "text/plain": [
       "array([ 0,  1,  2,  3,  4,  5,  6,  7,  8,  9, 10, 11, 12, 13, 14])"
      ]
     },
     "execution_count": 97,
     "metadata": {
      "tags": []
     },
     "output_type": "execute_result"
    }
   ],
   "source": [
    "h.flatten()"
   ]
  },
  {
   "cell_type": "code",
   "execution_count": 98,
   "metadata": {
    "colab": {
     "base_uri": "https://localhost:8080/"
    },
    "executionInfo": {
     "elapsed": 573,
     "status": "ok",
     "timestamp": 1608359547291,
     "user": {
      "displayName": "Sunghan Kim",
      "photoUrl": "",
      "userId": "06756175428501663555"
     },
     "user_tz": -540
    },
    "id": "d1CRlGYcsuHj",
    "outputId": "6be21ada-9803-4885-a1ac-01213b9c82b3"
   },
   "outputs": [
    {
     "data": {
      "text/plain": [
       "array([ 0,  1,  2,  3,  4,  5,  6,  7,  8,  9, 10, 11, 12, 13, 14])"
      ]
     },
     "execution_count": 98,
     "metadata": {
      "tags": []
     },
     "output_type": "execute_result"
    }
   ],
   "source": [
    "h.flatten(order='C')"
   ]
  },
  {
   "cell_type": "code",
   "execution_count": 99,
   "metadata": {
    "colab": {
     "base_uri": "https://localhost:8080/"
    },
    "executionInfo": {
     "elapsed": 596,
     "status": "ok",
     "timestamp": 1608359553475,
     "user": {
      "displayName": "Sunghan Kim",
      "photoUrl": "",
      "userId": "06756175428501663555"
     },
     "user_tz": -540
    },
    "id": "qqpEDzFdsw8k",
    "outputId": "786ff60d-ee97-402f-e039-549ede5d52c1"
   },
   "outputs": [
    {
     "data": {
      "text/plain": [
       "array([ 0,  3,  6,  9, 12,  1,  4,  7, 10, 13,  2,  5,  8, 11, 14])"
      ]
     },
     "execution_count": 99,
     "metadata": {
      "tags": []
     },
     "output_type": "execute_result"
    }
   ],
   "source": [
    "h.flatten(order='F')"
   ]
  },
  {
   "cell_type": "code",
   "execution_count": 100,
   "metadata": {
    "colab": {
     "base_uri": "https://localhost:8080/"
    },
    "executionInfo": {
     "elapsed": 655,
     "status": "ok",
     "timestamp": 1608359566418,
     "user": {
      "displayName": "Sunghan Kim",
      "photoUrl": "",
      "userId": "06756175428501663555"
     },
     "user_tz": -540
    },
    "id": "z_KrJzSXsydC",
    "outputId": "daf0b9ba-3709-4fe9-a0d9-4fc8cc1323d6"
   },
   "outputs": [
    {
     "name": "stdout",
     "output_type": "stream",
     "text": [
      "0,1,2,3,4,5,6,7,8,9,10,11,12,13,14,"
     ]
    }
   ],
   "source": [
    "for i in h.flat:\n",
    "    print(i, end=',')"
   ]
  },
  {
   "cell_type": "code",
   "execution_count": 101,
   "metadata": {
    "colab": {
     "base_uri": "https://localhost:8080/"
    },
    "executionInfo": {
     "elapsed": 739,
     "status": "ok",
     "timestamp": 1608359587009,
     "user": {
      "displayName": "Sunghan Kim",
      "photoUrl": "",
      "userId": "06756175428501663555"
     },
     "user_tz": -540
    },
    "id": "M_3exR4is1mL",
    "outputId": "c9d756a6-eaa1-4ff9-9713-3a18f28a5c8c"
   },
   "outputs": [
    {
     "name": "stdout",
     "output_type": "stream",
     "text": [
      "0,1,2,3,4,5,6,7,8,9,10,11,12,13,14,"
     ]
    }
   ],
   "source": [
    "for i in h.ravel(order='C'):\n",
    "    print(i, end=',')"
   ]
  },
  {
   "cell_type": "code",
   "execution_count": 102,
   "metadata": {
    "colab": {
     "base_uri": "https://localhost:8080/"
    },
    "executionInfo": {
     "elapsed": 566,
     "status": "ok",
     "timestamp": 1608359594577,
     "user": {
      "displayName": "Sunghan Kim",
      "photoUrl": "",
      "userId": "06756175428501663555"
     },
     "user_tz": -540
    },
    "id": "PAyVrngQs6mb",
    "outputId": "d2f9c76d-c1c1-436e-96ee-c651d35b2267"
   },
   "outputs": [
    {
     "name": "stdout",
     "output_type": "stream",
     "text": [
      "0,3,6,9,12,1,4,7,10,13,2,5,8,11,14,"
     ]
    }
   ],
   "source": [
    "for i in h.ravel(order='F'):\n",
    "    print(i, end=',')"
   ]
  },
  {
   "cell_type": "markdown",
   "metadata": {
    "id": "0QXNuDGHtA1i"
   },
   "source": [
    "#### Boolean Arrays"
   ]
  },
  {
   "cell_type": "code",
   "execution_count": 103,
   "metadata": {
    "colab": {
     "base_uri": "https://localhost:8080/"
    },
    "executionInfo": {
     "elapsed": 588,
     "status": "ok",
     "timestamp": 1608359619864,
     "user": {
      "displayName": "Sunghan Kim",
      "photoUrl": "",
      "userId": "06756175428501663555"
     },
     "user_tz": -540
    },
    "id": "wE3QT1ONs8fj",
    "outputId": "87fd74db-4d52-4a91-cacf-590fd73584da"
   },
   "outputs": [
    {
     "data": {
      "text/plain": [
       "array([[ 0,  1,  2],\n",
       "       [ 3,  4,  5],\n",
       "       [ 6,  7,  8],\n",
       "       [ 9, 10, 11],\n",
       "       [12, 13, 14]])"
      ]
     },
     "execution_count": 103,
     "metadata": {
      "tags": []
     },
     "output_type": "execute_result"
    }
   ],
   "source": [
    "h"
   ]
  },
  {
   "cell_type": "code",
   "execution_count": 104,
   "metadata": {
    "colab": {
     "base_uri": "https://localhost:8080/"
    },
    "executionInfo": {
     "elapsed": 588,
     "status": "ok",
     "timestamp": 1608359629790,
     "user": {
      "displayName": "Sunghan Kim",
      "photoUrl": "",
      "userId": "06756175428501663555"
     },
     "user_tz": -540
    },
    "id": "0fbtKFNYtCqZ",
    "outputId": "d746dd3c-7116-4adb-dd55-0a15417c78da"
   },
   "outputs": [
    {
     "data": {
      "text/plain": [
       "array([[False, False, False],\n",
       "       [False, False, False],\n",
       "       [False, False, False],\n",
       "       [ True,  True,  True],\n",
       "       [ True,  True,  True]])"
      ]
     },
     "execution_count": 104,
     "metadata": {
      "tags": []
     },
     "output_type": "execute_result"
    }
   ],
   "source": [
    "h > 8"
   ]
  },
  {
   "cell_type": "code",
   "execution_count": 105,
   "metadata": {
    "colab": {
     "base_uri": "https://localhost:8080/"
    },
    "executionInfo": {
     "elapsed": 575,
     "status": "ok",
     "timestamp": 1608359639089,
     "user": {
      "displayName": "Sunghan Kim",
      "photoUrl": "",
      "userId": "06756175428501663555"
     },
     "user_tz": -540
    },
    "id": "zELIdvfatFFD",
    "outputId": "a8c2cb7c-cf11-4eeb-faa8-fdb45e3ad8a3"
   },
   "outputs": [
    {
     "data": {
      "text/plain": [
       "array([[ True,  True,  True],\n",
       "       [ True,  True,  True],\n",
       "       [ True,  True, False],\n",
       "       [False, False, False],\n",
       "       [False, False, False]])"
      ]
     },
     "execution_count": 105,
     "metadata": {
      "tags": []
     },
     "output_type": "execute_result"
    }
   ],
   "source": [
    "h <= 7"
   ]
  },
  {
   "cell_type": "code",
   "execution_count": 106,
   "metadata": {
    "colab": {
     "base_uri": "https://localhost:8080/"
    },
    "executionInfo": {
     "elapsed": 552,
     "status": "ok",
     "timestamp": 1608359644351,
     "user": {
      "displayName": "Sunghan Kim",
      "photoUrl": "",
      "userId": "06756175428501663555"
     },
     "user_tz": -540
    },
    "id": "yfebywqGtHXC",
    "outputId": "9dc82008-ad40-4b39-c16f-3437e1cbf42c"
   },
   "outputs": [
    {
     "data": {
      "text/plain": [
       "array([[False, False, False],\n",
       "       [False, False,  True],\n",
       "       [False, False, False],\n",
       "       [False, False, False],\n",
       "       [False, False, False]])"
      ]
     },
     "execution_count": 106,
     "metadata": {
      "tags": []
     },
     "output_type": "execute_result"
    }
   ],
   "source": [
    "h == 5"
   ]
  },
  {
   "cell_type": "code",
   "execution_count": 107,
   "metadata": {
    "colab": {
     "base_uri": "https://localhost:8080/"
    },
    "executionInfo": {
     "elapsed": 746,
     "status": "ok",
     "timestamp": 1608359664770,
     "user": {
      "displayName": "Sunghan Kim",
      "photoUrl": "",
      "userId": "06756175428501663555"
     },
     "user_tz": -540
    },
    "id": "QsTiG98CtIpb",
    "outputId": "fc056e0e-c6d7-4ae9-cc7b-43d144dc5b5a"
   },
   "outputs": [
    {
     "data": {
      "text/plain": [
       "array([[0, 0, 0],\n",
       "       [0, 0, 1],\n",
       "       [0, 0, 0],\n",
       "       [0, 0, 0],\n",
       "       [0, 0, 0]])"
      ]
     },
     "execution_count": 107,
     "metadata": {
      "tags": []
     },
     "output_type": "execute_result"
    }
   ],
   "source": [
    "(h == 5).astype(int) #True는 0, False는 0으로 표현"
   ]
  },
  {
   "cell_type": "code",
   "execution_count": 108,
   "metadata": {
    "colab": {
     "base_uri": "https://localhost:8080/"
    },
    "executionInfo": {
     "elapsed": 550,
     "status": "ok",
     "timestamp": 1608359714051,
     "user": {
      "displayName": "Sunghan Kim",
      "photoUrl": "",
      "userId": "06756175428501663555"
     },
     "user_tz": -540
    },
    "id": "4vZYEneWtNlp",
    "outputId": "542e825c-a310-4450-bbd7-d5d9b64a78ad"
   },
   "outputs": [
    {
     "data": {
      "text/plain": [
       "array([[False, False, False],\n",
       "       [False, False,  True],\n",
       "       [ True,  True,  True],\n",
       "       [ True,  True,  True],\n",
       "       [ True, False, False]])"
      ]
     },
     "execution_count": 108,
     "metadata": {
      "tags": []
     },
     "output_type": "execute_result"
    }
   ],
   "source": [
    "(h > 4) & (h <= 12) # &:and"
   ]
  },
  {
   "cell_type": "code",
   "execution_count": 109,
   "metadata": {
    "colab": {
     "base_uri": "https://localhost:8080/"
    },
    "executionInfo": {
     "elapsed": 576,
     "status": "ok",
     "timestamp": 1608359767027,
     "user": {
      "displayName": "Sunghan Kim",
      "photoUrl": "",
      "userId": "06756175428501663555"
     },
     "user_tz": -540
    },
    "id": "CrYadxsttZqj",
    "outputId": "0cc84f00-638c-47c7-f169-e3cbe7f5b3d0"
   },
   "outputs": [
    {
     "data": {
      "text/plain": [
       "array([ 9, 10, 11, 12, 13, 14])"
      ]
     },
     "execution_count": 109,
     "metadata": {
      "tags": []
     },
     "output_type": "execute_result"
    }
   ],
   "source": [
    "h[h>8]"
   ]
  },
  {
   "cell_type": "code",
   "execution_count": 110,
   "metadata": {
    "colab": {
     "base_uri": "https://localhost:8080/"
    },
    "executionInfo": {
     "elapsed": 563,
     "status": "ok",
     "timestamp": 1608359775355,
     "user": {
      "displayName": "Sunghan Kim",
      "photoUrl": "",
      "userId": "06756175428501663555"
     },
     "user_tz": -540
    },
    "id": "O76SHzs8tml6",
    "outputId": "618aa481-466d-484b-812d-1d62ae91931b"
   },
   "outputs": [
    {
     "data": {
      "text/plain": [
       "array([ 5,  6,  7,  8,  9, 10, 11, 12])"
      ]
     },
     "execution_count": 110,
     "metadata": {
      "tags": []
     },
     "output_type": "execute_result"
    }
   ],
   "source": [
    "h[(h > 4) & (h <= 12)]"
   ]
  },
  {
   "cell_type": "code",
   "execution_count": 111,
   "metadata": {
    "colab": {
     "base_uri": "https://localhost:8080/"
    },
    "executionInfo": {
     "elapsed": 573,
     "status": "ok",
     "timestamp": 1608359789180,
     "user": {
      "displayName": "Sunghan Kim",
      "photoUrl": "",
      "userId": "06756175428501663555"
     },
     "user_tz": -540
    },
    "id": "_6d7j9jEtooL",
    "outputId": "ca0599c8-00e4-4a24-9863-ddb6e16fc13f"
   },
   "outputs": [
    {
     "data": {
      "text/plain": [
       "array([ 0,  1,  2,  3, 12, 13, 14])"
      ]
     },
     "execution_count": 111,
     "metadata": {
      "tags": []
     },
     "output_type": "execute_result"
    }
   ],
   "source": [
    "h[(h < 4) | (h >= 12)] # | : or"
   ]
  },
  {
   "cell_type": "code",
   "execution_count": 116,
   "metadata": {
    "colab": {
     "base_uri": "https://localhost:8080/"
    },
    "executionInfo": {
     "elapsed": 596,
     "status": "ok",
     "timestamp": 1608359903222,
     "user": {
      "displayName": "Sunghan Kim",
      "photoUrl": "",
      "userId": "06756175428501663555"
     },
     "user_tz": -540
    },
    "id": "Xuf8XySltsAK",
    "outputId": "002be669-f3f0-4929-adb8-09eab4610720"
   },
   "outputs": [
    {
     "data": {
      "text/plain": [
       "array([[0, 0, 0],\n",
       "       [0, 0, 0],\n",
       "       [0, 0, 1],\n",
       "       [1, 1, 1],\n",
       "       [1, 1, 1]])"
      ]
     },
     "execution_count": 116,
     "metadata": {
      "tags": []
     },
     "output_type": "execute_result"
    }
   ],
   "source": [
    "np.where(h > 7, 1, 0) # array h 에서 7이상이면 1, 아니면 0"
   ]
  },
  {
   "cell_type": "code",
   "execution_count": 113,
   "metadata": {
    "colab": {
     "base_uri": "https://localhost:8080/"
    },
    "executionInfo": {
     "elapsed": 766,
     "status": "ok",
     "timestamp": 1608359824681,
     "user": {
      "displayName": "Sunghan Kim",
      "photoUrl": "",
      "userId": "06756175428501663555"
     },
     "user_tz": -540
    },
    "id": "MH1Eie2atu7D",
    "outputId": "2d3807c9-5424-4828-993a-0cf81020aab0"
   },
   "outputs": [
    {
     "data": {
      "text/plain": [
       "array([['even', 'odd', 'even'],\n",
       "       ['odd', 'even', 'odd'],\n",
       "       ['even', 'odd', 'even'],\n",
       "       ['odd', 'even', 'odd'],\n",
       "       ['even', 'odd', 'even']], dtype='<U4')"
      ]
     },
     "execution_count": 113,
     "metadata": {
      "tags": []
     },
     "output_type": "execute_result"
    }
   ],
   "source": [
    "np.where(h % 2 == 0, 'even', 'odd')"
   ]
  },
  {
   "cell_type": "code",
   "execution_count": 114,
   "metadata": {
    "colab": {
     "base_uri": "https://localhost:8080/"
    },
    "executionInfo": {
     "elapsed": 543,
     "status": "ok",
     "timestamp": 1608359833884,
     "user": {
      "displayName": "Sunghan Kim",
      "photoUrl": "",
      "userId": "06756175428501663555"
     },
     "user_tz": -540
    },
    "id": "epEhbFIit0n6",
    "outputId": "0cc42cb1-760a-467f-e32a-0cdfa66ef98e"
   },
   "outputs": [
    {
     "data": {
      "text/plain": [
       "array([[ 0. ,  2. ,  4. ],\n",
       "       [ 6. ,  8. , 10. ],\n",
       "       [12. , 14. ,  4. ],\n",
       "       [ 4.5,  5. ,  5.5],\n",
       "       [ 6. ,  6.5,  7. ]])"
      ]
     },
     "execution_count": 114,
     "metadata": {
      "tags": []
     },
     "output_type": "execute_result"
    }
   ],
   "source": [
    "np.where(h <= 7, h * 2, h / 2)"
   ]
  },
  {
   "cell_type": "markdown",
   "metadata": {
    "id": "uhyLiJzmuUVA"
   },
   "source": [
    "#### Speed Comparison"
   ]
  },
  {
   "cell_type": "code",
   "execution_count": 117,
   "metadata": {
    "executionInfo": {
     "elapsed": 537,
     "status": "ok",
     "timestamp": 1608359973246,
     "user": {
      "displayName": "Sunghan Kim",
      "photoUrl": "",
      "userId": "06756175428501663555"
     },
     "user_tz": -540
    },
    "id": "W8r7JBmnt24c"
   },
   "outputs": [],
   "source": [
    "import random\n",
    "I = 5000"
   ]
  },
  {
   "cell_type": "code",
   "execution_count": 118,
   "metadata": {
    "colab": {
     "base_uri": "https://localhost:8080/"
    },
    "executionInfo": {
     "elapsed": 16512,
     "status": "ok",
     "timestamp": 1608360021165,
     "user": {
      "displayName": "Sunghan Kim",
      "photoUrl": "",
      "userId": "06756175428501663555"
     },
     "user_tz": -540
    },
    "id": "jpdXoyPruY70",
    "outputId": "8fcf9985-4271-4b27-e1e3-638ccbad9ca0"
   },
   "outputs": [
    {
     "name": "stdout",
     "output_type": "stream",
     "text": [
      "CPU times: user 15.2 s, sys: 699 ms, total: 15.9 s\n",
      "Wall time: 16 s\n"
     ]
    }
   ],
   "source": [
    "%time mat = [[random.gauss(0, 1) for j in range(I)] \\\n",
    "             for i in range(I)]"
   ]
  },
  {
   "cell_type": "code",
   "execution_count": 119,
   "metadata": {
    "colab": {
     "base_uri": "https://localhost:8080/"
    },
    "executionInfo": {
     "elapsed": 723,
     "status": "ok",
     "timestamp": 1608360042897,
     "user": {
      "displayName": "Sunghan Kim",
      "photoUrl": "",
      "userId": "06756175428501663555"
     },
     "user_tz": -540
    },
    "id": "wo-SBVDXugvj",
    "outputId": "5e474054-c412-4f20-ec45-9b03b2fec8d8"
   },
   "outputs": [
    {
     "data": {
      "text/plain": [
       "[1.5602879753880734,\n",
       " -1.4254445181056459,\n",
       " -1.0523645349685855,\n",
       " -0.014067710828187325,\n",
       " -0.5327760183242733]"
      ]
     },
     "execution_count": 119,
     "metadata": {
      "tags": []
     },
     "output_type": "execute_result"
    }
   ],
   "source": [
    "mat[0][:5]"
   ]
  },
  {
   "cell_type": "code",
   "execution_count": 120,
   "metadata": {
    "colab": {
     "base_uri": "https://localhost:8080/"
    },
    "executionInfo": {
     "elapsed": 555,
     "status": "ok",
     "timestamp": 1608360054928,
     "user": {
      "displayName": "Sunghan Kim",
      "photoUrl": "",
      "userId": "06756175428501663555"
     },
     "user_tz": -540
    },
    "id": "EKattk-Bup58",
    "outputId": "8da3ee5c-e8cf-4efc-e966-5af88a98f18e"
   },
   "outputs": [
    {
     "name": "stdout",
     "output_type": "stream",
     "text": [
      "CPU times: user 156 ms, sys: 1.92 ms, total: 158 ms\n",
      "Wall time: 159 ms\n"
     ]
    },
    {
     "data": {
      "text/plain": [
       "2139.1563464769556"
      ]
     },
     "execution_count": 120,
     "metadata": {
      "tags": []
     },
     "output_type": "execute_result"
    }
   ],
   "source": [
    "%time sum([sum(l) for l in mat])"
   ]
  },
  {
   "cell_type": "code",
   "execution_count": 121,
   "metadata": {
    "colab": {
     "base_uri": "https://localhost:8080/"
    },
    "executionInfo": {
     "elapsed": 519,
     "status": "ok",
     "timestamp": 1608360102540,
     "user": {
      "displayName": "Sunghan Kim",
      "photoUrl": "",
      "userId": "06756175428501663555"
     },
     "user_tz": -540
    },
    "id": "iqQ4DYbDus4j",
    "outputId": "a66b0bbb-1dc0-4497-ca7b-100424e50f5a"
   },
   "outputs": [
    {
     "data": {
      "text/plain": [
       "215200000"
      ]
     },
     "execution_count": 121,
     "metadata": {
      "tags": []
     },
     "output_type": "execute_result"
    }
   ],
   "source": [
    "import sys\n",
    "sum([sys.getsizeof(l) for l in mat])"
   ]
  },
  {
   "cell_type": "code",
   "execution_count": 122,
   "metadata": {
    "colab": {
     "base_uri": "https://localhost:8080/"
    },
    "executionInfo": {
     "elapsed": 2004,
     "status": "ok",
     "timestamp": 1608360127312,
     "user": {
      "displayName": "Sunghan Kim",
      "photoUrl": "",
      "userId": "06756175428501663555"
     },
     "user_tz": -540
    },
    "id": "E-M2wnzbu4hE",
    "outputId": "65123258-2e7e-40ac-a417-9634651b3255"
   },
   "outputs": [
    {
     "name": "stdout",
     "output_type": "stream",
     "text": [
      "CPU times: user 1.31 s, sys: 171 ms, total: 1.48 s\n",
      "Wall time: 1.48 s\n"
     ]
    }
   ],
   "source": [
    "%time mat = np.random.standard_normal((I, I))"
   ]
  },
  {
   "cell_type": "code",
   "execution_count": 123,
   "metadata": {
    "colab": {
     "base_uri": "https://localhost:8080/"
    },
    "executionInfo": {
     "elapsed": 498,
     "status": "ok",
     "timestamp": 1608360133953,
     "user": {
      "displayName": "Sunghan Kim",
      "photoUrl": "",
      "userId": "06756175428501663555"
     },
     "user_tz": -540
    },
    "id": "JV87Ujl6u-M-",
    "outputId": "654bdf58-74db-4e3a-8af7-1c7ec13b4136"
   },
   "outputs": [
    {
     "name": "stdout",
     "output_type": "stream",
     "text": [
      "CPU times: user 21.9 ms, sys: 0 ns, total: 21.9 ms\n",
      "Wall time: 24.1 ms\n"
     ]
    },
    {
     "data": {
      "text/plain": [
       "-6748.405169847809"
      ]
     },
     "execution_count": 123,
     "metadata": {
      "tags": []
     },
     "output_type": "execute_result"
    }
   ],
   "source": [
    "%time mat.sum()"
   ]
  },
  {
   "cell_type": "code",
   "execution_count": 124,
   "metadata": {
    "colab": {
     "base_uri": "https://localhost:8080/"
    },
    "executionInfo": {
     "elapsed": 496,
     "status": "ok",
     "timestamp": 1608360142705,
     "user": {
      "displayName": "Sunghan Kim",
      "photoUrl": "",
      "userId": "06756175428501663555"
     },
     "user_tz": -540
    },
    "id": "qQd42ig1vAMV",
    "outputId": "5dcb5cc3-0ff5-4913-ab1a-97f82a1f17e8"
   },
   "outputs": [
    {
     "data": {
      "text/plain": [
       "200000000"
      ]
     },
     "execution_count": 124,
     "metadata": {
      "tags": []
     },
     "output_type": "execute_result"
    }
   ],
   "source": [
    "mat.nbytes"
   ]
  },
  {
   "cell_type": "code",
   "execution_count": 125,
   "metadata": {
    "colab": {
     "base_uri": "https://localhost:8080/"
    },
    "executionInfo": {
     "elapsed": 545,
     "status": "ok",
     "timestamp": 1608360149106,
     "user": {
      "displayName": "Sunghan Kim",
      "photoUrl": "",
      "userId": "06756175428501663555"
     },
     "user_tz": -540
    },
    "id": "RGNPZj6LvCU4",
    "outputId": "01b7090d-c586-492c-a973-ec3b4b74ca0e"
   },
   "outputs": [
    {
     "data": {
      "text/plain": [
       "200000112"
      ]
     },
     "execution_count": 125,
     "metadata": {
      "tags": []
     },
     "output_type": "execute_result"
    }
   ],
   "source": [
    "sys.getsizeof(mat)"
   ]
  },
  {
   "cell_type": "markdown",
   "metadata": {
    "id": "MhoetjRUvSr8"
   },
   "source": [
    "### Structured NumPy Arrays"
   ]
  },
  {
   "cell_type": "code",
   "execution_count": 126,
   "metadata": {
    "colab": {
     "base_uri": "https://localhost:8080/"
    },
    "executionInfo": {
     "elapsed": 620,
     "status": "ok",
     "timestamp": 1608360335462,
     "user": {
      "displayName": "Sunghan Kim",
      "photoUrl": "",
      "userId": "06756175428501663555"
     },
     "user_tz": -540
    },
    "id": "6q0svLuHvD4M",
    "outputId": "1d96870d-0057-4e69-b8aa-974386d9f203"
   },
   "outputs": [
    {
     "data": {
      "text/plain": [
       "dtype([('Name', 'S10'), ('Age', '<i4'), ('Height', '<f4'), ('Children/Pets', '<i4', (2,))])"
      ]
     },
     "execution_count": 126,
     "metadata": {
      "tags": []
     },
     "output_type": "execute_result"
    }
   ],
   "source": [
    "dt = np.dtype([('Name', 'S10'), ('Age', 'i4'), ('Height', 'f'), ('Children/Pets', 'i4', 2)])\n",
    "dt"
   ]
  },
  {
   "cell_type": "code",
   "execution_count": 127,
   "metadata": {
    "colab": {
     "base_uri": "https://localhost:8080/"
    },
    "executionInfo": {
     "elapsed": 1037,
     "status": "ok",
     "timestamp": 1608360857474,
     "user": {
      "displayName": "Sunghan Kim",
      "photoUrl": "",
      "userId": "06756175428501663555"
     },
     "user_tz": -540
    },
    "id": "3fgoyngIvxOv",
    "outputId": "e263bb81-39ba-4985-c068-2f37ab4d0139"
   },
   "outputs": [
    {
     "data": {
      "text/plain": [
       "dtype([('Name', 'O'), ('Age', '<i8'), ('Height', '<f8'), ('Children/Pets', [('f0', '<i8'), ('f1', '<i8')])])"
      ]
     },
     "execution_count": 127,
     "metadata": {
      "tags": []
     },
     "output_type": "execute_result"
    }
   ],
   "source": [
    "dt = np.dtype({'names': ['Name', 'Age', 'Height', 'Children/Pets'], 'formats':'O int float int,int'.split()})\n",
    "dt"
   ]
  },
  {
   "cell_type": "code",
   "execution_count": 128,
   "metadata": {
    "colab": {
     "base_uri": "https://localhost:8080/"
    },
    "executionInfo": {
     "elapsed": 1100,
     "status": "ok",
     "timestamp": 1608360874843,
     "user": {
      "displayName": "Sunghan Kim",
      "photoUrl": "",
      "userId": "06756175428501663555"
     },
     "user_tz": -540
    },
    "id": "zOzhbU4_xwgF",
    "outputId": "a9e00fca-ed54-4415-93f6-9bca61689467"
   },
   "outputs": [
    {
     "data": {
      "text/plain": [
       "array([('Smith', 45, 1.83, (0, 1)), ('Jones', 53, 1.72, (2, 2))],\n",
       "      dtype=[('Name', 'O'), ('Age', '<i8'), ('Height', '<f8'), ('Children/Pets', [('f0', '<i8'), ('f1', '<i8')])])"
      ]
     },
     "execution_count": 128,
     "metadata": {
      "tags": []
     },
     "output_type": "execute_result"
    }
   ],
   "source": [
    "s = np.array([('Smith', 45, 1.83, (0, 1)), ('Jones', 53, 1.72, (2, 2))], dtype=dt)\n",
    "s"
   ]
  },
  {
   "cell_type": "code",
   "execution_count": 129,
   "metadata": {
    "colab": {
     "base_uri": "https://localhost:8080/"
    },
    "executionInfo": {
     "elapsed": 532,
     "status": "ok",
     "timestamp": 1608360883897,
     "user": {
      "displayName": "Sunghan Kim",
      "photoUrl": "",
      "userId": "06756175428501663555"
     },
     "user_tz": -540
    },
    "id": "LIGLwS8Ox0sA",
    "outputId": "97440488-d758-4633-c35f-8afc14cbd11e"
   },
   "outputs": [
    {
     "data": {
      "text/plain": [
       "numpy.ndarray"
      ]
     },
     "execution_count": 129,
     "metadata": {
      "tags": []
     },
     "output_type": "execute_result"
    }
   ],
   "source": [
    "type(s)"
   ]
  },
  {
   "cell_type": "code",
   "execution_count": 130,
   "metadata": {
    "colab": {
     "base_uri": "https://localhost:8080/"
    },
    "executionInfo": {
     "elapsed": 503,
     "status": "ok",
     "timestamp": 1608360893048,
     "user": {
      "displayName": "Sunghan Kim",
      "photoUrl": "",
      "userId": "06756175428501663555"
     },
     "user_tz": -540
    },
    "id": "mf7TmbWsx3Rk",
    "outputId": "3d438d42-a4ac-4b07-dc25-678161eaf422"
   },
   "outputs": [
    {
     "data": {
      "text/plain": [
       "array(['Smith', 'Jones'], dtype=object)"
      ]
     },
     "execution_count": 130,
     "metadata": {
      "tags": []
     },
     "output_type": "execute_result"
    }
   ],
   "source": [
    "s['Name']"
   ]
  },
  {
   "cell_type": "code",
   "execution_count": 131,
   "metadata": {
    "colab": {
     "base_uri": "https://localhost:8080/"
    },
    "executionInfo": {
     "elapsed": 548,
     "status": "ok",
     "timestamp": 1608360897963,
     "user": {
      "displayName": "Sunghan Kim",
      "photoUrl": "",
      "userId": "06756175428501663555"
     },
     "user_tz": -540
    },
    "id": "DGXwEtJjx5g0",
    "outputId": "5a623d22-0995-44fa-e1e0-e8c1ce36bef2"
   },
   "outputs": [
    {
     "data": {
      "text/plain": [
       "1.775"
      ]
     },
     "execution_count": 131,
     "metadata": {
      "tags": []
     },
     "output_type": "execute_result"
    }
   ],
   "source": [
    "s['Height'].mean()"
   ]
  },
  {
   "cell_type": "code",
   "execution_count": 132,
   "metadata": {
    "colab": {
     "base_uri": "https://localhost:8080/"
    },
    "executionInfo": {
     "elapsed": 523,
     "status": "ok",
     "timestamp": 1608360903360,
     "user": {
      "displayName": "Sunghan Kim",
      "photoUrl": "",
      "userId": "06756175428501663555"
     },
     "user_tz": -540
    },
    "id": "bB416TwNx6tD",
    "outputId": "5adc64a7-e4f5-4c7c-8c3f-72df77c58f57"
   },
   "outputs": [
    {
     "data": {
      "text/plain": [
       "('Smith', 45, 1.83, (0, 1))"
      ]
     },
     "execution_count": 132,
     "metadata": {
      "tags": []
     },
     "output_type": "execute_result"
    }
   ],
   "source": [
    "s[0]"
   ]
  },
  {
   "cell_type": "code",
   "execution_count": 133,
   "metadata": {
    "colab": {
     "base_uri": "https://localhost:8080/"
    },
    "executionInfo": {
     "elapsed": 498,
     "status": "ok",
     "timestamp": 1608360911260,
     "user": {
      "displayName": "Sunghan Kim",
      "photoUrl": "",
      "userId": "06756175428501663555"
     },
     "user_tz": -540
    },
    "id": "32fqOG8Mx8B0",
    "outputId": "646c82e8-4b3c-4235-97dc-bfb5b9ffed22"
   },
   "outputs": [
    {
     "data": {
      "text/plain": [
       "53"
      ]
     },
     "execution_count": 133,
     "metadata": {
      "tags": []
     },
     "output_type": "execute_result"
    }
   ],
   "source": [
    "s[1]['Age']"
   ]
  },
  {
   "cell_type": "markdown",
   "metadata": {
    "id": "wGlDoV8AyArz"
   },
   "source": [
    "### Vectorization of Code\n",
    "\n"
   ]
  },
  {
   "cell_type": "markdown",
   "metadata": {
    "id": "oIZ0h9MB0rr7"
   },
   "source": [
    "#### Basic Vectorization"
   ]
  },
  {
   "cell_type": "code",
   "execution_count": 134,
   "metadata": {
    "executionInfo": {
     "elapsed": 526,
     "status": "ok",
     "timestamp": 1608360964958,
     "user": {
      "displayName": "Sunghan Kim",
      "photoUrl": "",
      "userId": "06756175428501663555"
     },
     "user_tz": -540
    },
    "id": "s0bjwJcWx99q"
   },
   "outputs": [],
   "source": [
    "np.random.seed(100)\n",
    "r = np.arange(12).reshape((4, 3))\n",
    "s = np.arange(12).reshape((4, 3)) * 0.5"
   ]
  },
  {
   "cell_type": "code",
   "execution_count": 135,
   "metadata": {
    "colab": {
     "base_uri": "https://localhost:8080/"
    },
    "executionInfo": {
     "elapsed": 602,
     "status": "ok",
     "timestamp": 1608360967300,
     "user": {
      "displayName": "Sunghan Kim",
      "photoUrl": "",
      "userId": "06756175428501663555"
     },
     "user_tz": -540
    },
    "id": "l_CW_vfyyLET",
    "outputId": "fd8919e9-e775-45b5-96e2-3b15fb2214d8"
   },
   "outputs": [
    {
     "data": {
      "text/plain": [
       "array([[ 0,  1,  2],\n",
       "       [ 3,  4,  5],\n",
       "       [ 6,  7,  8],\n",
       "       [ 9, 10, 11]])"
      ]
     },
     "execution_count": 135,
     "metadata": {
      "tags": []
     },
     "output_type": "execute_result"
    }
   ],
   "source": [
    "r"
   ]
  },
  {
   "cell_type": "code",
   "execution_count": 136,
   "metadata": {
    "colab": {
     "base_uri": "https://localhost:8080/"
    },
    "executionInfo": {
     "elapsed": 577,
     "status": "ok",
     "timestamp": 1608360969447,
     "user": {
      "displayName": "Sunghan Kim",
      "photoUrl": "",
      "userId": "06756175428501663555"
     },
     "user_tz": -540
    },
    "id": "c8CNprURyLnk",
    "outputId": "2f4080a8-2e16-49da-cf1f-50d508c31d26"
   },
   "outputs": [
    {
     "data": {
      "text/plain": [
       "array([[0. , 0.5, 1. ],\n",
       "       [1.5, 2. , 2.5],\n",
       "       [3. , 3.5, 4. ],\n",
       "       [4.5, 5. , 5.5]])"
      ]
     },
     "execution_count": 136,
     "metadata": {
      "tags": []
     },
     "output_type": "execute_result"
    }
   ],
   "source": [
    "s"
   ]
  },
  {
   "cell_type": "code",
   "execution_count": 138,
   "metadata": {
    "colab": {
     "base_uri": "https://localhost:8080/"
    },
    "executionInfo": {
     "elapsed": 529,
     "status": "ok",
     "timestamp": 1608360992573,
     "user": {
      "displayName": "Sunghan Kim",
      "photoUrl": "",
      "userId": "06756175428501663555"
     },
     "user_tz": -540
    },
    "id": "JKhtbSlIyMB0",
    "outputId": "0320f817-994a-4557-dc72-ad7bca671b2f"
   },
   "outputs": [
    {
     "data": {
      "text/plain": [
       "array([[ 0. ,  1.5,  3. ],\n",
       "       [ 4.5,  6. ,  7.5],\n",
       "       [ 9. , 10.5, 12. ],\n",
       "       [13.5, 15. , 16.5]])"
      ]
     },
     "execution_count": 138,
     "metadata": {
      "tags": []
     },
     "output_type": "execute_result"
    }
   ],
   "source": [
    "r + s"
   ]
  },
  {
   "cell_type": "code",
   "execution_count": 139,
   "metadata": {
    "colab": {
     "base_uri": "https://localhost:8080/"
    },
    "executionInfo": {
     "elapsed": 545,
     "status": "ok",
     "timestamp": 1608361001233,
     "user": {
      "displayName": "Sunghan Kim",
      "photoUrl": "",
      "userId": "06756175428501663555"
     },
     "user_tz": -540
    },
    "id": "e-00h1BOyQ78",
    "outputId": "24b0c526-fd89-4fc7-e71c-43b3bad30332"
   },
   "outputs": [
    {
     "data": {
      "text/plain": [
       "array([[ 3,  4,  5],\n",
       "       [ 6,  7,  8],\n",
       "       [ 9, 10, 11],\n",
       "       [12, 13, 14]])"
      ]
     },
     "execution_count": 139,
     "metadata": {
      "tags": []
     },
     "output_type": "execute_result"
    }
   ],
   "source": [
    "r + 3"
   ]
  },
  {
   "cell_type": "code",
   "execution_count": 140,
   "metadata": {
    "colab": {
     "base_uri": "https://localhost:8080/"
    },
    "executionInfo": {
     "elapsed": 559,
     "status": "ok",
     "timestamp": 1608361009831,
     "user": {
      "displayName": "Sunghan Kim",
      "photoUrl": "",
      "userId": "06756175428501663555"
     },
     "user_tz": -540
    },
    "id": "bXBcGj4pyT60",
    "outputId": "4165d821-3779-4d57-bdad-0ac32b3a5d7d"
   },
   "outputs": [
    {
     "data": {
      "text/plain": [
       "array([[ 0,  2,  4],\n",
       "       [ 6,  8, 10],\n",
       "       [12, 14, 16],\n",
       "       [18, 20, 22]])"
      ]
     },
     "execution_count": 140,
     "metadata": {
      "tags": []
     },
     "output_type": "execute_result"
    }
   ],
   "source": [
    "2 * r"
   ]
  },
  {
   "cell_type": "code",
   "execution_count": 141,
   "metadata": {
    "colab": {
     "base_uri": "https://localhost:8080/"
    },
    "executionInfo": {
     "elapsed": 477,
     "status": "ok",
     "timestamp": 1608361019561,
     "user": {
      "displayName": "Sunghan Kim",
      "photoUrl": "",
      "userId": "06756175428501663555"
     },
     "user_tz": -540
    },
    "id": "YgIcWOOKyV_j",
    "outputId": "854761d8-8a3e-4fda-ccf9-d9096035a339"
   },
   "outputs": [
    {
     "data": {
      "text/plain": [
       "array([[ 3,  5,  7],\n",
       "       [ 9, 11, 13],\n",
       "       [15, 17, 19],\n",
       "       [21, 23, 25]])"
      ]
     },
     "execution_count": 141,
     "metadata": {
      "tags": []
     },
     "output_type": "execute_result"
    }
   ],
   "source": [
    "2 * r + 3"
   ]
  },
  {
   "cell_type": "code",
   "execution_count": 142,
   "metadata": {
    "colab": {
     "base_uri": "https://localhost:8080/"
    },
    "executionInfo": {
     "elapsed": 546,
     "status": "ok",
     "timestamp": 1608361025789,
     "user": {
      "displayName": "Sunghan Kim",
      "photoUrl": "",
      "userId": "06756175428501663555"
     },
     "user_tz": -540
    },
    "id": "gRB_NL7LyYaD",
    "outputId": "770d5272-31d9-411d-a3cf-64f305fe2cea"
   },
   "outputs": [
    {
     "data": {
      "text/plain": [
       "array([[ 0,  1,  2],\n",
       "       [ 3,  4,  5],\n",
       "       [ 6,  7,  8],\n",
       "       [ 9, 10, 11]])"
      ]
     },
     "execution_count": 142,
     "metadata": {
      "tags": []
     },
     "output_type": "execute_result"
    }
   ],
   "source": [
    "r"
   ]
  },
  {
   "cell_type": "code",
   "execution_count": 143,
   "metadata": {
    "colab": {
     "base_uri": "https://localhost:8080/"
    },
    "executionInfo": {
     "elapsed": 496,
     "status": "ok",
     "timestamp": 1608361032313,
     "user": {
      "displayName": "Sunghan Kim",
      "photoUrl": "",
      "userId": "06756175428501663555"
     },
     "user_tz": -540
    },
    "id": "_Gmsc2ULyZ47",
    "outputId": "bc4ddc5d-81dc-48b5-8139-b79c5bc4610f"
   },
   "outputs": [
    {
     "data": {
      "text/plain": [
       "(4, 3)"
      ]
     },
     "execution_count": 143,
     "metadata": {
      "tags": []
     },
     "output_type": "execute_result"
    }
   ],
   "source": [
    "r.shape"
   ]
  },
  {
   "cell_type": "code",
   "execution_count": 144,
   "metadata": {
    "colab": {
     "base_uri": "https://localhost:8080/"
    },
    "executionInfo": {
     "elapsed": 496,
     "status": "ok",
     "timestamp": 1608361037080,
     "user": {
      "displayName": "Sunghan Kim",
      "photoUrl": "",
      "userId": "06756175428501663555"
     },
     "user_tz": -540
    },
    "id": "WU9VII7PybhE",
    "outputId": "6b43d44b-85ce-4676-9a4a-3a95d49b5e3d"
   },
   "outputs": [
    {
     "data": {
      "text/plain": [
       "array([0, 4, 8])"
      ]
     },
     "execution_count": 144,
     "metadata": {
      "tags": []
     },
     "output_type": "execute_result"
    }
   ],
   "source": [
    "s = np.arange(0, 12, 4)\n",
    "s"
   ]
  },
  {
   "cell_type": "code",
   "execution_count": 145,
   "metadata": {
    "colab": {
     "base_uri": "https://localhost:8080/"
    },
    "executionInfo": {
     "elapsed": 505,
     "status": "ok",
     "timestamp": 1608361046527,
     "user": {
      "displayName": "Sunghan Kim",
      "photoUrl": "",
      "userId": "06756175428501663555"
     },
     "user_tz": -540
    },
    "id": "Ku_BkMhWycrj",
    "outputId": "029c20e8-1a08-4dbb-a2b2-6e9edf91cfd3"
   },
   "outputs": [
    {
     "data": {
      "text/plain": [
       "array([[ 0,  5, 10],\n",
       "       [ 3,  8, 13],\n",
       "       [ 6, 11, 16],\n",
       "       [ 9, 14, 19]])"
      ]
     },
     "execution_count": 145,
     "metadata": {
      "tags": []
     },
     "output_type": "execute_result"
    }
   ],
   "source": [
    "r + s"
   ]
  },
  {
   "cell_type": "code",
   "execution_count": 146,
   "metadata": {
    "colab": {
     "base_uri": "https://localhost:8080/"
    },
    "executionInfo": {
     "elapsed": 492,
     "status": "ok",
     "timestamp": 1608361052561,
     "user": {
      "displayName": "Sunghan Kim",
      "photoUrl": "",
      "userId": "06756175428501663555"
     },
     "user_tz": -540
    },
    "id": "914izKxQye_E",
    "outputId": "a8a10749-a77b-4446-b64c-4294d83ee3f2"
   },
   "outputs": [
    {
     "data": {
      "text/plain": [
       "array([0, 3, 6, 9])"
      ]
     },
     "execution_count": 146,
     "metadata": {
      "tags": []
     },
     "output_type": "execute_result"
    }
   ],
   "source": [
    "s = np.arange(0, 12, 3)\n",
    "s"
   ]
  },
  {
   "cell_type": "code",
   "execution_count": 147,
   "metadata": {
    "colab": {
     "base_uri": "https://localhost:8080/"
    },
    "executionInfo": {
     "elapsed": 695,
     "status": "ok",
     "timestamp": 1608361086929,
     "user": {
      "displayName": "Sunghan Kim",
      "photoUrl": "",
      "userId": "06756175428501663555"
     },
     "user_tz": -540
    },
    "id": "fj3rlGpPygdt",
    "outputId": "e3f00887-2c64-4554-e2e4-25b145b3cd5d"
   },
   "outputs": [
    {
     "data": {
      "text/plain": [
       "array([[ 0,  6, 12, 18],\n",
       "       [ 1,  7, 13, 19],\n",
       "       [ 2,  8, 14, 20]])"
      ]
     },
     "execution_count": 147,
     "metadata": {
      "tags": []
     },
     "output_type": "execute_result"
    }
   ],
   "source": [
    "r.transpose() + s"
   ]
  },
  {
   "cell_type": "code",
   "execution_count": 148,
   "metadata": {
    "colab": {
     "base_uri": "https://localhost:8080/"
    },
    "executionInfo": {
     "elapsed": 551,
     "status": "ok",
     "timestamp": 1608361094244,
     "user": {
      "displayName": "Sunghan Kim",
      "photoUrl": "",
      "userId": "06756175428501663555"
     },
     "user_tz": -540
    },
    "id": "nXjFmwV6yozU",
    "outputId": "580e99bb-09e4-45e2-ee1a-043861226bb0"
   },
   "outputs": [
    {
     "data": {
      "text/plain": [
       "array([[0],\n",
       "       [3],\n",
       "       [6],\n",
       "       [9]])"
      ]
     },
     "execution_count": 148,
     "metadata": {
      "tags": []
     },
     "output_type": "execute_result"
    }
   ],
   "source": [
    "sr = s.reshape(-1, 1)\n",
    "sr"
   ]
  },
  {
   "cell_type": "code",
   "execution_count": 149,
   "metadata": {
    "colab": {
     "base_uri": "https://localhost:8080/"
    },
    "executionInfo": {
     "elapsed": 565,
     "status": "ok",
     "timestamp": 1608361104082,
     "user": {
      "displayName": "Sunghan Kim",
      "photoUrl": "",
      "userId": "06756175428501663555"
     },
     "user_tz": -540
    },
    "id": "gJ8I7R9xyqn8",
    "outputId": "bcc902d4-a470-4e4d-e93b-4a340a3d1571"
   },
   "outputs": [
    {
     "data": {
      "text/plain": [
       "(4, 1)"
      ]
     },
     "execution_count": 149,
     "metadata": {
      "tags": []
     },
     "output_type": "execute_result"
    }
   ],
   "source": [
    "sr.shape"
   ]
  },
  {
   "cell_type": "code",
   "execution_count": 150,
   "metadata": {
    "colab": {
     "base_uri": "https://localhost:8080/"
    },
    "executionInfo": {
     "elapsed": 522,
     "status": "ok",
     "timestamp": 1608361121169,
     "user": {
      "displayName": "Sunghan Kim",
      "photoUrl": "",
      "userId": "06756175428501663555"
     },
     "user_tz": -540
    },
    "id": "NyTBlF5CytBb",
    "outputId": "3b5be4ff-451b-42b5-9f69-86c10c42a0c4"
   },
   "outputs": [
    {
     "data": {
      "text/plain": [
       "array([[ 0,  1,  2],\n",
       "       [ 6,  7,  8],\n",
       "       [12, 13, 14],\n",
       "       [18, 19, 20]])"
      ]
     },
     "execution_count": 150,
     "metadata": {
      "tags": []
     },
     "output_type": "execute_result"
    }
   ],
   "source": [
    "r + s.reshape(-1, 1)"
   ]
  },
  {
   "cell_type": "code",
   "execution_count": 151,
   "metadata": {
    "executionInfo": {
     "elapsed": 722,
     "status": "ok",
     "timestamp": 1608361162543,
     "user": {
      "displayName": "Sunghan Kim",
      "photoUrl": "",
      "userId": "06756175428501663555"
     },
     "user_tz": -540
    },
    "id": "_g8X_YSVyxNE"
   },
   "outputs": [],
   "source": [
    "def f(x):\n",
    "    return 3 * x + 5"
   ]
  },
  {
   "cell_type": "code",
   "execution_count": 152,
   "metadata": {
    "colab": {
     "base_uri": "https://localhost:8080/"
    },
    "executionInfo": {
     "elapsed": 520,
     "status": "ok",
     "timestamp": 1608361167749,
     "user": {
      "displayName": "Sunghan Kim",
      "photoUrl": "",
      "userId": "06756175428501663555"
     },
     "user_tz": -540
    },
    "id": "C1jMg5h-y7Qm",
    "outputId": "334b88f2-0d0c-473b-dd0b-da6cdf66daf8"
   },
   "outputs": [
    {
     "data": {
      "text/plain": [
       "6.5"
      ]
     },
     "execution_count": 152,
     "metadata": {
      "tags": []
     },
     "output_type": "execute_result"
    }
   ],
   "source": [
    "f(0.5)"
   ]
  },
  {
   "cell_type": "code",
   "execution_count": 153,
   "metadata": {
    "colab": {
     "base_uri": "https://localhost:8080/"
    },
    "executionInfo": {
     "elapsed": 551,
     "status": "ok",
     "timestamp": 1608361171362,
     "user": {
      "displayName": "Sunghan Kim",
      "photoUrl": "",
      "userId": "06756175428501663555"
     },
     "user_tz": -540
    },
    "id": "i8VQAv1Ay8k0",
    "outputId": "979ce8f9-d24d-4c00-eb10-19ac69042ffd"
   },
   "outputs": [
    {
     "data": {
      "text/plain": [
       "array([[ 5,  8, 11],\n",
       "       [14, 17, 20],\n",
       "       [23, 26, 29],\n",
       "       [32, 35, 38]])"
      ]
     },
     "execution_count": 153,
     "metadata": {
      "tags": []
     },
     "output_type": "execute_result"
    }
   ],
   "source": [
    "f(r)"
   ]
  },
  {
   "cell_type": "markdown",
   "metadata": {
    "id": "teXHn16-zA-A"
   },
   "source": [
    "#### Memory Layout"
   ]
  },
  {
   "cell_type": "code",
   "execution_count": 154,
   "metadata": {
    "executionInfo": {
     "elapsed": 783,
     "status": "ok",
     "timestamp": 1608361197864,
     "user": {
      "displayName": "Sunghan Kim",
      "photoUrl": "",
      "userId": "06756175428501663555"
     },
     "user_tz": -540
    },
    "id": "SZWmP0YJy9c7"
   },
   "outputs": [],
   "source": [
    "x = np.random.standard_normal((1000000, 5))"
   ]
  },
  {
   "cell_type": "code",
   "execution_count": 155,
   "metadata": {
    "executionInfo": {
     "elapsed": 531,
     "status": "ok",
     "timestamp": 1608361206517,
     "user": {
      "displayName": "Sunghan Kim",
      "photoUrl": "",
      "userId": "06756175428501663555"
     },
     "user_tz": -540
    },
    "id": "B7AMbXeqzD3M"
   },
   "outputs": [],
   "source": [
    "y = 2 * x + 3"
   ]
  },
  {
   "cell_type": "code",
   "execution_count": 156,
   "metadata": {
    "executionInfo": {
     "elapsed": 551,
     "status": "ok",
     "timestamp": 1608361210917,
     "user": {
      "displayName": "Sunghan Kim",
      "photoUrl": "",
      "userId": "06756175428501663555"
     },
     "user_tz": -540
    },
    "id": "v9eyzez9zGCj"
   },
   "outputs": [],
   "source": [
    "C = np.array((x, y), order='C')"
   ]
  },
  {
   "cell_type": "code",
   "execution_count": 157,
   "metadata": {
    "executionInfo": {
     "elapsed": 600,
     "status": "ok",
     "timestamp": 1608361215941,
     "user": {
      "displayName": "Sunghan Kim",
      "photoUrl": "",
      "userId": "06756175428501663555"
     },
     "user_tz": -540
    },
    "id": "D3EuM73KzHHD"
   },
   "outputs": [],
   "source": [
    "F = np.array((x, y), order='F')"
   ]
  },
  {
   "cell_type": "code",
   "execution_count": 158,
   "metadata": {
    "executionInfo": {
     "elapsed": 521,
     "status": "ok",
     "timestamp": 1608361221201,
     "user": {
      "displayName": "Sunghan Kim",
      "photoUrl": "",
      "userId": "06756175428501663555"
     },
     "user_tz": -540
    },
    "id": "KOSCy55ZzIUk"
   },
   "outputs": [],
   "source": [
    "x = 0.0; y = 0.0"
   ]
  },
  {
   "cell_type": "code",
   "execution_count": 159,
   "metadata": {
    "colab": {
     "base_uri": "https://localhost:8080/"
    },
    "executionInfo": {
     "elapsed": 618,
     "status": "ok",
     "timestamp": 1608361227373,
     "user": {
      "displayName": "Sunghan Kim",
      "photoUrl": "",
      "userId": "06756175428501663555"
     },
     "user_tz": -540
    },
    "id": "5hcludCuzJoE",
    "outputId": "dcba07d0-39a6-4964-834f-98c537305148"
   },
   "outputs": [
    {
     "data": {
      "text/plain": [
       "array([[[-1.75,  0.34,  1.15, -0.25,  0.98],\n",
       "        [ 0.51,  0.22, -1.07, -0.19,  0.26],\n",
       "        [-0.46,  0.44, -0.58,  0.82,  0.67],\n",
       "        ...,\n",
       "        [-0.05,  0.14,  0.17,  0.33,  1.39],\n",
       "        [ 1.02,  0.3 , -1.23, -0.68, -0.87],\n",
       "        [ 0.83, -0.73,  1.03,  0.34, -0.46]],\n",
       "\n",
       "       [[-0.5 ,  3.69,  5.31,  2.5 ,  4.96],\n",
       "        [ 4.03,  3.44,  0.86,  2.62,  3.51],\n",
       "        [ 2.08,  3.87,  1.83,  4.63,  4.35],\n",
       "        ...,\n",
       "        [ 2.9 ,  3.28,  3.33,  3.67,  5.78],\n",
       "        [ 5.04,  3.6 ,  0.54,  1.65,  1.26],\n",
       "        [ 4.67,  1.54,  5.06,  3.69,  2.07]]])"
      ]
     },
     "execution_count": 159,
     "metadata": {
      "tags": []
     },
     "output_type": "execute_result"
    }
   ],
   "source": [
    "C[:2].round(2)"
   ]
  }
 ],
 "metadata": {
  "colab": {
   "authorship_tag": "ABX9TyMPf15o/L04v02NLXSLznIK",
   "collapsed_sections": [],
   "name": "chapter4.ipynb",
   "provenance": [],
   "toc_visible": true
  },
  "kernelspec": {
   "display_name": "Python 3",
   "language": "python",
   "name": "python3"
  },
  "language_info": {
   "codemirror_mode": {
    "name": "ipython",
    "version": 3
   },
   "file_extension": ".py",
   "mimetype": "text/x-python",
   "name": "python",
   "nbconvert_exporter": "python",
   "pygments_lexer": "ipython3",
   "version": "3.8.3"
  }
 },
 "nbformat": 4,
 "nbformat_minor": 1
}
