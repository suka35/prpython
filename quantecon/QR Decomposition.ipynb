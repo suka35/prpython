{
 "cells": [
  {
   "cell_type": "markdown",
   "metadata": {},
   "source": [
    "https://python.quantecon.org/qr_decomp.html"
   ]
  },
  {
   "cell_type": "code",
   "execution_count": 1,
   "metadata": {},
   "outputs": [],
   "source": [
    "import numpy as np\n",
    "from scipy.linalg import qr"
   ]
  },
  {
   "cell_type": "code",
   "execution_count": 2,
   "metadata": {},
   "outputs": [],
   "source": [
    "def QR_Decomposition(A):\n",
    "    n, m = A.shape # get the shape of A\n",
    "\n",
    "    Q = np.empty((n, n)) # initialize matrix Q\n",
    "    u = np.empty((n, n)) # initialize matrix u\n",
    "\n",
    "    u[:, 0] = A[:, 0]\n",
    "    Q[:, 0] = u[:, 0] / np.linalg.norm(u[:, 0])\n",
    "\n",
    "    for i in range(1, n):\n",
    "\n",
    "        u[:, i] = A[:, i]\n",
    "        for j in range(i):\n",
    "            u[:, i] -= (A[:, i] @ Q[:, j]) * Q[:, j] # get each u vector\n",
    "\n",
    "        Q[:, i] = u[:, i] / np.linalg.norm(u[:, i]) # compute each e vetor\n",
    "\n",
    "    R = np.zeros((n, m))\n",
    "    for i in range(n):\n",
    "        for j in range(i, m):\n",
    "            R[i, j] = A[:, j] @ Q[:, i]\n",
    "\n",
    "    return Q, R"
   ]
  },
  {
   "cell_type": "code",
   "execution_count": 3,
   "metadata": {},
   "outputs": [],
   "source": [
    "def diag_sign(A):\n",
    "    \"Compute the signs of the diagonal of matrix A\"\n",
    "\n",
    "    D = np.diag(np.sign(np.diag(A)))\n",
    "\n",
    "    return D\n",
    "\n",
    "def adjust_sign(Q, R):\n",
    "    \"\"\"\n",
    "    Adjust the signs of the columns in Q and rows in R to\n",
    "    impose positive diagonal of Q\n",
    "    \"\"\"\n",
    "\n",
    "    D = diag_sign(Q)\n",
    "\n",
    "    Q[:, :] = Q @ D\n",
    "    R[:, :] = D @ R\n",
    "\n",
    "    return Q, R"
   ]
  },
  {
   "cell_type": "code",
   "execution_count": 4,
   "metadata": {},
   "outputs": [
    {
     "data": {
      "text/plain": [
       "array([[1., 1., 0.],\n",
       "       [1., 0., 1.],\n",
       "       [0., 1., 1.]])"
      ]
     },
     "execution_count": 4,
     "metadata": {},
     "output_type": "execute_result"
    }
   ],
   "source": [
    "A = np.array([[1.0, 1.0, 0.0], [1.0, 0.0, 1.0], [0.0, 1.0, 1.0]])\n",
    "# A = np.array([[1.0, 0.5, 0.2], [0.5, 0.5, 1.0], [0.0, 1.0, 1.0]])\n",
    "# A = np.array([[1.0, 0.5, 0.2], [0.5, 0.5, 1.0]])\n",
    "\n",
    "A"
   ]
  },
  {
   "cell_type": "code",
   "execution_count": 5,
   "metadata": {},
   "outputs": [],
   "source": [
    "Q, R = adjust_sign(*QR_Decomposition(A))"
   ]
  },
  {
   "cell_type": "code",
   "execution_count": 6,
   "metadata": {},
   "outputs": [
    {
     "data": {
      "text/plain": [
       "array([[ 0.70710678, -0.40824829, -0.57735027],\n",
       "       [ 0.70710678,  0.40824829,  0.57735027],\n",
       "       [ 0.        , -0.81649658,  0.57735027]])"
      ]
     },
     "execution_count": 6,
     "metadata": {},
     "output_type": "execute_result"
    }
   ],
   "source": [
    "Q"
   ]
  },
  {
   "cell_type": "code",
   "execution_count": 7,
   "metadata": {},
   "outputs": [
    {
     "data": {
      "text/plain": [
       "array([[ 1.41421356,  0.70710678,  0.70710678],\n",
       "       [ 0.        , -1.22474487, -0.40824829],\n",
       "       [ 0.        ,  0.        ,  1.15470054]])"
      ]
     },
     "execution_count": 7,
     "metadata": {},
     "output_type": "execute_result"
    }
   ],
   "source": [
    "R"
   ]
  },
  {
   "cell_type": "code",
   "execution_count": 8,
   "metadata": {},
   "outputs": [],
   "source": [
    "Q_scipy, R_scipy = adjust_sign(*qr(A))"
   ]
  },
  {
   "cell_type": "code",
   "execution_count": 9,
   "metadata": {},
   "outputs": [
    {
     "name": "stdout",
     "output_type": "stream",
     "text": [
      "Our Q: \n",
      " [[ 0.70710678 -0.40824829 -0.57735027]\n",
      " [ 0.70710678  0.40824829  0.57735027]\n",
      " [ 0.         -0.81649658  0.57735027]]\n",
      "\n",
      "\n",
      "Scipy Q: \n",
      " [[ 0.70710678 -0.40824829 -0.57735027]\n",
      " [ 0.70710678  0.40824829  0.57735027]\n",
      " [ 0.         -0.81649658  0.57735027]]\n"
     ]
    }
   ],
   "source": [
    "print('Our Q: \\n', Q)\n",
    "print('\\n')\n",
    "print('Scipy Q: \\n', Q_scipy)"
   ]
  },
  {
   "cell_type": "code",
   "execution_count": 10,
   "metadata": {},
   "outputs": [
    {
     "name": "stdout",
     "output_type": "stream",
     "text": [
      "Our R: \n",
      " [[ 1.41421356  0.70710678  0.70710678]\n",
      " [ 0.         -1.22474487 -0.40824829]\n",
      " [ 0.          0.          1.15470054]]\n",
      "\n",
      "\n",
      "Scipy R: \n",
      " [[ 1.41421356  0.70710678  0.70710678]\n",
      " [ 0.         -1.22474487 -0.40824829]\n",
      " [ 0.          0.          1.15470054]]\n"
     ]
    }
   ],
   "source": [
    "print('Our R: \\n', R)\n",
    "print('\\n')\n",
    "print('Scipy R: \\n', R_scipy)"
   ]
  },
  {
   "cell_type": "code",
   "execution_count": 11,
   "metadata": {},
   "outputs": [],
   "source": [
    "A = np.array([[1, 3, 4], [2, 0, 9]])"
   ]
  },
  {
   "cell_type": "code",
   "execution_count": 12,
   "metadata": {},
   "outputs": [
    {
     "data": {
      "text/plain": [
       "(array([[ 0.4472136 , -0.89442719],\n",
       "        [ 0.89442719,  0.4472136 ]]),\n",
       " array([[ 2.23606798,  1.34164079,  9.8386991 ],\n",
       "        [ 0.        , -2.68328157,  0.4472136 ]]))"
      ]
     },
     "execution_count": 12,
     "metadata": {},
     "output_type": "execute_result"
    }
   ],
   "source": [
    "Q, R = adjust_sign(*QR_Decomposition(A))\n",
    "Q, R"
   ]
  },
  {
   "cell_type": "code",
   "execution_count": 13,
   "metadata": {},
   "outputs": [
    {
     "data": {
      "text/plain": [
       "(array([[ 0.4472136 , -0.89442719],\n",
       "        [ 0.89442719,  0.4472136 ]]),\n",
       " array([[ 2.23606798,  1.34164079,  9.8386991 ],\n",
       "        [ 0.        , -2.68328157,  0.4472136 ]]))"
      ]
     },
     "execution_count": 13,
     "metadata": {},
     "output_type": "execute_result"
    }
   ],
   "source": [
    "Q_scipy, R_scipy = adjust_sign(*qr(A))\n",
    "Q_scipy, R_scipy"
   ]
  },
  {
   "cell_type": "code",
   "execution_count": 14,
   "metadata": {},
   "outputs": [],
   "source": [
    "def QR_eigvals(A, tol=1e-12, maxiter=1000):\n",
    "    \"Find the eigenvalues of A using QR decomposition.\"\n",
    "\n",
    "    A_old = np.copy(A)\n",
    "    A_new = np.copy(A)\n",
    "\n",
    "    diff = np.inf\n",
    "    i = 0\n",
    "    while (diff > tol) and (i < maxiter):\n",
    "        A_old[:, :] = A_new\n",
    "        Q, R = QR_Decomposition(A_old)\n",
    "\n",
    "        A_new[:, :] = R @ Q\n",
    "\n",
    "        diff = np.abs(A_new - A_old).max()\n",
    "        i += 1\n",
    "\n",
    "    eigvals = np.diag(A_new)\n",
    "\n",
    "    return eigvals"
   ]
  },
  {
   "cell_type": "code",
   "execution_count": 15,
   "metadata": {},
   "outputs": [],
   "source": [
    "# experiment this with one random A matrix\n",
    "A = np.random.random((3, 3))"
   ]
  },
  {
   "cell_type": "code",
   "execution_count": 16,
   "metadata": {},
   "outputs": [
    {
     "data": {
      "text/plain": [
       "[-0.5578464131831805, 0.2817097148158302, 1.3228104693388458]"
      ]
     },
     "execution_count": 16,
     "metadata": {},
     "output_type": "execute_result"
    }
   ],
   "source": [
    "sorted(QR_eigvals(A))"
   ]
  },
  {
   "cell_type": "code",
   "execution_count": 17,
   "metadata": {},
   "outputs": [
    {
     "data": {
      "text/plain": [
       "[-0.5578464131831808, 0.281709714815838, 1.3228104693388456]"
      ]
     },
     "execution_count": 17,
     "metadata": {},
     "output_type": "execute_result"
    }
   ],
   "source": [
    "sorted(np.linalg.eigvals(A))"
   ]
  },
  {
   "cell_type": "code",
   "execution_count": 18,
   "metadata": {},
   "outputs": [],
   "source": [
    "k = 5\n",
    "n = 1000\n",
    "\n",
    "# generate some random moments\n",
    "𝜇 = np.random.random(size=k)\n",
    "C = np.random.random((k, k))\n",
    "Σ = C.T @ C"
   ]
  },
  {
   "cell_type": "code",
   "execution_count": 19,
   "metadata": {},
   "outputs": [],
   "source": [
    "# X is random matrix where each column follows multivariate normal dist.\n",
    "X = np.random.multivariate_normal(𝜇, Σ, size=n)"
   ]
  },
  {
   "cell_type": "code",
   "execution_count": 20,
   "metadata": {},
   "outputs": [
    {
     "data": {
      "text/plain": [
       "(1000, 5)"
      ]
     },
     "execution_count": 20,
     "metadata": {},
     "output_type": "execute_result"
    }
   ],
   "source": [
    "X.shape"
   ]
  },
  {
   "cell_type": "code",
   "execution_count": 21,
   "metadata": {},
   "outputs": [],
   "source": [
    "Q, R = adjust_sign(*QR_Decomposition(X.T))"
   ]
  },
  {
   "cell_type": "code",
   "execution_count": 22,
   "metadata": {},
   "outputs": [
    {
     "data": {
      "text/plain": [
       "((5, 5), (5, 1000))"
      ]
     },
     "execution_count": 22,
     "metadata": {},
     "output_type": "execute_result"
    }
   ],
   "source": [
    "Q.shape, R.shape"
   ]
  },
  {
   "cell_type": "code",
   "execution_count": 23,
   "metadata": {},
   "outputs": [],
   "source": [
    "RR = R @ R.T\n",
    "\n",
    "𝜆, P_tilde = np.linalg.eigh(RR)\n",
    "Λ = np.diag(𝜆)"
   ]
  },
  {
   "cell_type": "code",
   "execution_count": 24,
   "metadata": {},
   "outputs": [],
   "source": [
    "XX = X.T @ X\n",
    "\n",
    "𝜆_hat, P = np.linalg.eigh(XX)\n",
    "Λ_hat = np.diag(𝜆_hat)"
   ]
  },
  {
   "cell_type": "code",
   "execution_count": 25,
   "metadata": {},
   "outputs": [
    {
     "data": {
      "text/plain": [
       "(array([  31.3818442 ,  259.62240203,  415.69522764,  814.32987453,\n",
       "        8304.60879681]),\n",
       " array([  31.3818442 ,  259.62240203,  415.69522764,  814.32987453,\n",
       "        8304.60879681]))"
      ]
     },
     "execution_count": 25,
     "metadata": {},
     "output_type": "execute_result"
    }
   ],
   "source": [
    "𝜆, 𝜆_hat"
   ]
  },
  {
   "cell_type": "code",
   "execution_count": 26,
   "metadata": {},
   "outputs": [
    {
     "data": {
      "text/plain": [
       "1.9984014443252818e-15"
      ]
     },
     "execution_count": 26,
     "metadata": {},
     "output_type": "execute_result"
    }
   ],
   "source": [
    "QP_tilde = Q @ P_tilde\n",
    "\n",
    "np.abs(P @ diag_sign(P) - QP_tilde @ diag_sign(QP_tilde)).max()"
   ]
  },
  {
   "cell_type": "code",
   "execution_count": 27,
   "metadata": {},
   "outputs": [],
   "source": [
    "QPΛPQ = Q @ P_tilde @ Λ @ P_tilde.T @ Q.T"
   ]
  },
  {
   "cell_type": "code",
   "execution_count": 28,
   "metadata": {},
   "outputs": [
    {
     "data": {
      "text/plain": [
       "7.275957614183426e-12"
      ]
     },
     "execution_count": 28,
     "metadata": {},
     "output_type": "execute_result"
    }
   ],
   "source": [
    "np.abs(QPΛPQ - XX).max()"
   ]
  }
 ],
 "metadata": {
  "interpreter": {
   "hash": "af94d671ea0f89aa2095c292ee8b31ce725140d7d9ecef1849c98e3ff3a7f05d"
  },
  "kernelspec": {
   "display_name": "Python 3.9.7 ('base')",
   "language": "python",
   "name": "python3"
  },
  "language_info": {
   "codemirror_mode": {
    "name": "ipython",
    "version": 3
   },
   "file_extension": ".py",
   "mimetype": "text/x-python",
   "name": "python",
   "nbconvert_exporter": "python",
   "pygments_lexer": "ipython3",
   "version": "3.9.7"
  },
  "orig_nbformat": 4
 },
 "nbformat": 4,
 "nbformat_minor": 2
}
