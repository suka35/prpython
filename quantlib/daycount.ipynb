{
 "cells": [
  {
   "cell_type": "markdown",
   "metadata": {},
   "source": [
    "https://blog.naver.com/stochastic73/221904139827"
   ]
  },
  {
   "cell_type": "code",
   "execution_count": 2,
   "metadata": {},
   "outputs": [],
   "source": [
    "import QuantLib as ql\n",
    "\n",
    "# Construction\n",
    "act360 = ql.Actual360()         # Actual/360\n",
    "act365 = ql.Actual365Fixed()    # Actual/365\n",
    "actact = ql.ActualActual()      # Actual/Actual\n",
    "thirty360 = ql.Thirty360()      # 30/360\n",
    "b252 = ql.Business252()         # BusinessDay/252"
   ]
  },
  {
   "cell_type": "code",
   "execution_count": 3,
   "metadata": {},
   "outputs": [
    {
     "name": "stdout",
     "output_type": "stream",
     "text": [
      "Day Count by Actual/360 = 92\n",
      "Day Count by Actual/365 = 92\n",
      "Day Count by Actual/Actual = 92\n",
      "Day Count by 30/360 = 92\n",
      "Day Count by BusinessDay/252 = 61\n"
     ]
    }
   ],
   "source": [
    "date1 = ql.Date(12, 2, 2020)\n",
    "date2 = ql.Date(14, 5, 2020)\n",
    "\n",
    "# Day Count\n",
    "print(\"Day Count by Actual/360 = {}\".format(act360.dayCount(date1, date2)))\n",
    "print(\"Day Count by Actual/365 = {}\".format(act365.dayCount(date1, date2)))\n",
    "print(\"Day Count by Actual/Actual = {}\".format(actact.dayCount(date1, date2)))\n",
    "print(\"Day Count by 30/360 = {}\".format(thirty360.dayCount(date1, date2)))\n",
    "print(\"Day Count by BusinessDay/252 = {}\".format(b252.dayCount(date1, date2)))"
   ]
  },
  {
   "cell_type": "code",
   "execution_count": 4,
   "metadata": {},
   "outputs": [
    {
     "name": "stdout",
     "output_type": "stream",
     "text": [
      "Year Fraction by Actual/360 = 0.2556\n",
      "Year Fraction by Actual/365 = 0.2521\n",
      "Year Fraction by Actual/Actual = 0.2514\n",
      "Year Fraction by 30/360 = 0.2556\n",
      "Year Fraction by BusinessDay/252 = 0.2421\n"
     ]
    }
   ],
   "source": [
    "# Year Fraction\n",
    "print(\"Year Fraction by Actual/360 = {}\".format(round(act360.yearFraction(date1, date2), 4)))\n",
    "print(\"Year Fraction by Actual/365 = {}\".format(round(act365.yearFraction(date1, date2), 4)))\n",
    "print(\"Year Fraction by Actual/Actual = {}\".format(round(actact.yearFraction(date1, date2), 4)))\n",
    "print(\"Year Fraction by 30/360 = {}\".format(round(thirty360.yearFraction(date1, date2), 4)))\n",
    "print(\"Year Fraction by BusinessDay/252 = {}\".format(round(b252.yearFraction(date1, date2), 4)))"
   ]
  }
 ],
 "metadata": {
  "interpreter": {
   "hash": "be8732e3b08d884583d98ab4c09708303a1be645a19e353cfcdfd28adb9a1ab8"
  },
  "kernelspec": {
   "display_name": "Python 3.10.1 64-bit",
   "language": "python",
   "name": "python3"
  },
  "language_info": {
   "codemirror_mode": {
    "name": "ipython",
    "version": 3
   },
   "file_extension": ".py",
   "mimetype": "text/x-python",
   "name": "python",
   "nbconvert_exporter": "python",
   "pygments_lexer": "ipython3",
   "version": "3.10.1"
  },
  "orig_nbformat": 4
 },
 "nbformat": 4,
 "nbformat_minor": 2
}
