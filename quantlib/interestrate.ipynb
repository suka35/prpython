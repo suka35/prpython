{
 "cells": [
  {
   "cell_type": "markdown",
   "metadata": {},
   "source": [
    "https://blog.naver.com/stochastic73/221916910745"
   ]
  },
  {
   "cell_type": "code",
   "execution_count": 1,
   "metadata": {},
   "outputs": [],
   "source": [
    "import QuantLib as ql\n",
    "\n",
    "# Components\n",
    "rate = 0.0148\n",
    "dc = ql.ActualActual()\n",
    "comp = ql.Compounded\n",
    "freq = ql.Annual\n",
    "\n",
    "# Construction\n",
    "ir = ql.InterestRate(rate,\n",
    "                     dc,\n",
    "                     comp,\n",
    "                     freq)"
   ]
  },
  {
   "cell_type": "code",
   "execution_count": 2,
   "metadata": {},
   "outputs": [
    {
     "name": "stdout",
     "output_type": "stream",
     "text": [
      "Discount Factor between April 19th, 2020 and April 19th, 2021 = 0.9854\n",
      "Compounding Factor between April 19th, 2020 and April 19th, 2021 = 1.0148\n"
     ]
    }
   ],
   "source": [
    "# Discount & Compound Factor\n",
    "start_date = ql.Date(19, 4, 2020)\n",
    "end_date = ql.Date(19, 4, 2021)\n",
    "\n",
    "print(\"Discount Factor between {} and {} = {}\".format(start_date, end_date, round(ir.discountFactor(start_date, end_date), 4)))\n",
    "print(\"Compounding Factor between {} and {} = {}\".format(start_date, end_date, round(ir.compoundFactor(start_date, end_date), 4)))"
   ]
  },
  {
   "cell_type": "code",
   "execution_count": 3,
   "metadata": {},
   "outputs": [
    {
     "name": "stdout",
     "output_type": "stream",
     "text": [
      "Equivalent Rate = 1.471856 % Actual/Actual (ISDA) Quarterly compounding\n"
     ]
    }
   ],
   "source": [
    "# Equivalent Rate\n",
    "new_dc = ql.ActualActual()\n",
    "new_comp = ql.Compounded\n",
    "new_freq = ql.Quarterly\n",
    "print(\"Equivalent Rate = {}\".format(ir.equivalentRate(new_dc, new_comp, new_freq, start_date, end_date)))\n"
   ]
  },
  {
   "cell_type": "code",
   "execution_count": 4,
   "metadata": {},
   "outputs": [
    {
     "name": "stdout",
     "output_type": "stream",
     "text": [
      "Implied Rate = 5.009875 % Actual/Actual (ISDA) Annual compounding\n"
     ]
    }
   ],
   "source": [
    "# Implied Rate\n",
    "comp_factor = 1.05\n",
    "new_dc = ql.ActualActual()\n",
    "new_comp = ql.Compounded\n",
    "new_freq = ql.Annual\n",
    "print(\"Implied Rate = {}\".format(ir.impliedRate(comp_factor, new_dc, new_comp, new_freq, start_date, end_date)))"
   ]
  }
 ],
 "metadata": {
  "interpreter": {
   "hash": "be8732e3b08d884583d98ab4c09708303a1be645a19e353cfcdfd28adb9a1ab8"
  },
  "kernelspec": {
   "display_name": "Python 3.10.1 64-bit",
   "language": "python",
   "name": "python3"
  },
  "language_info": {
   "codemirror_mode": {
    "name": "ipython",
    "version": 3
   },
   "file_extension": ".py",
   "mimetype": "text/x-python",
   "name": "python",
   "nbconvert_exporter": "python",
   "pygments_lexer": "ipython3",
   "version": "3.10.1"
  },
  "orig_nbformat": 4
 },
 "nbformat": 4,
 "nbformat_minor": 2
}
