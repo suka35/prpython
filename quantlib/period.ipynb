{
 "cells": [
  {
   "cell_type": "markdown",
   "metadata": {},
   "source": [
    "https://blog.naver.com/stochastic73/221902589178"
   ]
  },
  {
   "cell_type": "code",
   "execution_count": 3,
   "metadata": {},
   "outputs": [],
   "source": [
    "import QuantLib as ql"
   ]
  },
  {
   "cell_type": "code",
   "execution_count": 4,
   "metadata": {},
   "outputs": [],
   "source": [
    "# construction\n",
    "\n",
    "period1 = ql.Period(3, ql.Months)\n",
    "period2 = ql.Period(ql.Semiannual)"
   ]
  },
  {
   "cell_type": "code",
   "execution_count": 5,
   "metadata": {},
   "outputs": [
    {
     "name": "stdout",
     "output_type": "stream",
     "text": [
      "After 3 Weeks : May 2nd, 2020\n",
      "After 3 Months : July 11th, 2020\n",
      "After 3 Years : April 11th, 2023\n",
      "Days between Date2 and Date1 = 264\n"
     ]
    }
   ],
   "source": [
    "# Functions\n",
    "date1 = ql.Date(11, 4, 2020)\n",
    "date2 = ql.Date(31, 12, 2020)\n",
    "\n",
    "three_weeks = ql.Period(3, ql.Weeks)\n",
    "three_months = ql.Period(3, ql.Months)\n",
    "three_years = ql.Period(3, ql.Years)\n",
    "\n",
    "print(\"After 3 Weeks : {}\".format(date1 + three_weeks))\n",
    "print(\"After 3 Months : {}\".format(date1 + three_months))\n",
    "print(\"After 3 Years : {}\".format(date1 + three_years))\n",
    "\n",
    "print(\"Days between Date2 and Date1 = {}\".format(date2 - date1))"
   ]
  }
 ],
 "metadata": {
  "interpreter": {
   "hash": "af94d671ea0f89aa2095c292ee8b31ce725140d7d9ecef1849c98e3ff3a7f05d"
  },
  "kernelspec": {
   "display_name": "Python 3.9.7 64-bit ('base': conda)",
   "language": "python",
   "name": "python3"
  },
  "language_info": {
   "codemirror_mode": {
    "name": "ipython",
    "version": 3
   },
   "file_extension": ".py",
   "mimetype": "text/x-python",
   "name": "python",
   "nbconvert_exporter": "python",
   "pygments_lexer": "ipython3",
   "version": "3.9.7"
  },
  "orig_nbformat": 4
 },
 "nbformat": 4,
 "nbformat_minor": 2
}
