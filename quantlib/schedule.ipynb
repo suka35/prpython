{
 "cells": [
  {
   "cell_type": "markdown",
   "metadata": {},
   "source": [
    "https://blog.naver.com/stochastic73/221908296139"
   ]
  },
  {
   "cell_type": "code",
   "execution_count": 1,
   "metadata": {},
   "outputs": [],
   "source": [
    "import QuantLib as ql\n",
    "\n",
    "# Components\n",
    "effectiveDate = ql.Date(13, 4, 2020)\n",
    "maturityDate = ql.Date(15, 4, 2023)\n",
    "tenor = ql.Period(3, ql.Months)\n",
    "calendar = ql.SouthKorea()\n",
    "convention = ql.ModifiedFollowing\n",
    "rule = ql.DateGeneration.Backward\n",
    "endOfMonth = False\n",
    "\n",
    "# Construction\n",
    "schedule = ql.Schedule(effectiveDate,\n",
    "                       maturityDate,\n",
    "                       tenor,\n",
    "                       calendar,\n",
    "                       convention,\n",
    "                       convention,\n",
    "                       rule,\n",
    "                       endOfMonth)"
   ]
  },
  {
   "cell_type": "code",
   "execution_count": 2,
   "metadata": {},
   "outputs": [
    {
     "name": "stdout",
     "output_type": "stream",
     "text": [
      "Next Payment Date from October 4th, 2021 : October 15th, 2021\n",
      "Previous Payment Date from October 4th, 2021 : July 15th, 2021\n"
     ]
    }
   ],
   "source": [
    "ref_date = ql.Date(4, 10, 2021)\n",
    "\n",
    "# Functions\n",
    "print(\"Next Payment Date from {} : {}\".format(ref_date, schedule.nextDate(ref_date)))\n",
    "print(\"Previous Payment Date from {} : {}\".format(ref_date, schedule.previousDate(ref_date)))\n"
   ]
  }
 ],
 "metadata": {
  "interpreter": {
   "hash": "be8732e3b08d884583d98ab4c09708303a1be645a19e353cfcdfd28adb9a1ab8"
  },
  "kernelspec": {
   "display_name": "Python 3.10.1 64-bit",
   "language": "python",
   "name": "python3"
  },
  "language_info": {
   "codemirror_mode": {
    "name": "ipython",
    "version": 3
   },
   "file_extension": ".py",
   "mimetype": "text/x-python",
   "name": "python",
   "nbconvert_exporter": "python",
   "pygments_lexer": "ipython3",
   "version": "3.10.1"
  },
  "orig_nbformat": 4
 },
 "nbformat": 4,
 "nbformat_minor": 2
}
