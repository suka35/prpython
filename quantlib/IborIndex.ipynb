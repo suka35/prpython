{
 "cells": [
  {
   "cell_type": "markdown",
   "metadata": {},
   "source": [
    "https://blog.naver.com/stochastic73/221930546801"
   ]
  },
  {
   "cell_type": "code",
   "execution_count": 2,
   "metadata": {},
   "outputs": [],
   "source": [
    "import QuantLib as ql\n",
    "\n",
    "# Components\n",
    "name = \"USD_3M_Libor\"\n",
    "tenor = ql.Period(ql.Quarterly)\n",
    "settlementDays = 2\n",
    "currency = ql.USDCurrency()\n",
    "calendar = ql.UnitedStates()\n",
    "convention = ql.ModifiedFollowing\n",
    "endOfMonth = False\n",
    "dayCounter = ql.Actual360()\n",
    "\n",
    "# Construction\n",
    "usd_3m_libor = ql.IborIndex(name,\n",
    "                            tenor,\n",
    "                            settlementDays,\n",
    "                            currency,\n",
    "                            calendar,\n",
    "                            convention,\n",
    "                            endOfMonth,\n",
    "                            dayCounter)"
   ]
  },
  {
   "cell_type": "code",
   "execution_count": 3,
   "metadata": {},
   "outputs": [],
   "source": [
    "usd_3m_libor.addFixing(ql.Date(27, 4, 2020), 0.0135)\n",
    "usd_3m_libor.clearFixings()"
   ]
  }
 ],
 "metadata": {
  "interpreter": {
   "hash": "be8732e3b08d884583d98ab4c09708303a1be645a19e353cfcdfd28adb9a1ab8"
  },
  "kernelspec": {
   "display_name": "Python 3.10.1 64-bit",
   "language": "python",
   "name": "python3"
  },
  "language_info": {
   "codemirror_mode": {
    "name": "ipython",
    "version": 3
   },
   "file_extension": ".py",
   "mimetype": "text/x-python",
   "name": "python",
   "nbconvert_exporter": "python",
   "pygments_lexer": "ipython3",
   "version": "3.10.1"
  },
  "orig_nbformat": 4
 },
 "nbformat": 4,
 "nbformat_minor": 2
}
