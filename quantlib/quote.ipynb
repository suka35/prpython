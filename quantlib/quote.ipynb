{
 "cells": [
  {
   "cell_type": "markdown",
   "metadata": {},
   "source": [
    "https://blog.naver.com/stochastic73/221908296139"
   ]
  },
  {
   "cell_type": "code",
   "execution_count": 1,
   "metadata": {},
   "outputs": [],
   "source": [
    "import QuantLib as ql\n",
    "\n",
    "# Construction\n",
    "quote = ql.SimpleQuote(2767.88)"
   ]
  },
  {
   "cell_type": "code",
   "execution_count": 2,
   "metadata": {},
   "outputs": [
    {
     "name": "stdout",
     "output_type": "stream",
     "text": [
      "2767.88\n",
      "2800.0\n"
     ]
    }
   ],
   "source": [
    "# Functions\n",
    "print(quote.value())    # 2767.88\n",
    "\n",
    "quote.setValue(2800.0)\n",
    "print(quote.value())    # 2800.0"
   ]
  }
 ],
 "metadata": {
  "interpreter": {
   "hash": "be8732e3b08d884583d98ab4c09708303a1be645a19e353cfcdfd28adb9a1ab8"
  },
  "kernelspec": {
   "display_name": "Python 3.10.1 64-bit",
   "language": "python",
   "name": "python3"
  },
  "language_info": {
   "codemirror_mode": {
    "name": "ipython",
    "version": 3
   },
   "file_extension": ".py",
   "mimetype": "text/x-python",
   "name": "python",
   "nbconvert_exporter": "python",
   "pygments_lexer": "ipython3",
   "version": "3.10.1"
  },
  "orig_nbformat": 4
 },
 "nbformat": 4,
 "nbformat_minor": 2
}
