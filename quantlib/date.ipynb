{
 "cells": [
  {
   "cell_type": "markdown",
   "metadata": {},
   "source": [
    "https://blog.naver.com/stochastic73/221902274862"
   ]
  },
  {
   "cell_type": "code",
   "execution_count": 3,
   "metadata": {},
   "outputs": [
    {
     "name": "stdout",
     "output_type": "stream",
     "text": [
      "Day of Month = 3\n",
      "Day of Year = 3\n",
      "Month = 1\n",
      "Year = 2022\n",
      "Serial Number = 44564\n",
      "Weekday = 2\n"
     ]
    }
   ],
   "source": [
    "import QuantLib as ql\n",
    "\n",
    "# Basic Functions\n",
    "date = ql.Date(3, 1, 2022)\n",
    "dayOfMonth = date.dayOfMonth()\n",
    "dayOfYear = date.dayOfYear()\n",
    "Month = date.month()\n",
    "Year = date.year()\n",
    "serialNumber = date.serialNumber()\n",
    "weekday = date.weekday()\n",
    "\n",
    "print(\"Day of Month = {}\".format(dayOfMonth))\n",
    "print(\"Day of Year = {}\".format(dayOfYear))\n",
    "print(\"Month = {}\".format(Month))\n",
    "print(\"Year = {}\".format(Year))\n",
    "print(\"Serial Number = {}\".format(serialNumber))\n",
    "print(\"Weekday = {}\".format(weekday))"
   ]
  },
  {
   "cell_type": "code",
   "execution_count": 4,
   "metadata": {},
   "outputs": [
    {
     "name": "stdout",
     "output_type": "stream",
     "text": [
      "Today's Date = January 3rd, 2022\n",
      "is Leap? = False\n",
      "is End of Month? = False\n",
      "End of Month = January 31st, 2022\n",
      "Next Weekday = January 5th, 2022\n",
      "Nth Weekday = July 16th, 2020\n"
     ]
    }
   ],
   "source": [
    "todaysDate = date.todaysDate()\n",
    "isLeap = date.isLeap(date.year())\n",
    "isEndOfMonth = date.isEndOfMonth(date)\n",
    "endOfMonth = date.endOfMonth(date)\n",
    "nextWeekday = date.nextWeekday(date, 4)\n",
    "nthWeekday = date.nthWeekday(3, 5, 7, 2020)\n",
    "\n",
    "print(\"Today's Date = {}\".format(todaysDate))\n",
    "print(\"is Leap? = {}\".format(isLeap))\n",
    "print(\"is End of Month? = {}\".format(isEndOfMonth))\n",
    "print(\"End of Month = {}\".format(endOfMonth))\n",
    "print(\"Next Weekday = {}\".format(nextWeekday))\n",
    "print(\"Nth Weekday = {}\".format(nthWeekday))"
   ]
  }
 ],
 "metadata": {
  "interpreter": {
   "hash": "af94d671ea0f89aa2095c292ee8b31ce725140d7d9ecef1849c98e3ff3a7f05d"
  },
  "kernelspec": {
   "display_name": "Python 3.9.7 64-bit ('base': conda)",
   "language": "python",
   "name": "python3"
  },
  "language_info": {
   "codemirror_mode": {
    "name": "ipython",
    "version": 3
   },
   "file_extension": ".py",
   "mimetype": "text/x-python",
   "name": "python",
   "nbconvert_exporter": "python",
   "pygments_lexer": "ipython3",
   "version": "3.9.7"
  },
  "orig_nbformat": 4
 },
 "nbformat": 4,
 "nbformat_minor": 2
}
