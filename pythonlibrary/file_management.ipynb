{
 "cells": [
  {
   "cell_type": "code",
   "execution_count": 1,
   "metadata": {},
   "outputs": [],
   "source": [
    "import os\n",
    "import glob\n",
    "import shutil"
   ]
  },
  {
   "cell_type": "code",
   "execution_count": 2,
   "metadata": {},
   "outputs": [
    {
     "data": {
      "text/plain": [
       "'c:\\\\Users\\\\sungh\\\\Documents\\\\GitHub\\\\prpython\\\\pythonlibrary'"
      ]
     },
     "execution_count": 2,
     "metadata": {},
     "output_type": "execute_result"
    }
   ],
   "source": [
    "os.getcwd()"
   ]
  },
  {
   "cell_type": "code",
   "execution_count": 3,
   "metadata": {},
   "outputs": [],
   "source": [
    "os.mkdir('folder0')"
   ]
  },
  {
   "cell_type": "code",
   "execution_count": 4,
   "metadata": {},
   "outputs": [
    {
     "data": {
      "text/plain": [
       "['file_management.ipynb', 'folder0', 'pyautogui_practice.ipynb']"
      ]
     },
     "execution_count": 4,
     "metadata": {},
     "output_type": "execute_result"
    }
   ],
   "source": [
    "os.listdir()"
   ]
  },
  {
   "cell_type": "code",
   "execution_count": 5,
   "metadata": {},
   "outputs": [],
   "source": [
    "os.rmdir('folder0')"
   ]
  },
  {
   "cell_type": "code",
   "execution_count": 6,
   "metadata": {},
   "outputs": [],
   "source": [
    "for i in range(5):\n",
    "    name = 'folder'+str(i)\n",
    "    os.mkdir(name)"
   ]
  },
  {
   "cell_type": "code",
   "execution_count": 7,
   "metadata": {},
   "outputs": [
    {
     "data": {
      "text/plain": [
       "['file_management.ipynb',\n",
       " 'folder0',\n",
       " 'folder1',\n",
       " 'folder2',\n",
       " 'folder3',\n",
       " 'folder4',\n",
       " 'pyautogui_practice.ipynb']"
      ]
     },
     "execution_count": 7,
     "metadata": {},
     "output_type": "execute_result"
    }
   ],
   "source": [
    "os.listdir()"
   ]
  },
  {
   "cell_type": "code",
   "execution_count": 8,
   "metadata": {},
   "outputs": [],
   "source": [
    "years = ['2018', '2019', '2020']\n",
    "for year in years:\n",
    "    os.mkdir(year)"
   ]
  },
  {
   "cell_type": "code",
   "execution_count": 9,
   "metadata": {},
   "outputs": [],
   "source": [
    "months = [ str(mo) for mo in range(1,13)]"
   ]
  },
  {
   "cell_type": "code",
   "execution_count": 10,
   "metadata": {},
   "outputs": [
    {
     "name": "stdout",
     "output_type": "stream",
     "text": [
      "['1', '2', '3', '4', '5', '6', '7', '8', '9', '10', '11', '12']\n"
     ]
    }
   ],
   "source": [
    "print(months)"
   ]
  },
  {
   "cell_type": "code",
   "execution_count": 11,
   "metadata": {},
   "outputs": [],
   "source": [
    "for year in years:\n",
    "    for mo in months:\n",
    "        fname = 'file_' + year+'_'+mo+'.txt'\n",
    "        f = open(fname, 'w')\n",
    "        f.close"
   ]
  },
  {
   "cell_type": "code",
   "execution_count": 12,
   "metadata": {},
   "outputs": [],
   "source": [
    "contents = os.listdir()"
   ]
  },
  {
   "cell_type": "code",
   "execution_count": 13,
   "metadata": {},
   "outputs": [],
   "source": [
    "file_list = []\n",
    "for item in contents:\n",
    "    if 'file_20' in item:\n",
    "        file_list.append(item)"
   ]
  },
  {
   "cell_type": "code",
   "execution_count": 14,
   "metadata": {},
   "outputs": [
    {
     "data": {
      "text/plain": [
       "['file_2018_1.txt',\n",
       " 'file_2018_10.txt',\n",
       " 'file_2018_11.txt',\n",
       " 'file_2018_12.txt',\n",
       " 'file_2018_2.txt',\n",
       " 'file_2018_3.txt',\n",
       " 'file_2018_4.txt',\n",
       " 'file_2018_5.txt',\n",
       " 'file_2018_6.txt',\n",
       " 'file_2018_7.txt',\n",
       " 'file_2018_8.txt',\n",
       " 'file_2018_9.txt',\n",
       " 'file_2019_1.txt',\n",
       " 'file_2019_10.txt',\n",
       " 'file_2019_11.txt',\n",
       " 'file_2019_12.txt',\n",
       " 'file_2019_2.txt',\n",
       " 'file_2019_3.txt',\n",
       " 'file_2019_4.txt',\n",
       " 'file_2019_5.txt',\n",
       " 'file_2019_6.txt',\n",
       " 'file_2019_7.txt',\n",
       " 'file_2019_8.txt',\n",
       " 'file_2019_9.txt',\n",
       " 'file_2020_1.txt',\n",
       " 'file_2020_10.txt',\n",
       " 'file_2020_11.txt',\n",
       " 'file_2020_12.txt',\n",
       " 'file_2020_2.txt',\n",
       " 'file_2020_3.txt',\n",
       " 'file_2020_4.txt',\n",
       " 'file_2020_5.txt',\n",
       " 'file_2020_6.txt',\n",
       " 'file_2020_7.txt',\n",
       " 'file_2020_8.txt',\n",
       " 'file_2020_9.txt']"
      ]
     },
     "execution_count": 14,
     "metadata": {},
     "output_type": "execute_result"
    }
   ],
   "source": [
    "file_list"
   ]
  },
  {
   "cell_type": "code",
   "execution_count": 15,
   "metadata": {},
   "outputs": [],
   "source": [
    "file_list2 = glob.glob('file*txt')"
   ]
  },
  {
   "cell_type": "code",
   "execution_count": 16,
   "metadata": {},
   "outputs": [
    {
     "data": {
      "text/plain": [
       "['file_2018_1.txt',\n",
       " 'file_2018_10.txt',\n",
       " 'file_2018_11.txt',\n",
       " 'file_2018_12.txt',\n",
       " 'file_2018_2.txt',\n",
       " 'file_2018_3.txt',\n",
       " 'file_2018_4.txt',\n",
       " 'file_2018_5.txt',\n",
       " 'file_2018_6.txt',\n",
       " 'file_2018_7.txt',\n",
       " 'file_2018_8.txt',\n",
       " 'file_2018_9.txt',\n",
       " 'file_2019_1.txt',\n",
       " 'file_2019_10.txt',\n",
       " 'file_2019_11.txt',\n",
       " 'file_2019_12.txt',\n",
       " 'file_2019_2.txt',\n",
       " 'file_2019_3.txt',\n",
       " 'file_2019_4.txt',\n",
       " 'file_2019_5.txt',\n",
       " 'file_2019_6.txt',\n",
       " 'file_2019_7.txt',\n",
       " 'file_2019_8.txt',\n",
       " 'file_2019_9.txt',\n",
       " 'file_2020_1.txt',\n",
       " 'file_2020_10.txt',\n",
       " 'file_2020_11.txt',\n",
       " 'file_2020_12.txt',\n",
       " 'file_2020_2.txt',\n",
       " 'file_2020_3.txt',\n",
       " 'file_2020_4.txt',\n",
       " 'file_2020_5.txt',\n",
       " 'file_2020_6.txt',\n",
       " 'file_2020_7.txt',\n",
       " 'file_2020_8.txt',\n",
       " 'file_2020_9.txt']"
      ]
     },
     "execution_count": 16,
     "metadata": {},
     "output_type": "execute_result"
    }
   ],
   "source": [
    "file_list2"
   ]
  },
  {
   "cell_type": "code",
   "execution_count": 17,
   "metadata": {},
   "outputs": [
    {
     "ename": "PermissionError",
     "evalue": "[WinError 32] 다른 프로세스가 파일을 사용 중이기 때문에 프로세스가 액세스 할 수 없습니다: 'file_2020_12.txt'",
     "output_type": "error",
     "traceback": [
      "\u001b[1;31m---------------------------------------------------------------------------\u001b[0m",
      "\u001b[1;31mPermissionError\u001b[0m                           Traceback (most recent call last)",
      "\u001b[1;32m~\\anaconda3\\lib\\shutil.py\u001b[0m in \u001b[0;36mmove\u001b[1;34m(src, dst, copy_function)\u001b[0m\n\u001b[0;32m    813\u001b[0m     \u001b[1;32mtry\u001b[0m\u001b[1;33m:\u001b[0m\u001b[1;33m\u001b[0m\u001b[1;33m\u001b[0m\u001b[0m\n\u001b[1;32m--> 814\u001b[1;33m         \u001b[0mos\u001b[0m\u001b[1;33m.\u001b[0m\u001b[0mrename\u001b[0m\u001b[1;33m(\u001b[0m\u001b[0msrc\u001b[0m\u001b[1;33m,\u001b[0m \u001b[0mreal_dst\u001b[0m\u001b[1;33m)\u001b[0m\u001b[1;33m\u001b[0m\u001b[1;33m\u001b[0m\u001b[0m\n\u001b[0m\u001b[0;32m    815\u001b[0m     \u001b[1;32mexcept\u001b[0m \u001b[0mOSError\u001b[0m\u001b[1;33m:\u001b[0m\u001b[1;33m\u001b[0m\u001b[1;33m\u001b[0m\u001b[0m\n",
      "\u001b[1;31mPermissionError\u001b[0m: [WinError 32] 다른 프로세스가 파일을 사용 중이기 때문에 프로세스가 액세스 할 수 없습니다: 'file_2020_12.txt' -> '.\\\\2020\\\\file_2020_12.txt'",
      "\nDuring handling of the above exception, another exception occurred:\n",
      "\u001b[1;31mPermissionError\u001b[0m                           Traceback (most recent call last)",
      "\u001b[1;32m~\\AppData\\Local\\Temp/ipykernel_11220/1956892137.py\u001b[0m in \u001b[0;36m<module>\u001b[1;34m\u001b[0m\n\u001b[0;32m      5\u001b[0m         \u001b[0mshutil\u001b[0m\u001b[1;33m.\u001b[0m\u001b[0mmove\u001b[0m\u001b[1;33m(\u001b[0m\u001b[0mfile\u001b[0m\u001b[1;33m,\u001b[0m \u001b[1;34m'.\\\\2019\\\\'\u001b[0m\u001b[1;33m+\u001b[0m\u001b[0mfile\u001b[0m\u001b[1;33m)\u001b[0m\u001b[1;33m\u001b[0m\u001b[1;33m\u001b[0m\u001b[0m\n\u001b[0;32m      6\u001b[0m     \u001b[1;32mif\u001b[0m \u001b[1;34m'2020'\u001b[0m \u001b[1;32min\u001b[0m \u001b[0mfile\u001b[0m\u001b[1;33m:\u001b[0m\u001b[1;33m\u001b[0m\u001b[1;33m\u001b[0m\u001b[0m\n\u001b[1;32m----> 7\u001b[1;33m         \u001b[0mshutil\u001b[0m\u001b[1;33m.\u001b[0m\u001b[0mmove\u001b[0m\u001b[1;33m(\u001b[0m\u001b[0mfile\u001b[0m\u001b[1;33m,\u001b[0m \u001b[1;34m'.\\\\2020\\\\'\u001b[0m\u001b[1;33m+\u001b[0m\u001b[0mfile\u001b[0m\u001b[1;33m)\u001b[0m\u001b[1;33m\u001b[0m\u001b[1;33m\u001b[0m\u001b[0m\n\u001b[0m",
      "\u001b[1;32m~\\anaconda3\\lib\\shutil.py\u001b[0m in \u001b[0;36mmove\u001b[1;34m(src, dst, copy_function)\u001b[0m\n\u001b[0;32m    833\u001b[0m         \u001b[1;32melse\u001b[0m\u001b[1;33m:\u001b[0m\u001b[1;33m\u001b[0m\u001b[1;33m\u001b[0m\u001b[0m\n\u001b[0;32m    834\u001b[0m             \u001b[0mcopy_function\u001b[0m\u001b[1;33m(\u001b[0m\u001b[0msrc\u001b[0m\u001b[1;33m,\u001b[0m \u001b[0mreal_dst\u001b[0m\u001b[1;33m)\u001b[0m\u001b[1;33m\u001b[0m\u001b[1;33m\u001b[0m\u001b[0m\n\u001b[1;32m--> 835\u001b[1;33m             \u001b[0mos\u001b[0m\u001b[1;33m.\u001b[0m\u001b[0munlink\u001b[0m\u001b[1;33m(\u001b[0m\u001b[0msrc\u001b[0m\u001b[1;33m)\u001b[0m\u001b[1;33m\u001b[0m\u001b[1;33m\u001b[0m\u001b[0m\n\u001b[0m\u001b[0;32m    836\u001b[0m     \u001b[1;32mreturn\u001b[0m \u001b[0mreal_dst\u001b[0m\u001b[1;33m\u001b[0m\u001b[1;33m\u001b[0m\u001b[0m\n\u001b[0;32m    837\u001b[0m \u001b[1;33m\u001b[0m\u001b[0m\n",
      "\u001b[1;31mPermissionError\u001b[0m: [WinError 32] 다른 프로세스가 파일을 사용 중이기 때문에 프로세스가 액세스 할 수 없습니다: 'file_2020_12.txt'"
     ]
    }
   ],
   "source": [
    "for file in file_list2:\n",
    "    if '2018' in file:\n",
    "        shutil.move(file, '.\\\\2018\\\\'+file)\n",
    "    if '2019' in file:\n",
    "        shutil.move(file, '.\\\\2019\\\\'+file)\n",
    "    if '2020' in file:\n",
    "        shutil.move(file, '.\\\\2020\\\\'+file)"
   ]
  },
  {
   "cell_type": "code",
   "execution_count": null,
   "metadata": {},
   "outputs": [],
   "source": []
  }
 ],
 "metadata": {
  "interpreter": {
   "hash": "af94d671ea0f89aa2095c292ee8b31ce725140d7d9ecef1849c98e3ff3a7f05d"
  },
  "kernelspec": {
   "display_name": "Python 3.9.7 64-bit ('base': conda)",
   "language": "python",
   "name": "python3"
  },
  "language_info": {
   "codemirror_mode": {
    "name": "ipython",
    "version": 3
   },
   "file_extension": ".py",
   "mimetype": "text/x-python",
   "name": "python",
   "nbconvert_exporter": "python",
   "pygments_lexer": "ipython3",
   "version": "3.9.7"
  },
  "orig_nbformat": 4
 },
 "nbformat": 4,
 "nbformat_minor": 2
}
