{
 "cells": [
  {
   "cell_type": "code",
   "execution_count": 3,
   "metadata": {},
   "outputs": [],
   "source": [
    "import PyPDF2"
   ]
  },
  {
   "cell_type": "code",
   "execution_count": 7,
   "metadata": {},
   "outputs": [],
   "source": [
    "pdf_merger = PyPDF2.PdfFileMerger(strict=False)"
   ]
  },
  {
   "cell_type": "code",
   "execution_count": 8,
   "metadata": {},
   "outputs": [],
   "source": [
    "pdf_files = ['001.pdf', '002.pdf', '003.pdf']"
   ]
  },
  {
   "cell_type": "code",
   "execution_count": 9,
   "metadata": {},
   "outputs": [],
   "source": [
    "for pdf in pdf_files:\n",
    "    pdf_merger.append(pdf)"
   ]
  },
  {
   "cell_type": "code",
   "execution_count": 13,
   "metadata": {},
   "outputs": [],
   "source": [
    "pdf_merger.write('conbind.pdf')"
   ]
  },
  {
   "cell_type": "code",
   "execution_count": 21,
   "metadata": {},
   "outputs": [],
   "source": [
    "def merge_pdfs(pdfs_to_merge, output_pdf_name):\n",
    "    pdf_merger = PyPDF2.PdfFileMerger(strict=False)\n",
    "    print('===PDF MERGER===')\n",
    "    print('Input PDF files : ')\n",
    "    for pdf in pdfs_to_merge:\n",
    "        print(pdf)\n",
    "    for pdf in pdfs_to_merge:\n",
    "        pdf_merger.append(pdf)\n",
    "    pdf_merger.write(output_pdf_name)\n",
    "    print('===PDF MERGER===')\n",
    "    print('Input PDF files : ')\n",
    "    print(output_pdf_name)\n"
   ]
  },
  {
   "cell_type": "code",
   "execution_count": 15,
   "metadata": {},
   "outputs": [
    {
     "data": {
      "text/plain": [
       "['001.pdf', '002.pdf', '003.pdf']"
      ]
     },
     "execution_count": 15,
     "metadata": {},
     "output_type": "execute_result"
    }
   ],
   "source": [
    "pdf_files"
   ]
  },
  {
   "cell_type": "code",
   "execution_count": 16,
   "metadata": {},
   "outputs": [],
   "source": [
    "output_name = '004.pdf'"
   ]
  },
  {
   "cell_type": "code",
   "execution_count": 22,
   "metadata": {},
   "outputs": [
    {
     "name": "stdout",
     "output_type": "stream",
     "text": [
      "===PDF MERGER===\n",
      "Input PDF files : \n",
      "001.pdf\n",
      "002.pdf\n",
      "003.pdf\n",
      "===PDF MERGER===\n",
      "Input PDF files : \n",
      "004.pdf\n"
     ]
    }
   ],
   "source": [
    "merge_pdfs(pdf_files, output_name)"
   ]
  },
  {
   "cell_type": "code",
   "execution_count": null,
   "metadata": {},
   "outputs": [],
   "source": []
  }
 ],
 "metadata": {
  "interpreter": {
   "hash": "af94d671ea0f89aa2095c292ee8b31ce725140d7d9ecef1849c98e3ff3a7f05d"
  },
  "kernelspec": {
   "display_name": "Python 3.9.7 64-bit ('base': conda)",
   "language": "python",
   "name": "python3"
  },
  "language_info": {
   "codemirror_mode": {
    "name": "ipython",
    "version": 3
   },
   "file_extension": ".py",
   "mimetype": "text/x-python",
   "name": "python",
   "nbconvert_exporter": "python",
   "pygments_lexer": "ipython3",
   "version": "3.9.7"
  },
  "orig_nbformat": 4
 },
 "nbformat": 4,
 "nbformat_minor": 2
}
