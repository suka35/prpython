{
 "cells": [
  {
   "cell_type": "code",
   "execution_count": null,
   "metadata": {},
   "outputs": [],
   "source": [
    "import warnings\n",
    "warnings.filterwarnings('ignore')"
   ]
  },
  {
   "cell_type": "code",
   "execution_count": null,
   "metadata": {},
   "outputs": [],
   "source": [
    "%matplotlib inline\n",
    "\n",
    "import pandas as pd\n",
    "import pandas_datareader.data as web\n",
    "import numpy as np\n",
    "from numpy.linalg import LinAlgError\n",
    "\n",
    "import statsmodels.tsa.api as tsa\n",
    "from statsmodels.graphics.tsaplots import plot_acf, plot_pacf\n",
    "from statsmodels.tsa.stattools import acf, q_stat, adfuller\n",
    "from scipy.stats import probplot, moment\n",
    "from sklearn.metrics import mean_squared_error\n",
    "\n",
    "import matplotlib.pyplot as plt\n",
    "import seaborn as sns"
   ]
  },
  {
   "cell_type": "code",
   "execution_count": null,
   "metadata": {},
   "outputs": [],
   "source": [
    "sns.set_style('whitegrid')"
   ]
  },
  {
   "cell_type": "code",
   "execution_count": null,
   "metadata": {},
   "outputs": [],
   "source": [
    "def plot_correlogram(x, lags=None, title=None):    \n",
    "    lags = min(10, int(len(x)/5)) if lags is None else lags\n",
    "    fig, axes = plt.subplots(nrows=2, ncols=2, figsize=(14, 8))\n",
    "    x.plot(ax=axes[0][0], title='Residuals')\n",
    "    x.rolling(21).mean().plot(ax=axes[0][0], c='k', lw=1)\n",
    "    q_p = np.max(q_stat(acf(x, nlags=lags), len(x))[1])\n",
    "    stats = f'Q-Stat: {np.max(q_p):>8.2f}\\nADF: {adfuller(x)[1]:>11.2f}'\n",
    "    axes[0][0].text(x=.02, y=.85, s=stats, transform=axes[0][0].transAxes)\n",
    "    probplot(x, plot=axes[0][1])\n",
    "    mean, var, skew, kurtosis = moment(x, moment=[1, 2, 3, 4])\n",
    "    s = f'Mean: {mean:>12.2f}\\nSD: {np.sqrt(var):>16.2f}\\nSkew: {skew:12.2f}\\nKurtosis:{kurtosis:9.2f}'\n",
    "    axes[0][1].text(x=.02, y=.75, s=s, transform=axes[0][1].transAxes)\n",
    "    plot_acf(x=x, lags=lags, zero=False, ax=axes[1][0])\n",
    "    plot_pacf(x, lags=lags, zero=False, ax=axes[1][1])\n",
    "    axes[1][0].set_xlabel('Lag')\n",
    "    axes[1][1].set_xlabel('Lag')\n",
    "    fig.suptitle(title, fontsize=14)\n",
    "    sns.despine()\n",
    "    fig.tight_layout()\n",
    "    fig.subplots_adjust(top=.9)"
   ]
  },
  {
   "cell_type": "code",
   "execution_count": null,
   "metadata": {},
   "outputs": [],
   "source": [
    "industrial_production = web.DataReader('IPGMFN', 'fred', '1988', '2017-12').squeeze().dropna()\n",
    "nasdaq = web.DataReader('NASDAQCOM', 'fred', '1990', '2017-12-31').squeeze().dropna()"
   ]
  },
  {
   "cell_type": "code",
   "execution_count": null,
   "metadata": {},
   "outputs": [],
   "source": [
    "nasdaq_log = np.log(nasdaq)\n",
    "industrial_production_log = np.log(industrial_production)"
   ]
  },
  {
   "cell_type": "code",
   "execution_count": null,
   "metadata": {},
   "outputs": [],
   "source": [
    "nasdaq_log_diff = nasdaq_log.diff().dropna()\n",
    "\n",
    "# seasonal differencing => yoy instantanteous returns\n",
    "industrial_production_log_diff = industrial_production_log.diff(12).dropna()"
   ]
  },
  {
   "cell_type": "code",
   "execution_count": null,
   "metadata": {},
   "outputs": [],
   "source": [
    "model1 = tsa.ARMA(endog=nasdaq_log_diff, order=(2,2)).fit()\n",
    "model2 = tsa.ARIMA(endog=nasdaq_log, order=(2,1,2)).fit()"
   ]
  },
  {
   "cell_type": "code",
   "execution_count": null,
   "metadata": {},
   "outputs": [],
   "source": [
    "model1.params.sort_index() == model2.params.sort_index().values"
   ]
  },
  {
   "cell_type": "code",
   "execution_count": null,
   "metadata": {},
   "outputs": [],
   "source": [
    "model1 = tsa.statespace.SARIMAX(industrial_production_log, order=(2,0,2), seasonal_order=(0,1,0,12)).fit()\n",
    "model2 = tsa.statespace.SARIMAX(industrial_production_log_diff, order=(2,0,2), seasonal_order=(0,0,0,12)).fit()"
   ]
  },
  {
   "cell_type": "code",
   "execution_count": null,
   "metadata": {},
   "outputs": [],
   "source": [
    "model1.params.to_frame('SARIMAX').join(model2.params.to_frame('diff'))"
   ]
  },
  {
   "cell_type": "code",
   "execution_count": null,
   "metadata": {},
   "outputs": [],
   "source": [
    "train_size = 24\n",
    "results = {}\n",
    "y_true = industrial_production_log_diff.iloc[train_size:]\n",
    "for p in range(5):\n",
    "    for q in range(5):\n",
    "        aic, bic = [], []\n",
    "        if p == 0 and q == 0:\n",
    "            continue\n",
    "        print(p, q)\n",
    "        convergence_error = stationarity_error = 0\n",
    "        y_pred = []\n",
    "        for T in range(train_size, len(industrial_production_log_diff)):\n",
    "            train_set = industrial_production_log_diff.iloc[T-train_size:T]\n",
    "            try:\n",
    "                model = tsa.ARMA(endog=train_set, order=(p, q)).fit()\n",
    "            except LinAlgError:\n",
    "                convergence_error += 1\n",
    "            except ValueError:\n",
    "                stationarity_error += 1\n",
    "\n",
    "            forecast, _, _ = model.forecast(steps=1)\n",
    "            y_pred.append(forecast[0])\n",
    "            aic.append(model.aic)\n",
    "            bic.append(model.bic)\n",
    "\n",
    "        result = (pd.DataFrame({'y_true': y_true, 'y_pred': y_pred})\n",
    "                  .replace(np.inf, np.nan)\n",
    "                  .dropna())\n",
    "\n",
    "        rmse = np.sqrt(mean_squared_error(\n",
    "            y_true=result.y_true, y_pred=result.y_pred))\n",
    "\n",
    "        results[(p, q)] = [rmse,\n",
    "                           np.mean(aic),\n",
    "                           np.mean(bic),\n",
    "                           convergence_error,\n",
    "                           stationarity_error]"
   ]
  },
  {
   "cell_type": "code",
   "execution_count": null,
   "metadata": {},
   "outputs": [],
   "source": [
    "arma_results = pd.DataFrame(results).T\n",
    "arma_results.columns = ['RMSE', 'AIC', 'BIC', 'convergence', 'stationarity']\n",
    "arma_results.index.names = ['p', 'q']\n",
    "arma_results.info()"
   ]
  },
  {
   "cell_type": "code",
   "execution_count": null,
   "metadata": {},
   "outputs": [],
   "source": [
    "arma_results.nsmallest(5, columns=['RMSE'])"
   ]
  },
  {
   "cell_type": "code",
   "execution_count": null,
   "metadata": {},
   "outputs": [],
   "source": [
    "arma_results.nsmallest(5, columns=['BIC'])"
   ]
  },
  {
   "cell_type": "code",
   "execution_count": null,
   "metadata": {},
   "outputs": [],
   "source": [
    "fig, axes = plt.subplots(ncols=2, figsize=(10,4), sharex=True, sharey=True)\n",
    "sns.heatmap(arma_results[arma_results.RMSE<.5].RMSE.unstack().mul(10), fmt='.3f', annot=True, cmap='Blues', ax=axes[0], cbar=False);\n",
    "sns.heatmap(arma_results.BIC.unstack(), fmt='.2f', annot=True, cmap='Blues', ax=axes[1], cbar=False)\n",
    "axes[0].set_title('Root Mean Squared Error')\n",
    "axes[1].set_title('Bayesian Information Criterion')\n",
    "fig.tight_layout();"
   ]
  },
  {
   "cell_type": "code",
   "execution_count": null,
   "metadata": {},
   "outputs": [],
   "source": [
    "arma_results.rank().loc[:, ['RMSE', 'BIC']].mean(1).nsmallest(5)"
   ]
  },
  {
   "cell_type": "code",
   "execution_count": null,
   "metadata": {},
   "outputs": [],
   "source": [
    "best_p, best_q = arma_results.rank().loc[:, ['RMSE', 'BIC']].mean(1).idxmin()"
   ]
  },
  {
   "cell_type": "code",
   "execution_count": null,
   "metadata": {},
   "outputs": [],
   "source": [
    "best_arma_model = tsa.ARMA(endog=industrial_production_log_diff, order=(best_p, best_q)).fit()\n",
    "print(best_arma_model.summary())"
   ]
  },
  {
   "cell_type": "code",
   "execution_count": null,
   "metadata": {},
   "outputs": [],
   "source": [
    "plot_correlogram(best_arma_model.resid)"
   ]
  },
  {
   "cell_type": "code",
   "execution_count": null,
   "metadata": {},
   "outputs": [],
   "source": [
    "sarimax_model = tsa.SARIMAX(endog=industrial_production_log_diff.dropna().values,\n",
    "                    order=(2, 0, 2),\n",
    "                    seasonal_order=(1, 0, 1, 12)).fit(start_params=[0, 0, 0, 0, 0, 0, 1])"
   ]
  },
  {
   "cell_type": "code",
   "execution_count": null,
   "metadata": {},
   "outputs": [],
   "source": [
    "print(sarimax_model.summary())"
   ]
  },
  {
   "cell_type": "code",
   "execution_count": null,
   "metadata": {},
   "outputs": [],
   "source": [
    "plot_correlogram(sarimax_model.resid)"
   ]
  },
  {
   "cell_type": "code",
   "execution_count": null,
   "metadata": {},
   "outputs": [],
   "source": [
    "train_size = 24 # 2 years of training data\n",
    "results = {}\n",
    "test_set = industrial_production_log_diff.iloc[train_size:]\n",
    "\n",
    "for p1 in range(4):\n",
    "    for q1 in range(4):\n",
    "        for p2 in range(3):\n",
    "            for q2 in range(3):\n",
    "                preds = test_set.copy().to_frame('y_true').assign(y_pred=np.nan)\n",
    "                aic, bic = [], []\n",
    "                if p1 == 0 and q1 == 0:\n",
    "                    continue\n",
    "                print(p1, q1, p2, q2)\n",
    "                convergence_error = stationarity_error = 0\n",
    "                y_pred = []\n",
    "                for i, T in enumerate(range(train_size, len(industrial_production_log_diff))):\n",
    "                    train_set = industrial_production_log_diff.iloc[T-train_size:T]\n",
    "                    try:\n",
    "                        with warnings.catch_warnings():\n",
    "                            warnings.filterwarnings(\"ignore\")\n",
    "                            model = tsa.SARIMAX(endog=train_set.values,\n",
    "                                            order=(p1, 0, q1),\n",
    "                                            seasonal_order=(p2, 0, q2, 12)).fit(disp=0)\n",
    "                    except LinAlgError:\n",
    "                        convergence_error += 1\n",
    "                    except ValueError:\n",
    "                        stationarity_error += 1\n",
    "\n",
    "                    preds.iloc[i, 1] = model.forecast(steps=1)[0]\n",
    "                    aic.append(model.aic)\n",
    "                    bic.append(model.bic)\n",
    " \n",
    "                preds.dropna(inplace=True)\n",
    "                mse = mean_squared_error(preds.y_true, preds.y_pred)\n",
    "                results[(p1, q1, p2, q2)] = [np.sqrt(mse),\n",
    "                                                  preds.y_true.sub(preds.y_pred).pow(2).std(),\n",
    "                                                  np.mean(aic),\n",
    "                                                  np.std(aic),                                                  \n",
    "                                                  np.mean(bic),\n",
    "                                                  np.std(bic),                                                  \n",
    "                                                  convergence_error,\n",
    "                                                  stationarity_error]"
   ]
  },
  {
   "cell_type": "code",
   "execution_count": null,
   "metadata": {},
   "outputs": [],
   "source": [
    "sarimax_results = pd.DataFrame(results).T\n",
    "sarimax_results.columns = ['RMSE', 'RMSE_std', 'AIC', 'AIC_std', 'BIC', 'BIC_std', 'convergence', 'stationarity']\n",
    "sarimax_results['CV'] = sarimax_results.RMSE_std.div(sarimax_results.RMSE)\n",
    "sarimax_results.index.names = ['p1', 'q1', 'p2', 'q2']\n",
    "sarimax_results.info()"
   ]
  },
  {
   "cell_type": "code",
   "execution_count": null,
   "metadata": {},
   "outputs": [],
   "source": [
    "with pd.HDFStore('arima.h5') as store:\n",
    "    store.put('sarimax', sarimax_results)"
   ]
  },
  {
   "cell_type": "code",
   "execution_count": null,
   "metadata": {},
   "outputs": [],
   "source": [
    "with pd.HDFStore('arima.h5') as store:\n",
    "    sarimax_results = store.get('sarimax')"
   ]
  },
  {
   "cell_type": "code",
   "execution_count": null,
   "metadata": {},
   "outputs": [],
   "source": [
    "sarimax_results.nsmallest(5, columns='RMSE')"
   ]
  },
  {
   "cell_type": "code",
   "execution_count": null,
   "metadata": {},
   "outputs": [],
   "source": [
    "sarimax_results[['RMSE', 'AIC', 'BIC']].sort_values('RMSE').head()"
   ]
  },
  {
   "cell_type": "code",
   "execution_count": null,
   "metadata": {},
   "outputs": [],
   "source": [
    "sarimax_results[['RMSE', 'AIC', 'BIC']].corr('spearman')"
   ]
  },
  {
   "cell_type": "code",
   "execution_count": null,
   "metadata": {},
   "outputs": [],
   "source": [
    "sns.jointplot(y='RMSE', x='BIC', data=sarimax_results[['RMSE', 'BIC']].rank());"
   ]
  },
  {
   "cell_type": "code",
   "execution_count": null,
   "metadata": {},
   "outputs": [],
   "source": [
    "sarimax_results[(sarimax_results.RMSE < sarimax_results.RMSE.quantile(.05)) &\n",
    "                (sarimax_results.BIC < sarimax_results.BIC.quantile(.1))].sort_values('RMSE')"
   ]
  },
  {
   "cell_type": "code",
   "execution_count": null,
   "metadata": {},
   "outputs": [],
   "source": [
    "p1, q1, p2, q2 = 2, 3, 1, 2"
   ]
  },
  {
   "cell_type": "code",
   "execution_count": null,
   "metadata": {},
   "outputs": [],
   "source": [
    "best_model = tsa.SARIMAX(endog=industrial_production_log_diff.values, order=(p1, 0, q1),\n",
    "                         seasonal_order=(p2, 0, q2, 12)).fit()"
   ]
  },
  {
   "cell_type": "code",
   "execution_count": null,
   "metadata": {},
   "outputs": [],
   "source": [
    "print(best_model.summary())"
   ]
  },
  {
   "cell_type": "code",
   "execution_count": null,
   "metadata": {},
   "outputs": [],
   "source": [
    "plot_correlogram(pd.Series(best_model.resid),\n",
    "                 lags=20,\n",
    "                 title=f'SARIMAX ({p1}, 0, {q1}) x ({p2}, 0, {q2}, 12) | Model Diagnostics')"
   ]
  }
 ],
 "metadata": {
  "interpreter": {
   "hash": "be8732e3b08d884583d98ab4c09708303a1be645a19e353cfcdfd28adb9a1ab8"
  },
  "kernelspec": {
   "display_name": "Python 3.10.1 64-bit",
   "language": "python",
   "name": "python3"
  },
  "language_info": {
   "codemirror_mode": {
    "name": "ipython",
    "version": 3
   },
   "file_extension": ".py",
   "mimetype": "text/x-python",
   "name": "python",
   "nbconvert_exporter": "python",
   "pygments_lexer": "ipython3",
   "version": "3.9.7"
  },
  "orig_nbformat": 4
 },
 "nbformat": 4,
 "nbformat_minor": 2
}
