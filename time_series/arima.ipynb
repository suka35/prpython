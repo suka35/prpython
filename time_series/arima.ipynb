{
 "cells": [
  {
   "cell_type": "code",
   "execution_count": 14,
   "metadata": {},
   "outputs": [],
   "source": [
    "import warnings\n",
    "warnings.filterwarnings('ignore')"
   ]
  },
  {
   "cell_type": "code",
   "execution_count": 15,
   "metadata": {},
   "outputs": [],
   "source": [
    "%matplotlib inline\n",
    "\n",
    "import pandas as pd\n",
    "import pandas_datareader.data as web\n",
    "import numpy as np\n",
    "from numpy.linalg import LinAlgError\n",
    "\n",
    "import statsmodels.tsa.api as tsa\n",
    "from statsmodels.graphics.tsaplots import plot_acf, plot_pacf\n",
    "from statsmodels.tsa.stattools import acf, q_stat, adfuller\n",
    "from scipy.stats import probplot, moment\n",
    "from sklearn.metrics import mean_squared_error\n",
    "\n",
    "import matplotlib.pyplot as plt\n",
    "import seaborn as sns"
   ]
  },
  {
   "cell_type": "code",
   "execution_count": 16,
   "metadata": {},
   "outputs": [],
   "source": [
    "sns.set_style('whitegrid')"
   ]
  },
  {
   "cell_type": "code",
   "execution_count": 17,
   "metadata": {},
   "outputs": [],
   "source": [
    "def plot_correlogram(x, lags=None, title=None):    \n",
    "    lags = min(10, int(len(x)/5)) if lags is None else lags\n",
    "    fig, axes = plt.subplots(nrows=2, ncols=2, figsize=(14, 8))\n",
    "    x.plot(ax=axes[0][0], title='Residuals')\n",
    "    x.rolling(21).mean().plot(ax=axes[0][0], c='k', lw=1)\n",
    "    q_p = np.max(q_stat(acf(x, nlags=lags), len(x))[1])\n",
    "    stats = f'Q-Stat: {np.max(q_p):>8.2f}\\nADF: {adfuller(x)[1]:>11.2f}'\n",
    "    axes[0][0].text(x=.02, y=.85, s=stats, transform=axes[0][0].transAxes)\n",
    "    probplot(x, plot=axes[0][1])\n",
    "    mean, var, skew, kurtosis = moment(x, moment=[1, 2, 3, 4])\n",
    "    s = f'Mean: {mean:>12.2f}\\nSD: {np.sqrt(var):>16.2f}\\nSkew: {skew:12.2f}\\nKurtosis:{kurtosis:9.2f}'\n",
    "    axes[0][1].text(x=.02, y=.75, s=s, transform=axes[0][1].transAxes)\n",
    "    plot_acf(x=x, lags=lags, zero=False, ax=axes[1][0])\n",
    "    plot_pacf(x, lags=lags, zero=False, ax=axes[1][1])\n",
    "    axes[1][0].set_xlabel('Lag')\n",
    "    axes[1][1].set_xlabel('Lag')\n",
    "    fig.suptitle(title, fontsize=14)\n",
    "    sns.despine()\n",
    "    fig.tight_layout()\n",
    "    fig.subplots_adjust(top=.9)"
   ]
  },
  {
   "cell_type": "code",
   "execution_count": 18,
   "metadata": {},
   "outputs": [],
   "source": [
    "industrial_production = web.DataReader('IPGMFN', 'fred', '1988', '2017-12').squeeze().dropna()\n",
    "nasdaq = web.DataReader('NASDAQCOM', 'fred', '1990', '2017-12-31').squeeze().dropna()"
   ]
  },
  {
   "cell_type": "code",
   "execution_count": 19,
   "metadata": {},
   "outputs": [],
   "source": [
    "nasdaq_log = np.log(nasdaq)\n",
    "industrial_production_log = np.log(industrial_production)"
   ]
  },
  {
   "cell_type": "code",
   "execution_count": 20,
   "metadata": {},
   "outputs": [],
   "source": [
    "nasdaq_log_diff = nasdaq_log.diff().dropna()\n",
    "\n",
    "# seasonal differencing => yoy instantanteous returns\n",
    "industrial_production_log_diff = industrial_production_log.diff(12).dropna()"
   ]
  },
  {
   "cell_type": "code",
   "execution_count": 21,
   "metadata": {},
   "outputs": [],
   "source": [
    "model1 = tsa.ARMA(endog=nasdaq_log_diff, order=(2,2)).fit()\n",
    "model2 = tsa.ARIMA(endog=nasdaq_log, order=(2,1,2)).fit()"
   ]
  },
  {
   "cell_type": "code",
   "execution_count": 22,
   "metadata": {},
   "outputs": [
    {
     "data": {
      "text/plain": [
       "ar.L1.NASDAQCOM    True\n",
       "ar.L2.NASDAQCOM    True\n",
       "const              True\n",
       "ma.L1.NASDAQCOM    True\n",
       "ma.L2.NASDAQCOM    True\n",
       "dtype: bool"
      ]
     },
     "execution_count": 22,
     "metadata": {},
     "output_type": "execute_result"
    }
   ],
   "source": [
    "model1.params.sort_index() == model2.params.sort_index().values"
   ]
  },
  {
   "cell_type": "code",
   "execution_count": 23,
   "metadata": {},
   "outputs": [],
   "source": [
    "model1 = tsa.statespace.SARIMAX(industrial_production_log, order=(2,0,2), seasonal_order=(0,1,0,12)).fit()\n",
    "model2 = tsa.statespace.SARIMAX(industrial_production_log_diff, order=(2,0,2), seasonal_order=(0,0,0,12)).fit()"
   ]
  },
  {
   "cell_type": "code",
   "execution_count": 24,
   "metadata": {},
   "outputs": [
    {
     "data": {
      "text/html": [
       "<div>\n",
       "<style scoped>\n",
       "    .dataframe tbody tr th:only-of-type {\n",
       "        vertical-align: middle;\n",
       "    }\n",
       "\n",
       "    .dataframe tbody tr th {\n",
       "        vertical-align: top;\n",
       "    }\n",
       "\n",
       "    .dataframe thead th {\n",
       "        text-align: right;\n",
       "    }\n",
       "</style>\n",
       "<table border=\"1\" class=\"dataframe\">\n",
       "  <thead>\n",
       "    <tr style=\"text-align: right;\">\n",
       "      <th></th>\n",
       "      <th>SARIMAX</th>\n",
       "      <th>diff</th>\n",
       "    </tr>\n",
       "  </thead>\n",
       "  <tbody>\n",
       "    <tr>\n",
       "      <th>ar.L1</th>\n",
       "      <td>1.761184</td>\n",
       "      <td>1.761184</td>\n",
       "    </tr>\n",
       "    <tr>\n",
       "      <th>ar.L2</th>\n",
       "      <td>-0.783701</td>\n",
       "      <td>-0.783701</td>\n",
       "    </tr>\n",
       "    <tr>\n",
       "      <th>ma.L1</th>\n",
       "      <td>-0.840799</td>\n",
       "      <td>-0.840799</td>\n",
       "    </tr>\n",
       "    <tr>\n",
       "      <th>ma.L2</th>\n",
       "      <td>0.314827</td>\n",
       "      <td>0.314827</td>\n",
       "    </tr>\n",
       "    <tr>\n",
       "      <th>sigma2</th>\n",
       "      <td>0.000103</td>\n",
       "      <td>0.000103</td>\n",
       "    </tr>\n",
       "  </tbody>\n",
       "</table>\n",
       "</div>"
      ],
      "text/plain": [
       "         SARIMAX      diff\n",
       "ar.L1   1.761184  1.761184\n",
       "ar.L2  -0.783701 -0.783701\n",
       "ma.L1  -0.840799 -0.840799\n",
       "ma.L2   0.314827  0.314827\n",
       "sigma2  0.000103  0.000103"
      ]
     },
     "execution_count": 24,
     "metadata": {},
     "output_type": "execute_result"
    }
   ],
   "source": [
    "model1.params.to_frame('SARIMAX').join(model2.params.to_frame('diff'))"
   ]
  },
  {
   "cell_type": "code",
   "execution_count": 25,
   "metadata": {},
   "outputs": [
    {
     "name": "stdout",
     "output_type": "stream",
     "text": [
      "0 1\n",
      "0 2\n",
      "0 3\n",
      "0 4\n",
      "1 0\n",
      "1 1\n",
      "1 2\n",
      "1 3\n",
      "1 4\n",
      "2 0\n",
      "2 1\n",
      "2 2\n",
      "2 3\n",
      "2 4\n",
      "3 0\n",
      "3 1\n",
      "3 2\n",
      "3 3\n",
      "3 4\n",
      "4 0\n",
      "4 1\n",
      "4 2\n",
      "4 3\n",
      "4 4\n"
     ]
    }
   ],
   "source": [
    "train_size = 30\n",
    "results = {}\n",
    "y_true = industrial_production_log_diff.iloc[train_size:]\n",
    "for p in range(5):\n",
    "    for q in range(5):\n",
    "        aic, bic = [], []\n",
    "        if p == 0 and q == 0:\n",
    "            continue\n",
    "        print(p, q)\n",
    "        convergence_error = stationarity_error = 0\n",
    "        y_pred = []\n",
    "        for T in range(train_size, len(industrial_production_log_diff)):\n",
    "            train_set = industrial_production_log_diff.iloc[T-train_size:T]\n",
    "            try:\n",
    "                model = tsa.ARMA(endog=train_set, order=(p, q)).fit()\n",
    "            except LinAlgError:\n",
    "                convergence_error += 1\n",
    "            except ValueError:\n",
    "                stationarity_error += 1\n",
    "\n",
    "            forecast, _, _ = model.forecast(steps=1)\n",
    "            y_pred.append(forecast[0])\n",
    "            aic.append(model.aic)\n",
    "            bic.append(model.bic)\n",
    "\n",
    "        result = (pd.DataFrame({'y_true': y_true, 'y_pred': y_pred})\n",
    "                  .replace(np.inf, np.nan)\n",
    "                  .dropna())\n",
    "\n",
    "        rmse = np.sqrt(mean_squared_error(\n",
    "            y_true=result.y_true, y_pred=result.y_pred))\n",
    "\n",
    "        results[(p, q)] = [rmse,\n",
    "                           np.mean(aic),\n",
    "                           np.mean(bic),\n",
    "                           convergence_error,\n",
    "                           stationarity_error]"
   ]
  },
  {
   "cell_type": "code",
   "execution_count": 26,
   "metadata": {},
   "outputs": [
    {
     "name": "stdout",
     "output_type": "stream",
     "text": [
      "<class 'pandas.core.frame.DataFrame'>\n",
      "MultiIndex: 24 entries, (0, 1) to (4, 4)\n",
      "Data columns (total 5 columns):\n",
      " #   Column        Non-Null Count  Dtype  \n",
      "---  ------        --------------  -----  \n",
      " 0   RMSE          24 non-null     float64\n",
      " 1   AIC           23 non-null     float64\n",
      " 2   BIC           23 non-null     float64\n",
      " 3   convergence   24 non-null     float64\n",
      " 4   stationarity  24 non-null     float64\n",
      "dtypes: float64(5)\n",
      "memory usage: 1.5 KB\n"
     ]
    }
   ],
   "source": [
    "arma_results = pd.DataFrame(results).T\n",
    "arma_results.columns = ['RMSE', 'AIC', 'BIC', 'convergence', 'stationarity']\n",
    "arma_results.index.names = ['p', 'q']\n",
    "arma_results.info()"
   ]
  },
  {
   "cell_type": "code",
   "execution_count": 27,
   "metadata": {},
   "outputs": [
    {
     "data": {
      "text/html": [
       "<div>\n",
       "<style scoped>\n",
       "    .dataframe tbody tr th:only-of-type {\n",
       "        vertical-align: middle;\n",
       "    }\n",
       "\n",
       "    .dataframe tbody tr th {\n",
       "        vertical-align: top;\n",
       "    }\n",
       "\n",
       "    .dataframe thead th {\n",
       "        text-align: right;\n",
       "    }\n",
       "</style>\n",
       "<table border=\"1\" class=\"dataframe\">\n",
       "  <thead>\n",
       "    <tr style=\"text-align: right;\">\n",
       "      <th></th>\n",
       "      <th></th>\n",
       "      <th>RMSE</th>\n",
       "      <th>AIC</th>\n",
       "      <th>BIC</th>\n",
       "      <th>convergence</th>\n",
       "      <th>stationarity</th>\n",
       "    </tr>\n",
       "    <tr>\n",
       "      <th>p</th>\n",
       "      <th>q</th>\n",
       "      <th></th>\n",
       "      <th></th>\n",
       "      <th></th>\n",
       "      <th></th>\n",
       "      <th></th>\n",
       "    </tr>\n",
       "  </thead>\n",
       "  <tbody>\n",
       "    <tr>\n",
       "      <th>1</th>\n",
       "      <th>0</th>\n",
       "      <td>0.011535</td>\n",
       "      <td>-185.212211</td>\n",
       "      <td>-181.008619</td>\n",
       "      <td>0.0</td>\n",
       "      <td>0.0</td>\n",
       "    </tr>\n",
       "    <tr>\n",
       "      <th>2</th>\n",
       "      <th>0</th>\n",
       "      <td>0.012924</td>\n",
       "      <td>-185.671180</td>\n",
       "      <td>-180.066391</td>\n",
       "      <td>0.0</td>\n",
       "      <td>11.0</td>\n",
       "    </tr>\n",
       "    <tr>\n",
       "      <th>3</th>\n",
       "      <th>0</th>\n",
       "      <td>0.015486</td>\n",
       "      <td>-185.792514</td>\n",
       "      <td>-178.786528</td>\n",
       "      <td>0.0</td>\n",
       "      <td>12.0</td>\n",
       "    </tr>\n",
       "    <tr>\n",
       "      <th>4</th>\n",
       "      <th>0</th>\n",
       "      <td>0.018576</td>\n",
       "      <td>-179.513173</td>\n",
       "      <td>-171.105989</td>\n",
       "      <td>4.0</td>\n",
       "      <td>23.0</td>\n",
       "    </tr>\n",
       "    <tr>\n",
       "      <th>0</th>\n",
       "      <th>1</th>\n",
       "      <td>0.026771</td>\n",
       "      <td>-162.623118</td>\n",
       "      <td>-158.419526</td>\n",
       "      <td>0.0</td>\n",
       "      <td>0.0</td>\n",
       "    </tr>\n",
       "  </tbody>\n",
       "</table>\n",
       "</div>"
      ],
      "text/plain": [
       "         RMSE         AIC         BIC  convergence  stationarity\n",
       "p q                                                             \n",
       "1 0  0.011535 -185.212211 -181.008619          0.0           0.0\n",
       "2 0  0.012924 -185.671180 -180.066391          0.0          11.0\n",
       "3 0  0.015486 -185.792514 -178.786528          0.0          12.0\n",
       "4 0  0.018576 -179.513173 -171.105989          4.0          23.0\n",
       "0 1  0.026771 -162.623118 -158.419526          0.0           0.0"
      ]
     },
     "execution_count": 27,
     "metadata": {},
     "output_type": "execute_result"
    }
   ],
   "source": [
    "arma_results.nsmallest(5, columns=['RMSE'])"
   ]
  },
  {
   "cell_type": "code",
   "execution_count": 28,
   "metadata": {},
   "outputs": [
    {
     "data": {
      "text/html": [
       "<div>\n",
       "<style scoped>\n",
       "    .dataframe tbody tr th:only-of-type {\n",
       "        vertical-align: middle;\n",
       "    }\n",
       "\n",
       "    .dataframe tbody tr th {\n",
       "        vertical-align: top;\n",
       "    }\n",
       "\n",
       "    .dataframe thead th {\n",
       "        text-align: right;\n",
       "    }\n",
       "</style>\n",
       "<table border=\"1\" class=\"dataframe\">\n",
       "  <thead>\n",
       "    <tr style=\"text-align: right;\">\n",
       "      <th></th>\n",
       "      <th></th>\n",
       "      <th>RMSE</th>\n",
       "      <th>AIC</th>\n",
       "      <th>BIC</th>\n",
       "      <th>convergence</th>\n",
       "      <th>stationarity</th>\n",
       "    </tr>\n",
       "    <tr>\n",
       "      <th>p</th>\n",
       "      <th>q</th>\n",
       "      <th></th>\n",
       "      <th></th>\n",
       "      <th></th>\n",
       "      <th></th>\n",
       "      <th></th>\n",
       "    </tr>\n",
       "  </thead>\n",
       "  <tbody>\n",
       "    <tr>\n",
       "      <th>1</th>\n",
       "      <th>0</th>\n",
       "      <td>0.011535</td>\n",
       "      <td>-185.212211</td>\n",
       "      <td>-181.008619</td>\n",
       "      <td>0.0</td>\n",
       "      <td>0.0</td>\n",
       "    </tr>\n",
       "    <tr>\n",
       "      <th>2</th>\n",
       "      <th>0</th>\n",
       "      <td>0.012924</td>\n",
       "      <td>-185.671180</td>\n",
       "      <td>-180.066391</td>\n",
       "      <td>0.0</td>\n",
       "      <td>11.0</td>\n",
       "    </tr>\n",
       "    <tr>\n",
       "      <th rowspan=\"2\" valign=\"top\">1</th>\n",
       "      <th>1</th>\n",
       "      <td>0.035331</td>\n",
       "      <td>-185.657196</td>\n",
       "      <td>-180.052406</td>\n",
       "      <td>1.0</td>\n",
       "      <td>38.0</td>\n",
       "    </tr>\n",
       "    <tr>\n",
       "      <th>2</th>\n",
       "      <td>0.032966</td>\n",
       "      <td>-186.267296</td>\n",
       "      <td>-179.261309</td>\n",
       "      <td>0.0</td>\n",
       "      <td>58.0</td>\n",
       "    </tr>\n",
       "    <tr>\n",
       "      <th>3</th>\n",
       "      <th>0</th>\n",
       "      <td>0.015486</td>\n",
       "      <td>-185.792514</td>\n",
       "      <td>-178.786528</td>\n",
       "      <td>0.0</td>\n",
       "      <td>12.0</td>\n",
       "    </tr>\n",
       "  </tbody>\n",
       "</table>\n",
       "</div>"
      ],
      "text/plain": [
       "         RMSE         AIC         BIC  convergence  stationarity\n",
       "p q                                                             \n",
       "1 0  0.011535 -185.212211 -181.008619          0.0           0.0\n",
       "2 0  0.012924 -185.671180 -180.066391          0.0          11.0\n",
       "1 1  0.035331 -185.657196 -180.052406          1.0          38.0\n",
       "  2  0.032966 -186.267296 -179.261309          0.0          58.0\n",
       "3 0  0.015486 -185.792514 -178.786528          0.0          12.0"
      ]
     },
     "execution_count": 28,
     "metadata": {},
     "output_type": "execute_result"
    }
   ],
   "source": [
    "arma_results.nsmallest(5, columns=['BIC'])"
   ]
  },
  {
   "cell_type": "code",
   "execution_count": 29,
   "metadata": {},
   "outputs": [
    {
     "data": {
      "image/png": "[encoded data removed]",
      "text/plain": [
       "<Figure size 720x288 with 2 Axes>"
      ]
     },
     "metadata": {},
     "output_type": "display_data"
    }
   ],
   "source": [
    "fig, axes = plt.subplots(ncols=2, figsize=(10,4), sharex=True, sharey=True)\n",
    "sns.heatmap(arma_results[arma_results.RMSE<.5].RMSE.unstack().mul(10), fmt='.3f', annot=True, cmap='Blues', ax=axes[0], cbar=False);\n",
    "sns.heatmap(arma_results.BIC.unstack(), fmt='.2f', annot=True, cmap='Blues', ax=axes[1], cbar=False)\n",
    "axes[0].set_title('Root Mean Squared Error')\n",
    "axes[1].set_title('Bayesian Information Criterion')\n",
    "fig.tight_layout();"
   ]
  },
  {
   "cell_type": "code",
   "execution_count": 30,
   "metadata": {},
   "outputs": [
    {
     "data": {
      "text/plain": [
       "p  q\n",
       "1  0    1.0\n",
       "2  0    2.0\n",
       "3  0    4.0\n",
       "1  2    6.0\n",
       "   3    7.0\n",
       "dtype: float64"
      ]
     },
     "execution_count": 30,
     "metadata": {},
     "output_type": "execute_result"
    }
   ],
   "source": [
    "arma_results.rank().loc[:, ['RMSE', 'BIC']].mean(1).nsmallest(5)"
   ]
  },
  {
   "cell_type": "code",
   "execution_count": 31,
   "metadata": {},
   "outputs": [],
   "source": [
    "best_p, best_q = arma_results.rank().loc[:, ['RMSE', 'BIC']].mean(1).idxmin()"
   ]
  },
  {
   "cell_type": "code",
   "execution_count": 32,
   "metadata": {},
   "outputs": [
    {
     "name": "stdout",
     "output_type": "stream",
     "text": [
      "                              ARMA Model Results                              \n",
      "==============================================================================\n",
      "Dep. Variable:                 IPGMFN   No. Observations:                  348\n",
      "Model:                     ARMA(1, 0)   Log Likelihood                1064.232\n",
      "Method:                       css-mle   S.D. of innovations              0.011\n",
      "Date:                Fri, 21 Jan 2022   AIC                          -2122.464\n",
      "Time:                        13:46:49   BIC                          -2110.907\n",
      "Sample:                    01-01-1989   HQIC                         -2117.863\n",
      "                         - 12-01-2017                                         \n",
      "================================================================================\n",
      "                   coef    std err          z      P>|z|      [0.025      0.975]\n",
      "--------------------------------------------------------------------------------\n",
      "const            0.0200      0.018      1.128      0.259      -0.015       0.055\n",
      "ar.L1.IPGMFN     0.9685      0.012     78.280      0.000       0.944       0.993\n",
      "                                    Roots                                    \n",
      "=============================================================================\n",
      "                  Real          Imaginary           Modulus         Frequency\n",
      "-----------------------------------------------------------------------------\n",
      "AR.1            1.0326           +0.0000j            1.0326            0.0000\n",
      "-----------------------------------------------------------------------------\n"
     ]
    }
   ],
   "source": [
    "best_arma_model = tsa.ARMA(endog=industrial_production_log_diff, order=(best_p, best_q)).fit()\n",
    "print(best_arma_model.summary())"
   ]
  },
  {
   "cell_type": "code",
   "execution_count": 33,
   "metadata": {},
   "outputs": [
    {
     "data": {
      "image/png": "[encoded data removed]",
      "text/plain": [
       "<Figure size 1008x576 with 4 Axes>"
      ]
     },
     "metadata": {},
     "output_type": "display_data"
    }
   ],
   "source": [
    "plot_correlogram(best_arma_model.resid)"
   ]
  },
  {
   "cell_type": "code",
   "execution_count": 34,
   "metadata": {},
   "outputs": [],
   "source": [
    "sarimax_model = tsa.SARIMAX(endog=industrial_production_log_diff.dropna().values,\n",
    "                    order=(2, 0, 2),\n",
    "                    seasonal_order=(1, 0, 1, 12)).fit(start_params=[0, 0, 0, 0, 0, 0, 1])"
   ]
  },
  {
   "cell_type": "code",
   "execution_count": 35,
   "metadata": {},
   "outputs": [
    {
     "name": "stdout",
     "output_type": "stream",
     "text": [
      "                                      SARIMAX Results                                       \n",
      "============================================================================================\n",
      "Dep. Variable:                                    y   No. Observations:                  348\n",
      "Model:             SARIMAX(2, 0, 2)x(1, 0, [1], 12)   Log Likelihood                1124.831\n",
      "Date:                              Fri, 21 Jan 2022   AIC                          -2235.663\n",
      "Time:                                      13:46:52   BIC                          -2208.697\n",
      "Sample:                                           0   HQIC                         -2224.927\n",
      "                                              - 348                                         \n",
      "Covariance Type:                                opg                                         \n",
      "==============================================================================\n",
      "                 coef    std err          z      P>|z|      [0.025      0.975]\n",
      "------------------------------------------------------------------------------\n",
      "ar.L1          0.0068      0.382      0.018      0.986      -0.742       0.755\n",
      "ar.L2          0.9932      0.382      2.600      0.009       0.245       1.742\n",
      "ma.L1          1.0318      0.385      2.680      0.007       0.277       1.786\n",
      "ma.L2          0.0372      0.047      0.783      0.434      -0.056       0.130\n",
      "ar.S.L12       0.0024      0.078      0.031      0.975      -0.151       0.156\n",
      "ma.S.L12      -0.6934      0.059    -11.766      0.000      -0.809      -0.578\n",
      "sigma2      8.706e-05   5.37e-06     16.201      0.000    7.65e-05    9.76e-05\n",
      "===================================================================================\n",
      "Ljung-Box (L1) (Q):                   0.08   Jarque-Bera (JB):                39.11\n",
      "Prob(Q):                              0.78   Prob(JB):                         0.00\n",
      "Heteroskedasticity (H):               1.32   Skew:                            -0.30\n",
      "Prob(H) (two-sided):                  0.14   Kurtosis:                         4.53\n",
      "===================================================================================\n",
      "\n",
      "Warnings:\n",
      "[1] Covariance matrix calculated using the outer product of gradients (complex-step).\n"
     ]
    }
   ],
   "source": [
    "print(sarimax_model.summary())"
   ]
  },
  {
   "cell_type": "code",
   "execution_count": 36,
   "metadata": {},
   "outputs": [
    {
     "ename": "AttributeError",
     "evalue": "'numpy.ndarray' object has no attribute 'plot'",
     "output_type": "error",
     "traceback": [
      "\u001b[1;31m---------------------------------------------------------------------------\u001b[0m",
      "\u001b[1;31mAttributeError\u001b[0m                            Traceback (most recent call last)",
      "\u001b[1;32m~\\AppData\\Local\\Temp/ipykernel_20468/2419210368.py\u001b[0m in \u001b[0;36m<module>\u001b[1;34m\u001b[0m\n\u001b[1;32m----> 1\u001b[1;33m \u001b[0mplot_correlogram\u001b[0m\u001b[1;33m(\u001b[0m\u001b[0msarimax_model\u001b[0m\u001b[1;33m.\u001b[0m\u001b[0mresid\u001b[0m\u001b[1;33m)\u001b[0m\u001b[1;33m\u001b[0m\u001b[1;33m\u001b[0m\u001b[0m\n\u001b[0m",
      "\u001b[1;32m~\\AppData\\Local\\Temp/ipykernel_20468/3463276079.py\u001b[0m in \u001b[0;36mplot_correlogram\u001b[1;34m(x, lags, title)\u001b[0m\n\u001b[0;32m      2\u001b[0m     \u001b[0mlags\u001b[0m \u001b[1;33m=\u001b[0m \u001b[0mmin\u001b[0m\u001b[1;33m(\u001b[0m\u001b[1;36m10\u001b[0m\u001b[1;33m,\u001b[0m \u001b[0mint\u001b[0m\u001b[1;33m(\u001b[0m\u001b[0mlen\u001b[0m\u001b[1;33m(\u001b[0m\u001b[0mx\u001b[0m\u001b[1;33m)\u001b[0m\u001b[1;33m/\u001b[0m\u001b[1;36m5\u001b[0m\u001b[1;33m)\u001b[0m\u001b[1;33m)\u001b[0m \u001b[1;32mif\u001b[0m \u001b[0mlags\u001b[0m \u001b[1;32mis\u001b[0m \u001b[1;32mNone\u001b[0m \u001b[1;32melse\u001b[0m \u001b[0mlags\u001b[0m\u001b[1;33m\u001b[0m\u001b[1;33m\u001b[0m\u001b[0m\n\u001b[0;32m      3\u001b[0m     \u001b[0mfig\u001b[0m\u001b[1;33m,\u001b[0m \u001b[0maxes\u001b[0m \u001b[1;33m=\u001b[0m \u001b[0mplt\u001b[0m\u001b[1;33m.\u001b[0m\u001b[0msubplots\u001b[0m\u001b[1;33m(\u001b[0m\u001b[0mnrows\u001b[0m\u001b[1;33m=\u001b[0m\u001b[1;36m2\u001b[0m\u001b[1;33m,\u001b[0m \u001b[0mncols\u001b[0m\u001b[1;33m=\u001b[0m\u001b[1;36m2\u001b[0m\u001b[1;33m,\u001b[0m \u001b[0mfigsize\u001b[0m\u001b[1;33m=\u001b[0m\u001b[1;33m(\u001b[0m\u001b[1;36m14\u001b[0m\u001b[1;33m,\u001b[0m \u001b[1;36m8\u001b[0m\u001b[1;33m)\u001b[0m\u001b[1;33m)\u001b[0m\u001b[1;33m\u001b[0m\u001b[1;33m\u001b[0m\u001b[0m\n\u001b[1;32m----> 4\u001b[1;33m     \u001b[0mx\u001b[0m\u001b[1;33m.\u001b[0m\u001b[0mplot\u001b[0m\u001b[1;33m(\u001b[0m\u001b[0max\u001b[0m\u001b[1;33m=\u001b[0m\u001b[0maxes\u001b[0m\u001b[1;33m[\u001b[0m\u001b[1;36m0\u001b[0m\u001b[1;33m]\u001b[0m\u001b[1;33m[\u001b[0m\u001b[1;36m0\u001b[0m\u001b[1;33m]\u001b[0m\u001b[1;33m,\u001b[0m \u001b[0mtitle\u001b[0m\u001b[1;33m=\u001b[0m\u001b[1;34m'Residuals'\u001b[0m\u001b[1;33m)\u001b[0m\u001b[1;33m\u001b[0m\u001b[1;33m\u001b[0m\u001b[0m\n\u001b[0m\u001b[0;32m      5\u001b[0m     \u001b[0mx\u001b[0m\u001b[1;33m.\u001b[0m\u001b[0mrolling\u001b[0m\u001b[1;33m(\u001b[0m\u001b[1;36m21\u001b[0m\u001b[1;33m)\u001b[0m\u001b[1;33m.\u001b[0m\u001b[0mmean\u001b[0m\u001b[1;33m(\u001b[0m\u001b[1;33m)\u001b[0m\u001b[1;33m.\u001b[0m\u001b[0mplot\u001b[0m\u001b[1;33m(\u001b[0m\u001b[0max\u001b[0m\u001b[1;33m=\u001b[0m\u001b[0maxes\u001b[0m\u001b[1;33m[\u001b[0m\u001b[1;36m0\u001b[0m\u001b[1;33m]\u001b[0m\u001b[1;33m[\u001b[0m\u001b[1;36m0\u001b[0m\u001b[1;33m]\u001b[0m\u001b[1;33m,\u001b[0m \u001b[0mc\u001b[0m\u001b[1;33m=\u001b[0m\u001b[1;34m'k'\u001b[0m\u001b[1;33m,\u001b[0m \u001b[0mlw\u001b[0m\u001b[1;33m=\u001b[0m\u001b[1;36m1\u001b[0m\u001b[1;33m)\u001b[0m\u001b[1;33m\u001b[0m\u001b[1;33m\u001b[0m\u001b[0m\n\u001b[0;32m      6\u001b[0m     \u001b[0mq_p\u001b[0m \u001b[1;33m=\u001b[0m \u001b[0mnp\u001b[0m\u001b[1;33m.\u001b[0m\u001b[0mmax\u001b[0m\u001b[1;33m(\u001b[0m\u001b[0mq_stat\u001b[0m\u001b[1;33m(\u001b[0m\u001b[0macf\u001b[0m\u001b[1;33m(\u001b[0m\u001b[0mx\u001b[0m\u001b[1;33m,\u001b[0m \u001b[0mnlags\u001b[0m\u001b[1;33m=\u001b[0m\u001b[0mlags\u001b[0m\u001b[1;33m)\u001b[0m\u001b[1;33m,\u001b[0m \u001b[0mlen\u001b[0m\u001b[1;33m(\u001b[0m\u001b[0mx\u001b[0m\u001b[1;33m)\u001b[0m\u001b[1;33m)\u001b[0m\u001b[1;33m[\u001b[0m\u001b[1;36m1\u001b[0m\u001b[1;33m]\u001b[0m\u001b[1;33m)\u001b[0m\u001b[1;33m\u001b[0m\u001b[1;33m\u001b[0m\u001b[0m\n",
      "\u001b[1;31mAttributeError\u001b[0m: 'numpy.ndarray' object has no attribute 'plot'"
     ]
    },
    {
     "data": {
      "image/png": "[encoded data removed]",
      "text/plain": [
       "<Figure size 1008x576 with 4 Axes>"
      ]
     },
     "metadata": {},
     "output_type": "display_data"
    }
   ],
   "source": [
    "plot_correlogram(sarimax_model.resid)"
   ]
  },
  {
   "cell_type": "code",
   "execution_count": 37,
   "metadata": {},
   "outputs": [
    {
     "name": "stdout",
     "output_type": "stream",
     "text": [
      "0 1 0 0\n"
     ]
    }
   ],
   "source": [
    "train_size = 120 # 10 years of training data\n",
    "results = {}\n",
    "test_set = industrial_production_log_diff.iloc[train_size:]\n",
    "\n",
    "for p1 in range(4):\n",
    "    for q1 in range(4):\n",
    "        for p2 in range(3):\n",
    "            for q2 in range(3):\n",
    "                preds = test_set.copy().to_frame('y_true').assign(y_pred=np.nan)\n",
    "                aic, bic = [], []\n",
    "                if p1 == 0 and q1 == 0:\n",
    "                    continue\n",
    "                print(p1, q1, p2, q2)\n",
    "                convergence_error = stationarity_error = 0\n",
    "                y_pred = []\n",
    "                for i, T in enumerate(range(train_size, len(industrial_production_log_diff))):\n",
    "                    train_set = industrial_production_log_diff.iloc[T-train_size:T]\n",
    "                    try:\n",
    "                        with warnings.catch_warnings():\n",
    "                            warnings.filterwarnings(\"ignore\")\n",
    "                            model = tsa.SARIMAX(endog=train_set.values,\n",
    "                                            order=(p1, 0, q1),\n",
    "                                            seasonal_order=(p2, 0, q2, 12)).fit(disp=0)\n",
    "                    except LinAlgError:\n",
    "                        convergence_error += 1\n",
    "                    except ValueError:\n",
    "                        stationarity_error += 1\n",
    "\n",
    "                    preds.iloc[i, 1] = model.forecast(steps=1)[0]\n",
    "                    aic.append(model.aic)\n",
    "                    bic.append(model.bic)\n",
    " \n",
    "                preds.dropna(inplace=True)\n",
    "                mse = mean_squared_error(preds.y_true, preds.y_pred)\n",
    "                results[(p1, q1, p2, q2)] = [np.sqrt(mse),\n",
    "                                                  preds.y_true.sub(preds.y_pred).pow(2).std(),\n",
    "                                                  np.mean(aic),\n",
    "                                                  np.std(aic),                                                  \n",
    "                                                  np.mean(bic),\n",
    "                                                  np.std(bic),                                                  \n",
    "                                                  convergence_error,\n",
    "                                                  stationarity_error]"
   ]
  },
  {
   "cell_type": "code",
   "execution_count": null,
   "metadata": {},
   "outputs": [],
   "source": [
    "sarimax_results = pd.DataFrame(results).T\n",
    "sarimax_results.columns = ['RMSE', 'RMSE_std', 'AIC', 'AIC_std', 'BIC', 'BIC_std', 'convergence', 'stationarity']\n",
    "sarimax_results['CV'] = sarimax_results.RMSE_std.div(sarimax_results.RMSE)\n",
    "sarimax_results.index.names = ['p1', 'q1', 'p2', 'q2']\n",
    "sarimax_results.info()"
   ]
  },
  {
   "cell_type": "code",
   "execution_count": null,
   "metadata": {},
   "outputs": [],
   "source": [
    "with pd.HDFStore('arima.h5') as store:\n",
    "    store.put('sarimax', sarimax_results)"
   ]
  },
  {
   "cell_type": "code",
   "execution_count": null,
   "metadata": {},
   "outputs": [],
   "source": [
    "with pd.HDFStore('arima.h5') as store:\n",
    "    sarimax_results = store.get('sarimax')"
   ]
  },
  {
   "cell_type": "code",
   "execution_count": null,
   "metadata": {},
   "outputs": [],
   "source": [
    "sarimax_results.nsmallest(5, columns='RMSE')"
   ]
  },
  {
   "cell_type": "code",
   "execution_count": null,
   "metadata": {},
   "outputs": [],
   "source": [
    "sarimax_results[['RMSE', 'AIC', 'BIC']].sort_values('RMSE').head()"
   ]
  },
  {
   "cell_type": "code",
   "execution_count": null,
   "metadata": {},
   "outputs": [],
   "source": [
    "sarimax_results[['RMSE', 'AIC', 'BIC']].corr('spearman')"
   ]
  },
  {
   "cell_type": "code",
   "execution_count": null,
   "metadata": {},
   "outputs": [],
   "source": [
    "sns.jointplot(y='RMSE', x='BIC', data=sarimax_results[['RMSE', 'BIC']].rank());"
   ]
  },
  {
   "cell_type": "code",
   "execution_count": null,
   "metadata": {},
   "outputs": [],
   "source": [
    "sarimax_results[(sarimax_results.RMSE < sarimax_results.RMSE.quantile(.05)) &\n",
    "                (sarimax_results.BIC < sarimax_results.BIC.quantile(.1))].sort_values('RMSE')"
   ]
  },
  {
   "cell_type": "code",
   "execution_count": null,
   "metadata": {},
   "outputs": [],
   "source": [
    "p1, q1, p2, q2 = 2, 3, 1, 2"
   ]
  },
  {
   "cell_type": "code",
   "execution_count": null,
   "metadata": {},
   "outputs": [],
   "source": [
    "best_model = tsa.SARIMAX(endog=industrial_production_log_diff.values, order=(p1, 0, q1),\n",
    "                         seasonal_order=(p2, 0, q2, 12)).fit()"
   ]
  },
  {
   "cell_type": "code",
   "execution_count": null,
   "metadata": {},
   "outputs": [],
   "source": [
    "print(best_model.summary())"
   ]
  },
  {
   "cell_type": "code",
   "execution_count": null,
   "metadata": {},
   "outputs": [],
   "source": [
    "plot_correlogram(pd.Series(best_model.resid),\n",
    "                 lags=20,\n",
    "                 title=f'SARIMAX ({p1}, 0, {q1}) x ({p2}, 0, {q2}, 12) | Model Diagnostics')"
   ]
  }
 ],
 "metadata": {
  "interpreter": {
   "hash": "be8732e3b08d884583d98ab4c09708303a1be645a19e353cfcdfd28adb9a1ab8"
  },
  "kernelspec": {
   "display_name": "Python 3.10.1 64-bit",
   "language": "python",
   "name": "python3"
  },
  "language_info": {
   "codemirror_mode": {
    "name": "ipython",
    "version": 3
   },
   "file_extension": ".py",
   "mimetype": "text/x-python",
   "name": "python",
   "nbconvert_exporter": "python",
   "pygments_lexer": "ipython3",
   "version": "3.9.7"
  },
  "orig_nbformat": 4
 },
 "nbformat": 4,
 "nbformat_minor": 2
}
