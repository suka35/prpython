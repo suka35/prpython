{
 "cells": [
  {
   "cell_type": "code",
   "execution_count": 1,
   "metadata": {},
   "outputs": [],
   "source": [
    "import numpy as np"
   ]
  },
  {
   "cell_type": "code",
   "execution_count": 4,
   "metadata": {},
   "outputs": [],
   "source": [
    "np_array_a = np.array([1,2,3,4,5])\n",
    "np_array_b = np.array([1., 2., 3., 4., 5.])"
   ]
  },
  {
   "cell_type": "code",
   "execution_count": 3,
   "metadata": {},
   "outputs": [
    {
     "name": "stdout",
     "output_type": "stream",
     "text": [
      "<class 'numpy.ndarray'>\n"
     ]
    }
   ],
   "source": [
    "print (type(np_array_a))"
   ]
  },
  {
   "cell_type": "code",
   "execution_count": 5,
   "metadata": {},
   "outputs": [
    {
     "data": {
      "text/plain": [
       "dtype('float64')"
      ]
     },
     "execution_count": 5,
     "metadata": {},
     "output_type": "execute_result"
    }
   ],
   "source": [
    "np_array_b.dtype"
   ]
  },
  {
   "cell_type": "code",
   "execution_count": 6,
   "metadata": {},
   "outputs": [],
   "source": [
    "z = np.arange(10, dtype=np.float32)"
   ]
  },
  {
   "cell_type": "code",
   "execution_count": 8,
   "metadata": {},
   "outputs": [
    {
     "data": {
      "text/plain": [
       "array([0., 1., 2., 3., 4., 5., 6., 7., 8., 9.], dtype=float32)"
      ]
     },
     "execution_count": 8,
     "metadata": {},
     "output_type": "execute_result"
    }
   ],
   "source": [
    "z"
   ]
  },
  {
   "cell_type": "code",
   "execution_count": 9,
   "metadata": {},
   "outputs": [
    {
     "data": {
      "text/plain": [
       "(10,)"
      ]
     },
     "execution_count": 9,
     "metadata": {},
     "output_type": "execute_result"
    }
   ],
   "source": [
    "z.shape"
   ]
  },
  {
   "cell_type": "code",
   "execution_count": 11,
   "metadata": {},
   "outputs": [
    {
     "data": {
      "text/plain": [
       "1"
      ]
     },
     "execution_count": 11,
     "metadata": {},
     "output_type": "execute_result"
    }
   ],
   "source": [
    "z.ndim"
   ]
  },
  {
   "cell_type": "code",
   "execution_count": 12,
   "metadata": {},
   "outputs": [],
   "source": [
    "from numpy import pi"
   ]
  },
  {
   "cell_type": "code",
   "execution_count": 13,
   "metadata": {},
   "outputs": [],
   "source": [
    "pi_data = np.linspace(0, 1, 20)"
   ]
  },
  {
   "cell_type": "code",
   "execution_count": 14,
   "metadata": {},
   "outputs": [
    {
     "data": {
      "text/plain": [
       "array([0.        , 0.05263158, 0.10526316, 0.15789474, 0.21052632,\n",
       "       0.26315789, 0.31578947, 0.36842105, 0.42105263, 0.47368421,\n",
       "       0.52631579, 0.57894737, 0.63157895, 0.68421053, 0.73684211,\n",
       "       0.78947368, 0.84210526, 0.89473684, 0.94736842, 1.        ])"
      ]
     },
     "execution_count": 14,
     "metadata": {},
     "output_type": "execute_result"
    }
   ],
   "source": [
    "pi_data"
   ]
  },
  {
   "cell_type": "code",
   "execution_count": 15,
   "metadata": {},
   "outputs": [],
   "source": [
    "np.random.seed(123)"
   ]
  },
  {
   "cell_type": "code",
   "execution_count": 16,
   "metadata": {},
   "outputs": [
    {
     "data": {
      "text/plain": [
       "array([0.15416284, 0.7400497 , 0.26331502, 0.53373939, 0.01457496,\n",
       "       0.91874701, 0.90071485, 0.03342143, 0.95694934, 0.13720932,\n",
       "       0.28382835, 0.60608318, 0.94422514, 0.85273554, 0.00225923,\n",
       "       0.52122603, 0.55203763, 0.48537741, 0.76813415, 0.16071675])"
      ]
     },
     "execution_count": 16,
     "metadata": {},
     "output_type": "execute_result"
    }
   ],
   "source": [
    "np.random.seed(12)\n",
    "pi_data2 = np.random.random((20))\n",
    "pi_data2"
   ]
  },
  {
   "cell_type": "code",
   "execution_count": 17,
   "metadata": {},
   "outputs": [
    {
     "data": {
      "text/plain": [
       "array([0.15416284, 0.79268128, 0.36857817, 0.69163413, 0.22510128,\n",
       "       1.1819049 , 1.21650433, 0.40184248, 1.37800197, 0.61089353,\n",
       "       0.81014414, 1.18503055, 1.57580408, 1.53694607, 0.73910134,\n",
       "       1.31069971, 1.3941429 , 1.38011426, 1.71550258, 1.16071675])"
      ]
     },
     "execution_count": 17,
     "metadata": {},
     "output_type": "execute_result"
    }
   ],
   "source": [
    "pi_data + pi_data2"
   ]
  },
  {
   "cell_type": "code",
   "execution_count": 18,
   "metadata": {},
   "outputs": [],
   "source": [
    "a = np.array([(1.3, 4, 5), (4,5,6)])"
   ]
  },
  {
   "cell_type": "code",
   "execution_count": 19,
   "metadata": {},
   "outputs": [
    {
     "data": {
      "text/plain": [
       "2"
      ]
     },
     "execution_count": 19,
     "metadata": {},
     "output_type": "execute_result"
    }
   ],
   "source": [
    "a.ndim"
   ]
  },
  {
   "cell_type": "code",
   "execution_count": 20,
   "metadata": {},
   "outputs": [
    {
     "data": {
      "text/plain": [
       "(2, 3)"
      ]
     },
     "execution_count": 20,
     "metadata": {},
     "output_type": "execute_result"
    }
   ],
   "source": [
    "a.shape"
   ]
  },
  {
   "cell_type": "code",
   "execution_count": 21,
   "metadata": {},
   "outputs": [
    {
     "data": {
      "text/plain": [
       "dtype('float64')"
      ]
     },
     "execution_count": 21,
     "metadata": {},
     "output_type": "execute_result"
    }
   ],
   "source": [
    "a.dtype"
   ]
  },
  {
   "cell_type": "code",
   "execution_count": 22,
   "metadata": {},
   "outputs": [],
   "source": [
    "a2 = np.array([(1.3, 4, 5), (4,5,6)], dtype=np.float32)"
   ]
  },
  {
   "cell_type": "code",
   "execution_count": 23,
   "metadata": {},
   "outputs": [
    {
     "data": {
      "text/plain": [
       "array([[1.3, 4. , 5. ],\n",
       "       [4. , 5. , 6. ]], dtype=float32)"
      ]
     },
     "execution_count": 23,
     "metadata": {},
     "output_type": "execute_result"
    }
   ],
   "source": [
    "a2"
   ]
  },
  {
   "cell_type": "code",
   "execution_count": 24,
   "metadata": {},
   "outputs": [
    {
     "data": {
      "text/plain": [
       "dtype('float32')"
      ]
     },
     "execution_count": 24,
     "metadata": {},
     "output_type": "execute_result"
    }
   ],
   "source": [
    "a2.dtype"
   ]
  },
  {
   "cell_type": "code",
   "execution_count": 25,
   "metadata": {},
   "outputs": [],
   "source": [
    "b = np.array([[1, 7, 4, 5], [4,5,6,9]])"
   ]
  },
  {
   "cell_type": "code",
   "execution_count": 26,
   "metadata": {},
   "outputs": [
    {
     "data": {
      "text/plain": [
       "(2, 4)"
      ]
     },
     "execution_count": 26,
     "metadata": {},
     "output_type": "execute_result"
    }
   ],
   "source": [
    "b.shape"
   ]
  },
  {
   "cell_type": "code",
   "execution_count": 27,
   "metadata": {},
   "outputs": [],
   "source": [
    "c = np.array([[1, 8, 4], [4,5,6], [4,5,6]])"
   ]
  },
  {
   "cell_type": "code",
   "execution_count": 28,
   "metadata": {},
   "outputs": [
    {
     "data": {
      "text/plain": [
       "(3, 3)"
      ]
     },
     "execution_count": 28,
     "metadata": {},
     "output_type": "execute_result"
    }
   ],
   "source": [
    "c.shape"
   ]
  },
  {
   "cell_type": "code",
   "execution_count": 29,
   "metadata": {},
   "outputs": [
    {
     "data": {
      "text/plain": [
       "2"
      ]
     },
     "execution_count": 29,
     "metadata": {},
     "output_type": "execute_result"
    }
   ],
   "source": [
    "c.ndim"
   ]
  },
  {
   "cell_type": "code",
   "execution_count": 30,
   "metadata": {},
   "outputs": [
    {
     "data": {
      "text/plain": [
       "array([[1, 4, 5],\n",
       "       [4, 5, 6]])"
      ]
     },
     "execution_count": 30,
     "metadata": {},
     "output_type": "execute_result"
    }
   ],
   "source": [
    "a2.astype(np.int32)"
   ]
  },
  {
   "cell_type": "code",
   "execution_count": 31,
   "metadata": {},
   "outputs": [
    {
     "data": {
      "text/plain": [
       "array([[0., 0., 0., 0.],\n",
       "       [0., 0., 0., 0.],\n",
       "       [0., 0., 0., 0.]])"
      ]
     },
     "execution_count": 31,
     "metadata": {},
     "output_type": "execute_result"
    }
   ],
   "source": [
    "np.zeros((3,4))"
   ]
  },
  {
   "cell_type": "code",
   "execution_count": 32,
   "metadata": {},
   "outputs": [],
   "source": [
    "tmp = np.ones((2,3,4), dtype=np.int32)"
   ]
  },
  {
   "cell_type": "code",
   "execution_count": 33,
   "metadata": {},
   "outputs": [
    {
     "data": {
      "text/plain": [
       "3"
      ]
     },
     "execution_count": 33,
     "metadata": {},
     "output_type": "execute_result"
    }
   ],
   "source": [
    "tmp.ndim"
   ]
  },
  {
   "cell_type": "code",
   "execution_count": 34,
   "metadata": {},
   "outputs": [
    {
     "data": {
      "text/plain": [
       "array([[[1, 1, 1, 1],\n",
       "        [1, 1, 1, 1],\n",
       "        [1, 1, 1, 1]],\n",
       "\n",
       "       [[1, 1, 1, 1],\n",
       "        [1, 1, 1, 1],\n",
       "        [1, 1, 1, 1]]])"
      ]
     },
     "execution_count": 34,
     "metadata": {},
     "output_type": "execute_result"
    }
   ],
   "source": [
    "tmp"
   ]
  },
  {
   "cell_type": "code",
   "execution_count": 35,
   "metadata": {},
   "outputs": [
    {
     "data": {
      "text/plain": [
       "array([[1.02765670e-311, 1.02767929e-311, 6.04736351e-321,\n",
       "                    nan, 3.82368604e-297, 3.82368605e-297,\n",
       "        1.64290199e-287, 1.56108506e-282, 1.07669224e-282,\n",
       "        1.42517535e-309, 5.11767337e-307, 1.07981234e+070,\n",
       "        7.05154591e-278, 8.90557497e-308, 2.58082307e-263,\n",
       "        1.39952050e-309, 5.85167001e-302, 2.38433293e-244,\n",
       "        5.83663433e-309, 1.02215595e-234, 6.70824613e-230,\n",
       "        1.65163777e-234, 3.82290735e-297, 3.83043487e-297,\n",
       "        8.90070337e-308, 6.43323104e-220, 8.53043480e-254,\n",
       "        1.50122859e-309, 8.10126907e-206, 2.40110410e-239,\n",
       "        1.52295840e-309, 3.34301786e-186, 1.03126629e-229,\n",
       "        6.75850675e-225],\n",
       "       [1.53382319e-309, 1.43581525e-176, 1.03126629e-229,\n",
       "        2.90275655e-215, 1.54468797e-309, 6.16677956e-167,\n",
       "        1.24672444e-205, 1.55555276e-309, 2.64861166e-157,\n",
       "        5.35464071e-196, 1.56641754e-309, 1.13757005e-147,\n",
       "        2.29980067e-186, 1.58271463e-309, 4.48006638e-307,\n",
       "        9.42855658e-129, 4.04406981e-119, 2.79439806e-162,\n",
       "        7.98996013e-301, 3.43913007e-108, 5.12773368e-143,\n",
       "        7.99725126e-301, 3.43913012e-108, 9.45899909e-124,\n",
       "        8.00271960e-301, 8.64092277e-201, 3.58820363e-306,\n",
       "        7.93549630e-301, 7.92132645e-095, 9.93193793e-124,\n",
       "        4.29419067e-114, 1.14335117e-099, 1.75168876e-104,\n",
       "        7.52929899e-095],\n",
       "       [7.55127279e-095, 1.45438168e-128, 4.20756411e-297,\n",
       "        6.38205184e-124, 9.79758011e-129, 7.14256087e-090,\n",
       "        3.07632548e-080, 1.65333581e-309, 1.22452093e-305,\n",
       "        3.24966299e-085, 1.39952008e-309, 1.62584887e-205,\n",
       "        5.00441583e-060, 1.39952166e-309, 1.62633555e-205,\n",
       "        5.00441583e-060, 7.93571836e-301, 1.32117804e-205,\n",
       "        1.39952340e-309, 8.01365664e-301, 9.15229420e-071,\n",
       "        1.03315663e-306, 3.93219177e-061, 2.24958206e-307,\n",
       "        2.62627391e-027, 2.23337941e-296, 2.57802800e-056,\n",
       "        1.40453230e-309, 4.75009141e-037, 3.08149029e-032,\n",
       "        6.19329828e-302, 1.62295011e-296, 1.60545585e-291,\n",
       "        3.60280590e-306],\n",
       "       [3.60419659e-306, 1.60105975e+002, 1.74568648e-309,\n",
       "        1.05751040e+007, 5.79612503e+017, 7.93549630e-301,\n",
       "        4.17034227e+021, 2.03099725e+026, 1.31911782e+026,\n",
       "        3.57744271e+040, 1.11260630e-306, 9.33378459e-301,\n",
       "        1.96011899e+026, 3.43453756e-306, 8.42189216e+035,\n",
       "        3.82368691e-297, 8.55841646e+064, 1.47117792e-200,\n",
       "        2.37192208e+050, 1.07011891e+060, 1.21787779e+079,\n",
       "        5.83462120e-302, 1.05267886e+060, 3.51871954e-308,\n",
       "        3.01434909e+074, 2.25496817e-301, 3.47156111e-108,\n",
       "        2.35888498e+103, 5.11898044e-307, 9.51983029e-292,\n",
       "        1.05081060e-286, 1.39069240e-309, 6.77927371e+059,\n",
       "        9.66483458e+107],\n",
       "       [2.87588942e+074, 6.22633522e-302, 1.05138203e-286,\n",
       "        1.86989366e-306, 2.53675996e-292, 1.23564646e-305,\n",
       "        8.08110058e-301, 3.47804708e-308, 5.29872990e+093,\n",
       "        2.21662279e-301, 3.47992068e+098, 5.98150593e-302,\n",
       "        5.69539429e-309, 2.24067939e-309, 1.39470336e+156,\n",
       "        5.26047089e-191, 1.05087867e-286, 4.59577421e-268,\n",
       "        2.68615037e+122, 4.41857371e+122, 4.22971819e-307,\n",
       "        1.02765719e-311, 1.02704596e-311, 5.53741124e-307,\n",
       "        1.02764649e-311, 1.02765848e-311, 1.75728101e-313,\n",
       "        1.02765719e-311, 1.02765719e-311, 1.02704596e-311,\n",
       "        1.02765579e-311, 1.02764959e-311, 1.02764960e-311,\n",
       "        6.96283113e-314],\n",
       "       [1.02765719e-311, 1.02765719e-311, 1.02704596e-311,\n",
       "        1.02765579e-311, 1.02762733e-311, 5.53738397e-307,\n",
       "        1.02765654e-311, 1.02762340e-311, 1.02764964e-311,\n",
       "        1.02764964e-311, 1.02764964e-311, 1.02764964e-311,\n",
       "        1.02764964e-311, 1.02764954e-311, 1.02764964e-311,\n",
       "        1.02764964e-311, 1.02764965e-311, 1.02764965e-311,\n",
       "        1.02764867e-311, 1.02764954e-311, 1.02764966e-311,\n",
       "        1.02764965e-311, 1.02764965e-311, 1.02764965e-311,\n",
       "        1.02764963e-311, 1.02764965e-311, 1.02762456e-311,\n",
       "        1.02764965e-311, 1.02764879e-311, 1.02764965e-311,\n",
       "        1.02764965e-311, 1.02764966e-311, 1.02764959e-311,\n",
       "        1.02762918e-311]])"
      ]
     },
     "execution_count": 35,
     "metadata": {},
     "output_type": "execute_result"
    }
   ],
   "source": [
    "np.empty((6,34))"
   ]
  },
  {
   "cell_type": "code",
   "execution_count": 36,
   "metadata": {},
   "outputs": [],
   "source": [
    "d = np.arange(12)"
   ]
  },
  {
   "cell_type": "code",
   "execution_count": 37,
   "metadata": {},
   "outputs": [],
   "source": [
    "d2 = d.reshape(2,6)"
   ]
  },
  {
   "cell_type": "code",
   "execution_count": 38,
   "metadata": {},
   "outputs": [
    {
     "data": {
      "text/plain": [
       "array([[ 0,  1,  2,  3,  4,  5],\n",
       "       [ 6,  7,  8,  9, 10, 11]])"
      ]
     },
     "execution_count": 38,
     "metadata": {},
     "output_type": "execute_result"
    }
   ],
   "source": [
    "d2"
   ]
  },
  {
   "cell_type": "code",
   "execution_count": 39,
   "metadata": {},
   "outputs": [],
   "source": [
    "f = np.arange(48)"
   ]
  },
  {
   "cell_type": "code",
   "execution_count": 40,
   "metadata": {},
   "outputs": [],
   "source": [
    "f2 = f.reshape(3,4,4)"
   ]
  },
  {
   "cell_type": "code",
   "execution_count": 41,
   "metadata": {},
   "outputs": [
    {
     "data": {
      "text/plain": [
       "array([[[ 0,  1,  2,  3],\n",
       "        [ 4,  5,  6,  7],\n",
       "        [ 8,  9, 10, 11],\n",
       "        [12, 13, 14, 15]],\n",
       "\n",
       "       [[16, 17, 18, 19],\n",
       "        [20, 21, 22, 23],\n",
       "        [24, 25, 26, 27],\n",
       "        [28, 29, 30, 31]],\n",
       "\n",
       "       [[32, 33, 34, 35],\n",
       "        [36, 37, 38, 39],\n",
       "        [40, 41, 42, 43],\n",
       "        [44, 45, 46, 47]]])"
      ]
     },
     "execution_count": 41,
     "metadata": {},
     "output_type": "execute_result"
    }
   ],
   "source": [
    "f2"
   ]
  },
  {
   "cell_type": "code",
   "execution_count": 42,
   "metadata": {},
   "outputs": [],
   "source": [
    "a = np.arange(10)"
   ]
  },
  {
   "cell_type": "code",
   "execution_count": 43,
   "metadata": {},
   "outputs": [],
   "source": [
    "tmp2 = []\n",
    "for x in range(10):\n",
    "    tmp2.append(x * 10)"
   ]
  },
  {
   "cell_type": "code",
   "execution_count": 44,
   "metadata": {},
   "outputs": [],
   "source": [
    "b = np.arange(12)"
   ]
  },
  {
   "cell_type": "code",
   "execution_count": 45,
   "metadata": {},
   "outputs": [
    {
     "ename": "ValueError",
     "evalue": "operands could not be broadcast together with shapes (12,) (10,) ",
     "output_type": "error",
     "traceback": [
      "\u001b[1;31m---------------------------------------------------------------------------\u001b[0m",
      "\u001b[1;31mValueError\u001b[0m                                Traceback (most recent call last)",
      "\u001b[1;32m~\\AppData\\Local\\Temp/ipykernel_9880/1906476627.py\u001b[0m in \u001b[0;36m<module>\u001b[1;34m\u001b[0m\n\u001b[1;32m----> 1\u001b[1;33m \u001b[0mb\u001b[0m\u001b[1;33m-\u001b[0m\u001b[0ma\u001b[0m\u001b[1;33m\u001b[0m\u001b[1;33m\u001b[0m\u001b[0m\n\u001b[0m",
      "\u001b[1;31mValueError\u001b[0m: operands could not be broadcast together with shapes (12,) (10,) "
     ]
    }
   ],
   "source": [
    "b-a"
   ]
  },
  {
   "cell_type": "code",
   "execution_count": 46,
   "metadata": {},
   "outputs": [
    {
     "ename": "ValueError",
     "evalue": "operands could not be broadcast together with shapes (10,) (12,) ",
     "output_type": "error",
     "traceback": [
      "\u001b[1;31m---------------------------------------------------------------------------\u001b[0m",
      "\u001b[1;31mValueError\u001b[0m                                Traceback (most recent call last)",
      "\u001b[1;32m~\\AppData\\Local\\Temp/ipykernel_9880/2070517315.py\u001b[0m in \u001b[0;36m<module>\u001b[1;34m\u001b[0m\n\u001b[1;32m----> 1\u001b[1;33m \u001b[0ma\u001b[0m \u001b[1;33m-\u001b[0m \u001b[0mb\u001b[0m\u001b[1;33m\u001b[0m\u001b[1;33m\u001b[0m\u001b[0m\n\u001b[0m",
      "\u001b[1;31mValueError\u001b[0m: operands could not be broadcast together with shapes (10,) (12,) "
     ]
    }
   ],
   "source": [
    "a - b"
   ]
  },
  {
   "cell_type": "code",
   "execution_count": 47,
   "metadata": {},
   "outputs": [],
   "source": [
    "b = np.arange(10)"
   ]
  },
  {
   "cell_type": "code",
   "execution_count": 48,
   "metadata": {},
   "outputs": [
    {
     "data": {
      "text/plain": [
       "array([0, 0, 0, 0, 0, 0, 0, 0, 0, 0])"
      ]
     },
     "execution_count": 48,
     "metadata": {},
     "output_type": "execute_result"
    }
   ],
   "source": [
    "a - b"
   ]
  },
  {
   "cell_type": "code",
   "execution_count": 49,
   "metadata": {},
   "outputs": [
    {
     "data": {
      "text/plain": [
       "array([[0.        , 0.05263158, 0.10526316, 0.15789474, 0.21052632],\n",
       "       [0.26315789, 0.31578947, 0.36842105, 0.42105263, 0.47368421],\n",
       "       [0.52631579, 0.57894737, 0.63157895, 0.68421053, 0.73684211],\n",
       "       [0.78947368, 0.84210526, 0.89473684, 0.94736842, 1.        ]])"
      ]
     },
     "execution_count": 49,
     "metadata": {},
     "output_type": "execute_result"
    }
   ],
   "source": [
    "pi_data.reshape(4,5)"
   ]
  },
  {
   "cell_type": "code",
   "execution_count": 50,
   "metadata": {},
   "outputs": [
    {
     "data": {
      "text/plain": [
       "array([[0.15416284, 0.7400497 , 0.26331502, 0.53373939, 0.01457496],\n",
       "       [0.91874701, 0.90071485, 0.03342143, 0.95694934, 0.13720932],\n",
       "       [0.28382835, 0.60608318, 0.94422514, 0.85273554, 0.00225923],\n",
       "       [0.52122603, 0.55203763, 0.48537741, 0.76813415, 0.16071675]])"
      ]
     },
     "execution_count": 50,
     "metadata": {},
     "output_type": "execute_result"
    }
   ],
   "source": [
    "pi_data2.reshape(4,5)"
   ]
  },
  {
   "cell_type": "code",
   "execution_count": 51,
   "metadata": {},
   "outputs": [
    {
     "data": {
      "text/plain": [
       "array([[0.15416284, 0.79268128, 0.36857817, 0.69163413, 0.22510128],\n",
       "       [1.1819049 , 1.21650433, 0.40184248, 1.37800197, 0.61089353],\n",
       "       [0.81014414, 1.18503055, 1.57580408, 1.53694607, 0.73910134],\n",
       "       [1.31069971, 1.3941429 , 1.38011426, 1.71550258, 1.16071675]])"
      ]
     },
     "execution_count": 51,
     "metadata": {},
     "output_type": "execute_result"
    }
   ],
   "source": [
    "pi_data.reshape(4,5) + pi_data2.reshape(4,5)"
   ]
  }
 ],
 "metadata": {
  "interpreter": {
   "hash": "be8732e3b08d884583d98ab4c09708303a1be645a19e353cfcdfd28adb9a1ab8"
  },
  "kernelspec": {
   "display_name": "Python 3.10.3 64-bit",
   "language": "python",
   "name": "python3"
  },
  "language_info": {
   "codemirror_mode": {
    "name": "ipython",
    "version": 3
   },
   "file_extension": ".py",
   "mimetype": "text/x-python",
   "name": "python",
   "nbconvert_exporter": "python",
   "pygments_lexer": "ipython3",
   "version": "3.9.7"
  },
  "orig_nbformat": 4
 },
 "nbformat": 4,
 "nbformat_minor": 2
}
