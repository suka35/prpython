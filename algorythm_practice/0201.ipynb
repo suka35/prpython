{
 "cells": [
  {
   "cell_type": "markdown",
   "metadata": {},
   "source": [
    "그리디 문제"
   ]
  },
  {
   "cell_type": "code",
   "execution_count": 1,
   "metadata": {},
   "outputs": [
    {
     "name": "stdout",
     "output_type": "stream",
     "text": [
      "6\n"
     ]
    }
   ],
   "source": [
    "n = 1260\n",
    "count = 0\n",
    "array = [500, 100, 50, 10]\n",
    "for coin in array:\n",
    "    count += n // coin\n",
    "    n %= coin\n",
    "print(count)"
   ]
  },
  {
   "cell_type": "code",
   "execution_count": 1,
   "metadata": {},
   "outputs": [
    {
     "name": "stdout",
     "output_type": "stream",
     "text": [
      "[12, 10, 5]\n",
      "[5, 10, 12]\n"
     ]
    }
   ],
   "source": [
    "# 스택 구현 예제\n",
    "stack = []\n",
    "stack.append(5)\n",
    "stack.append(10)\n",
    "stack.append(23)\n",
    "stack.pop()\n",
    "stack.append(12)\n",
    "stack.append(5)\n",
    "stack.pop()\n",
    "print(stack[::-1])\n",
    "print(stack)"
   ]
  },
  {
   "cell_type": "code",
   "execution_count": 2,
   "metadata": {},
   "outputs": [
    {
     "name": "stdout",
     "output_type": "stream",
     "text": [
      "deque([3, 7, 1, 4])\n",
      "deque([4, 1, 7, 3])\n"
     ]
    }
   ],
   "source": [
    "from collections import deque \n",
    "\n",
    "# 큐(Queue) 구현을 위해 deque 라이브러리 사용\n",
    "queue = deque()\n",
    "\n",
    "# 삽입(5) - 삽입(2) - 삽입(3) - 삽입(7) - 삭제() - 삽입(1) - 삽입(4) - 삭제()\n",
    "queue.append(5)\n",
    "queue.append(2)\n",
    "queue.append(3)\n",
    "queue.append(7)\n",
    "queue.popleft()\n",
    "queue.append(1)\n",
    "queue.append(4)\n",
    "queue.popleft()\n",
    "\n",
    "print(queue) # 먼저 들어온 순서대로 출력\n",
    "queue.reverse() # 다음 출력을 위해 역순으로 바꾸기\n",
    "print(queue) # 나중에 들어온 원소부터 출력"
   ]
  },
  {
   "cell_type": "code",
   "execution_count": 3,
   "metadata": {},
   "outputs": [],
   "source": [
    "# 반복적으로 구현한 n!\n",
    "def factorial_iterative(n):        \n",
    "    result = 1\n",
    "    # 1부터 n까지의 수를 차례대로 곱하기\n",
    "    for i in range(1, n + 1):\n",
    "       result *= i\n",
    "    return result"
   ]
  },
  {
   "cell_type": "code",
   "execution_count": 4,
   "metadata": {},
   "outputs": [
    {
     "name": "stdout",
     "output_type": "stream",
     "text": [
      "반복적으로 구현: 120\n",
      "재귀적으로 구현: 120\n"
     ]
    }
   ],
   "source": [
    "# 재귀적으로 구현한 n!\n",
    "def factorial_recursive(n):        \n",
    "    if n <= 1: # n이 1 이하인 경우 1을 반환\n",
    "        return 1\n",
    "    # n! = n * (n - 1)!를 그대로 코드로 작성하기\n",
    "    return n * factorial_recursive(n - 1)\n"
   ]
  },
  {
   "cell_type": "code",
   "execution_count": 5,
   "metadata": {},
   "outputs": [
    {
     "name": "stdout",
     "output_type": "stream",
     "text": [
      "반복적으로 구현: 120\n",
      "재귀적으로 구현: 120\n"
     ]
    }
   ],
   "source": [
    "# 각각의 방식으로 구현한 n! 출력(n = 5)\n",
    "print('반복적으로 구현:', factorial_iterative(5))\n",
    "print('재귀적으로 구현:', factorial_recursive(5))"
   ]
  },
  {
   "cell_type": "code",
   "execution_count": 6,
   "metadata": {},
   "outputs": [
    {
     "name": "stdout",
     "output_type": "stream",
     "text": [
      "6\n"
     ]
    }
   ],
   "source": [
    "# 유클리드 호제법, 최대공약수\n",
    "def gcd(a,b):\n",
    "    if a % b == 0:\n",
    "        return b\n",
    "    else: \n",
    "        return gcd(b, a % b)\n",
    "print(gcd(192,162))\n"
   ]
  },
  {
   "cell_type": "code",
   "execution_count": 7,
   "metadata": {},
   "outputs": [],
   "source": [
    "# DFS 함수 정의\n",
    "def dfs(graph, v, visited):\n",
    "    # 현재 노드를 방문 처리\n",
    "    visited[v] = True\n",
    "    print(v, end=' ')\n",
    "    # 현재 노드와 연결된 다른 노드를 재귀적으로 방문\n",
    "    for i in graph[v]:\n",
    "        if not visited[i]:\n",
    "            dfs(graph, i, visited)"
   ]
  },
  {
   "cell_type": "code",
   "execution_count": 8,
   "metadata": {},
   "outputs": [
    {
     "name": "stdout",
     "output_type": "stream",
     "text": [
      "1 2 7 6 8 3 4 5 "
     ]
    }
   ],
   "source": [
    "\n",
    "# 각 노드가 연결된 정보를 리스트 자료형으로 표현(2차원 리스트)\n",
    "graph = [\n",
    "  [],\n",
    "  [2, 3, 8],\n",
    "  [1, 7],\n",
    "  [1, 4, 5],\n",
    "  [3, 5],\n",
    "  [3, 4],\n",
    "  [7],\n",
    "  [2, 6, 8],\n",
    "  [1, 7]\n",
    "]\n",
    "\n",
    "# 각 노드가 방문된 정보를 리스트 자료형으로 표현(1차원 리스트)\n",
    "visited = [False] * 9\n",
    "\n",
    "# 정의된 DFS 함수 호출\n",
    "dfs(graph, 1, visited)"
   ]
  },
  {
   "cell_type": "code",
   "execution_count": 9,
   "metadata": {},
   "outputs": [
    {
     "name": "stdout",
     "output_type": "stream",
     "text": [
      "1 2 3 8 7 4 5 6 "
     ]
    }
   ],
   "source": [
    "from collections import deque\n",
    "\n",
    "# BFS 함수 정의\n",
    "def bfs(graph, start, visited):\n",
    "    # 큐(Queue) 구현을 위해 deque 라이브러리 사용\n",
    "    queue = deque([start])\n",
    "    # 현재 노드를 방문 처리\n",
    "    visited[start] = True\n",
    "    # 큐가 빌 때까지 반복\n",
    "    while queue:\n",
    "        # 큐에서 하나의 원소를 뽑아 출력\n",
    "        v = queue.popleft()\n",
    "        print(v, end=' ')\n",
    "        # 해당 원소와 연결된, 아직 방문하지 않은 원소들을 큐에 삽입\n",
    "        for i in graph[v]:\n",
    "            if not visited[i]:\n",
    "                queue.append(i)\n",
    "                visited[i] = True\n",
    "\n",
    "# 각 노드가 연결된 정보를 리스트 자료형으로 표현(2차원 리스트)\n",
    "graph = [\n",
    "  [],\n",
    "  [2, 3, 8],\n",
    "  [1, 7],\n",
    "  [1, 4, 5],\n",
    "  [3, 5],\n",
    "  [3, 4],\n",
    "  [7],\n",
    "  [2, 6, 8],\n",
    "  [1, 7]\n",
    "]\n",
    "\n",
    "# 각 노드가 방문된 정보를 리스트 자료형으로 표현(1차원 리스트)\n",
    "visited = [False] * 9\n",
    "\n",
    "# 정의된 BFS 함수 호출\n",
    "bfs(graph, 1, visited)"
   ]
  },
  {
   "cell_type": "code",
   "execution_count": 2,
   "metadata": {},
   "outputs": [
    {
     "ename": "SyntaxError",
     "evalue": "unexpected character after line continuation character (Temp/ipykernel_9224/2977209654.py, line 1)",
     "output_type": "error",
     "traceback": [
      "\u001b[1;36m  File \u001b[1;32m\"C:\\Users\\sungh\\AppData\\Local\\Temp/ipykernel_9224/2977209654.py\"\u001b[1;36m, line \u001b[1;32m1\u001b[0m\n\u001b[1;33m    print('\\\\\"C:\\Download\\\\\\'hello\\\\'.py\\\\\"')\u001b[0m\n\u001b[1;37m                                            ^\u001b[0m\n\u001b[1;31mSyntaxError\u001b[0m\u001b[1;31m:\u001b[0m unexpected character after line continuation character\n"
     ]
    }
   ],
   "source": [
    "print('\\\\\"C:\\Download\\\\\\'hello\\\\'.py\\\\\"')"
   ]
  },
  {
   "cell_type": "code",
   "execution_count": null,
   "metadata": {},
   "outputs": [],
   "source": []
  }
 ],
 "metadata": {
  "interpreter": {
   "hash": "af94d671ea0f89aa2095c292ee8b31ce725140d7d9ecef1849c98e3ff3a7f05d"
  },
  "kernelspec": {
   "display_name": "Python 3.9.7 64-bit ('base': conda)",
   "language": "python",
   "name": "python3"
  },
  "language_info": {
   "codemirror_mode": {
    "name": "ipython",
    "version": 3
   },
   "file_extension": ".py",
   "mimetype": "text/x-python",
   "name": "python",
   "nbconvert_exporter": "python",
   "pygments_lexer": "ipython3",
   "version": "3.9.7"
  },
  "orig_nbformat": 4
 },
 "nbformat": 4,
 "nbformat_minor": 2
}
