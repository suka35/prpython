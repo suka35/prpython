{
 "cells": [
  {
   "cell_type": "code",
   "execution_count": 2,
   "metadata": {},
   "outputs": [
    {
     "name": "stdout",
     "output_type": "stream",
     "text": [
      "34\n"
     ]
    }
   ],
   "source": [
    "array = [4, 6, 5, 3, 7, 9]\n",
    "summary = 0\n",
    "for x in array:\n",
    "    summary += x\n",
    "print(summary)"
   ]
  },
  {
   "cell_type": "code",
   "execution_count": 3,
   "metadata": {},
   "outputs": [
    {
     "name": "stdout",
     "output_type": "stream",
     "text": [
      "16\n",
      "24\n",
      "20\n",
      "12\n",
      "28\n",
      "36\n",
      "24\n",
      "36\n",
      "30\n",
      "18\n",
      "42\n",
      "54\n",
      "20\n",
      "30\n",
      "25\n",
      "15\n",
      "35\n",
      "45\n",
      "12\n",
      "18\n",
      "15\n",
      "9\n",
      "21\n",
      "27\n",
      "28\n",
      "42\n",
      "35\n",
      "21\n",
      "49\n",
      "63\n",
      "36\n",
      "54\n",
      "45\n",
      "27\n",
      "63\n",
      "81\n"
     ]
    }
   ],
   "source": [
    "array = [4, 6, 5, 3, 7, 9]\n",
    "for i in array:\n",
    "    for j in array:\n",
    "        temp = i * j\n",
    "        print(temp)\n"
   ]
  },
  {
   "cell_type": "code",
   "execution_count": null,
   "metadata": {},
   "outputs": [],
   "source": []
  }
 ],
 "metadata": {
  "interpreter": {
   "hash": "af94d671ea0f89aa2095c292ee8b31ce725140d7d9ecef1849c98e3ff3a7f05d"
  },
  "kernelspec": {
   "display_name": "Python 3.9.7 64-bit ('base': conda)",
   "language": "python",
   "name": "python3"
  },
  "language_info": {
   "codemirror_mode": {
    "name": "ipython",
    "version": 3
   },
   "file_extension": ".py",
   "mimetype": "text/x-python",
   "name": "python",
   "nbconvert_exporter": "python",
   "pygments_lexer": "ipython3",
   "version": "3.9.7"
  },
  "orig_nbformat": 4
 },
 "nbformat": 4,
 "nbformat_minor": 2
}
